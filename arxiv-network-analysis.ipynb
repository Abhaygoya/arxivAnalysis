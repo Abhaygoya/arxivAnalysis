{
 "cells": [
  {
   "attachments": {},
   "cell_type": "markdown",
   "id": "087862e9",
   "metadata": {
    "papermill": {
     "duration": 0.027482,
     "end_time": "2022-09-16T20:55:06.531920",
     "exception": false,
     "start_time": "2022-09-16T20:55:06.504438",
     "status": "completed"
    },
    "tags": []
   },
   "source": [
    "# Arxiv coauthor network analysis\n",
    "\n",
    "The focus of this notebook is to analysis of structural properties in co-authored networks using centrality measures. We'll be testing this out on papers in the condensed matter physics category."
   ]
  },
  {
   "attachments": {},
   "cell_type": "markdown",
   "id": "986bae1f",
   "metadata": {},
   "source": [
    "### Load data and continue\n",
    "\n",
    "Once the separate data prep script has been run at least once, we can simply load the file here to do the analysis."
   ]
  },
  {
   "cell_type": "code",
   "execution_count": 1,
   "id": "e6276647",
   "metadata": {},
   "outputs": [
    {
     "data": {
      "text/html": [
       "<div>\n",
       "<style scoped>\n",
       "    .dataframe tbody tr th:only-of-type {\n",
       "        vertical-align: middle;\n",
       "    }\n",
       "\n",
       "    .dataframe tbody tr th {\n",
       "        vertical-align: top;\n",
       "    }\n",
       "\n",
       "    .dataframe thead th {\n",
       "        text-align: right;\n",
       "    }\n",
       "</style>\n",
       "<table border=\"1\" class=\"dataframe\">\n",
       "  <thead>\n",
       "    <tr style=\"text-align: right;\">\n",
       "      <th></th>\n",
       "      <th>id</th>\n",
       "      <th>title</th>\n",
       "      <th>category</th>\n",
       "      <th>abstract</th>\n",
       "      <th>version</th>\n",
       "      <th>doi</th>\n",
       "      <th>authors_parsed</th>\n",
       "      <th>num_authors</th>\n",
       "      <th>authors</th>\n",
       "      <th>DateTime</th>\n",
       "      <th>Day</th>\n",
       "      <th>Month</th>\n",
       "      <th>Year</th>\n",
       "      <th>author_pairs</th>\n",
       "    </tr>\n",
       "  </thead>\n",
       "  <tbody>\n",
       "    <tr>\n",
       "      <th>2980</th>\n",
       "      <td>0707.2312</td>\n",
       "      <td>Integer partitions and exclusion statistics: L...</td>\n",
       "      <td>cond-mat.stat-mech math-ph math.CO math.MP</td>\n",
       "      <td>We compute the limit shapes of the Young dia...</td>\n",
       "      <td>Fri, 14 Jan 2022 16:04:42 GMT</td>\n",
       "      <td>10.1088/1742-5468/2007/10/P10001</td>\n",
       "      <td>[[Comtet, Alain, ], [Majumdar, Satya N., ], [O...</td>\n",
       "      <td>4</td>\n",
       "      <td>[Comtet Alain, Majumdar Satya N., Ouvry Stepha...</td>\n",
       "      <td>2022-01-14 16:04:42+00:00</td>\n",
       "      <td>14</td>\n",
       "      <td>1</td>\n",
       "      <td>2022</td>\n",
       "      <td>[(Comtet Alain, Majumdar Satya N.), (Comtet Al...</td>\n",
       "    </tr>\n",
       "    <tr>\n",
       "      <th>6316</th>\n",
       "      <td>0711.0637</td>\n",
       "      <td>Symmetry breaking and quantum correlations in ...</td>\n",
       "      <td>cond-mat.mes-hall cond-mat.str-el nucl-th phys...</td>\n",
       "      <td>Investigations of emergent symmetry breaking...</td>\n",
       "      <td>Wed, 22 Dec 2021 21:51:53 GMT</td>\n",
       "      <td>10.1088/0034-4885/70/12/R02</td>\n",
       "      <td>[[Yannouleas, Constantine, ], [Landman, Uzi, ]]</td>\n",
       "      <td>2</td>\n",
       "      <td>[Yannouleas Constantine, Landman Uzi]</td>\n",
       "      <td>2021-12-22 21:51:53+00:00</td>\n",
       "      <td>22</td>\n",
       "      <td>12</td>\n",
       "      <td>2021</td>\n",
       "      <td>[(Yannouleas Constantine, Landman Uzi)]</td>\n",
       "    </tr>\n",
       "    <tr>\n",
       "      <th>7807</th>\n",
       "      <td>0712.4280</td>\n",
       "      <td>Dynamics of emergent Cooper pairing at finite ...</td>\n",
       "      <td>cond-mat.supr-con cond-mat.mes-hall</td>\n",
       "      <td>We study the time evolution of a system of f...</td>\n",
       "      <td>Sun, 18 Jul 2021 04:02:26 GMT</td>\n",
       "      <td>10.1103/PhysRevB.79.132504</td>\n",
       "      <td>[[Yuzbashyan, Emil A., ], [Tsyplyatyev, Oleksa...</td>\n",
       "      <td>2</td>\n",
       "      <td>[Yuzbashyan Emil A., Tsyplyatyev Oleksandr]</td>\n",
       "      <td>2021-07-18 04:02:26+00:00</td>\n",
       "      <td>18</td>\n",
       "      <td>7</td>\n",
       "      <td>2021</td>\n",
       "      <td>[(Yuzbashyan Emil A., Tsyplyatyev Oleksandr)]</td>\n",
       "    </tr>\n",
       "    <tr>\n",
       "      <th>13137</th>\n",
       "      <td>0806.3953</td>\n",
       "      <td>Short-distance thermal correlations in the XXZ...</td>\n",
       "      <td>cond-mat.str-el cond-mat.stat-mech hep-th</td>\n",
       "      <td>Recent studies have revealed much of the mat...</td>\n",
       "      <td>Mon, 29 Nov 2021 15:11:59 GMT</td>\n",
       "      <td>10.1088/1742-5468/2008/08/P08010</td>\n",
       "      <td>[[Boos, Herman E., ], [Damerau, Jens, ], [Göhm...</td>\n",
       "      <td>6</td>\n",
       "      <td>[Boos Herman E., Damerau Jens, Göhmann Frank, ...</td>\n",
       "      <td>2021-11-29 15:11:59+00:00</td>\n",
       "      <td>29</td>\n",
       "      <td>11</td>\n",
       "      <td>2021</td>\n",
       "      <td>[(Boos Herman E., Damerau Jens), (Boos Herman ...</td>\n",
       "    </tr>\n",
       "    <tr>\n",
       "      <th>13434</th>\n",
       "      <td>0807.0487</td>\n",
       "      <td>Low-energy effective theory of the toric code ...</td>\n",
       "      <td>cond-mat.other hep-lat hep-th quant-ph</td>\n",
       "      <td>We determine analytically the phase diagram ...</td>\n",
       "      <td>Wed, 3 Mar 2021 08:52:35 GMT</td>\n",
       "      <td>10.1103/PhysRevB.79.033109</td>\n",
       "      <td>[[Vidal, J., ], [Dusuel, S., ], [Schmidt, K. P...</td>\n",
       "      <td>3</td>\n",
       "      <td>[Vidal J., Dusuel S., Schmidt K. P.]</td>\n",
       "      <td>2021-03-03 08:52:35+00:00</td>\n",
       "      <td>3</td>\n",
       "      <td>3</td>\n",
       "      <td>2021</td>\n",
       "      <td>[(Vidal J., Dusuel S.), (Vidal J., Schmidt K. ...</td>\n",
       "    </tr>\n",
       "  </tbody>\n",
       "</table>\n",
       "</div>"
      ],
      "text/plain": [
       "              id                                              title  \\\n",
       "2980   0707.2312  Integer partitions and exclusion statistics: L...   \n",
       "6316   0711.0637  Symmetry breaking and quantum correlations in ...   \n",
       "7807   0712.4280  Dynamics of emergent Cooper pairing at finite ...   \n",
       "13137  0806.3953  Short-distance thermal correlations in the XXZ...   \n",
       "13434  0807.0487  Low-energy effective theory of the toric code ...   \n",
       "\n",
       "                                                category  \\\n",
       "2980          cond-mat.stat-mech math-ph math.CO math.MP   \n",
       "6316   cond-mat.mes-hall cond-mat.str-el nucl-th phys...   \n",
       "7807                 cond-mat.supr-con cond-mat.mes-hall   \n",
       "13137          cond-mat.str-el cond-mat.stat-mech hep-th   \n",
       "13434             cond-mat.other hep-lat hep-th quant-ph   \n",
       "\n",
       "                                                abstract  \\\n",
       "2980     We compute the limit shapes of the Young dia...   \n",
       "6316     Investigations of emergent symmetry breaking...   \n",
       "7807     We study the time evolution of a system of f...   \n",
       "13137    Recent studies have revealed much of the mat...   \n",
       "13434    We determine analytically the phase diagram ...   \n",
       "\n",
       "                             version                               doi  \\\n",
       "2980   Fri, 14 Jan 2022 16:04:42 GMT  10.1088/1742-5468/2007/10/P10001   \n",
       "6316   Wed, 22 Dec 2021 21:51:53 GMT       10.1088/0034-4885/70/12/R02   \n",
       "7807   Sun, 18 Jul 2021 04:02:26 GMT        10.1103/PhysRevB.79.132504   \n",
       "13137  Mon, 29 Nov 2021 15:11:59 GMT  10.1088/1742-5468/2008/08/P08010   \n",
       "13434   Wed, 3 Mar 2021 08:52:35 GMT        10.1103/PhysRevB.79.033109   \n",
       "\n",
       "                                          authors_parsed  num_authors  \\\n",
       "2980   [[Comtet, Alain, ], [Majumdar, Satya N., ], [O...            4   \n",
       "6316     [[Yannouleas, Constantine, ], [Landman, Uzi, ]]            2   \n",
       "7807   [[Yuzbashyan, Emil A., ], [Tsyplyatyev, Oleksa...            2   \n",
       "13137  [[Boos, Herman E., ], [Damerau, Jens, ], [Göhm...            6   \n",
       "13434  [[Vidal, J., ], [Dusuel, S., ], [Schmidt, K. P...            3   \n",
       "\n",
       "                                                 authors  \\\n",
       "2980   [Comtet Alain, Majumdar Satya N., Ouvry Stepha...   \n",
       "6316               [Yannouleas Constantine, Landman Uzi]   \n",
       "7807         [Yuzbashyan Emil A., Tsyplyatyev Oleksandr]   \n",
       "13137  [Boos Herman E., Damerau Jens, Göhmann Frank, ...   \n",
       "13434               [Vidal J., Dusuel S., Schmidt K. P.]   \n",
       "\n",
       "                       DateTime  Day  Month  Year  \\\n",
       "2980  2022-01-14 16:04:42+00:00   14      1  2022   \n",
       "6316  2021-12-22 21:51:53+00:00   22     12  2021   \n",
       "7807  2021-07-18 04:02:26+00:00   18      7  2021   \n",
       "13137 2021-11-29 15:11:59+00:00   29     11  2021   \n",
       "13434 2021-03-03 08:52:35+00:00    3      3  2021   \n",
       "\n",
       "                                            author_pairs  \n",
       "2980   [(Comtet Alain, Majumdar Satya N.), (Comtet Al...  \n",
       "6316             [(Yannouleas Constantine, Landman Uzi)]  \n",
       "7807       [(Yuzbashyan Emil A., Tsyplyatyev Oleksandr)]  \n",
       "13137  [(Boos Herman E., Damerau Jens), (Boos Herman ...  \n",
       "13434  [(Vidal J., Dusuel S.), (Vidal J., Schmidt K. ...  "
      ]
     },
     "execution_count": 1,
     "metadata": {},
     "output_type": "execute_result"
    }
   ],
   "source": [
    "import pandas as pd \n",
    "import numpy as np \n",
    "\n",
    "# import plotly.express as px\n",
    "# import matplotlib.pyplot as plt\n",
    "# import seaborn as sns\n",
    "import networkx as nx\n",
    "from networkx.algorithms.components.connected import connected_components\n",
    "\n",
    "import pyvis\n",
    "from pyvis.network import Network\n",
    "\n",
    "from collections import Counter\n",
    "\n",
    "data = pd.read_pickle('data/cond-mat-2021-2022.pkl')\n",
    "data.head()"
   ]
  },
  {
   "cell_type": "code",
   "execution_count": 2,
   "id": "6fe7e922",
   "metadata": {
    "execution": {
     "iopub.execute_input": "2022-09-16T20:59:55.039940Z",
     "iopub.status.busy": "2022-09-16T20:59:55.038872Z",
     "iopub.status.idle": "2022-09-16T20:59:55.045433Z",
     "shell.execute_reply": "2022-09-16T20:59:55.044057Z"
    },
    "papermill": {
     "duration": 0.033725,
     "end_time": "2022-09-16T20:59:55.047702",
     "exception": false,
     "start_time": "2022-09-16T20:59:55.013977",
     "status": "completed"
    },
    "tags": []
   },
   "outputs": [
    {
     "data": {
      "text/html": [
       "<div>\n",
       "<style scoped>\n",
       "    .dataframe tbody tr th:only-of-type {\n",
       "        vertical-align: middle;\n",
       "    }\n",
       "\n",
       "    .dataframe tbody tr th {\n",
       "        vertical-align: top;\n",
       "    }\n",
       "\n",
       "    .dataframe thead th {\n",
       "        text-align: right;\n",
       "    }\n",
       "</style>\n",
       "<table border=\"1\" class=\"dataframe\">\n",
       "  <thead>\n",
       "    <tr style=\"text-align: right;\">\n",
       "      <th></th>\n",
       "      <th>authors</th>\n",
       "    </tr>\n",
       "  </thead>\n",
       "  <tbody>\n",
       "    <tr>\n",
       "      <th>0</th>\n",
       "      <td>Comtet Alain</td>\n",
       "    </tr>\n",
       "    <tr>\n",
       "      <th>1</th>\n",
       "      <td>Majumdar Satya N.</td>\n",
       "    </tr>\n",
       "    <tr>\n",
       "      <th>2</th>\n",
       "      <td>Ouvry Stephane</td>\n",
       "    </tr>\n",
       "    <tr>\n",
       "      <th>3</th>\n",
       "      <td>Sabhapandit Sanjib</td>\n",
       "    </tr>\n",
       "    <tr>\n",
       "      <th>4</th>\n",
       "      <td>Yannouleas Constantine</td>\n",
       "    </tr>\n",
       "  </tbody>\n",
       "</table>\n",
       "</div>"
      ],
      "text/plain": [
       "                  authors\n",
       "0            Comtet Alain\n",
       "1       Majumdar Satya N.\n",
       "2          Ouvry Stephane\n",
       "3      Sabhapandit Sanjib\n",
       "4  Yannouleas Constantine"
      ]
     },
     "execution_count": 2,
     "metadata": {},
     "output_type": "execute_result"
    }
   ],
   "source": [
    "def flattenList(nested_list):\n",
    "    flat_list = [item for sublist in nested_list for item in sublist]\n",
    "    return flat_list\n",
    "\n",
    "astro_authors=pd.DataFrame(flattenList(data['authors'].tolist())).rename(columns={0:'authors'})\n",
    "# astro_authors=pd.DataFrame(data['authors'].tolist()).rename(columns={0:'authors'})\n",
    "astro_authors.head()"
   ]
  },
  {
   "cell_type": "code",
   "execution_count": 3,
   "id": "b14e4d25",
   "metadata": {
    "execution": {
     "iopub.execute_input": "2022-09-16T20:59:55.096910Z",
     "iopub.status.busy": "2022-09-16T20:59:55.096476Z",
     "iopub.status.idle": "2022-09-16T20:59:55.232488Z",
     "shell.execute_reply": "2022-09-16T20:59:55.231246Z"
    },
    "papermill": {
     "duration": 0.164434,
     "end_time": "2022-09-16T20:59:55.235252",
     "exception": false,
     "start_time": "2022-09-16T20:59:55.070818",
     "status": "completed"
    },
    "tags": []
   },
   "outputs": [
    {
     "data": {
      "text/plain": [
       "(97878, 2)"
      ]
     },
     "execution_count": 3,
     "metadata": {},
     "output_type": "execute_result"
    }
   ],
   "source": [
    "papers_by_authors=astro_authors.groupby(['authors']).size().reset_index().rename(columns={0:'Number of Papers Published'}).sort_values(\"Number of Papers Published\",ascending=False)\n",
    "papers_by_authors.shape"
   ]
  },
  {
   "cell_type": "code",
   "execution_count": 4,
   "id": "5b51d333",
   "metadata": {},
   "outputs": [
    {
     "data": {
      "text/html": [
       "<div>\n",
       "<style scoped>\n",
       "    .dataframe tbody tr th:only-of-type {\n",
       "        vertical-align: middle;\n",
       "    }\n",
       "\n",
       "    .dataframe tbody tr th {\n",
       "        vertical-align: top;\n",
       "    }\n",
       "\n",
       "    .dataframe thead th {\n",
       "        text-align: right;\n",
       "    }\n",
       "</style>\n",
       "<table border=\"1\" class=\"dataframe\">\n",
       "  <thead>\n",
       "    <tr style=\"text-align: right;\">\n",
       "      <th></th>\n",
       "      <th>authors</th>\n",
       "      <th>Number of Papers Published</th>\n",
       "    </tr>\n",
       "  </thead>\n",
       "  <tbody>\n",
       "    <tr>\n",
       "      <th>80907</th>\n",
       "      <td>Taniguchi Takashi</td>\n",
       "      <td>378</td>\n",
       "    </tr>\n",
       "    <tr>\n",
       "      <th>87637</th>\n",
       "      <td>Watanabe Kenji</td>\n",
       "      <td>377</td>\n",
       "    </tr>\n",
       "    <tr>\n",
       "      <th>21775</th>\n",
       "      <td>Felser Claudia</td>\n",
       "      <td>69</td>\n",
       "    </tr>\n",
       "    <tr>\n",
       "      <th>80904</th>\n",
       "      <td>Taniguchi T.</td>\n",
       "      <td>63</td>\n",
       "    </tr>\n",
       "    <tr>\n",
       "      <th>37366</th>\n",
       "      <td>Kalinin Sergei V.</td>\n",
       "      <td>61</td>\n",
       "    </tr>\n",
       "    <tr>\n",
       "      <th>...</th>\n",
       "      <td>...</td>\n",
       "      <td>...</td>\n",
       "    </tr>\n",
       "    <tr>\n",
       "      <th>40068</th>\n",
       "      <td>Kiselev Egor</td>\n",
       "      <td>1</td>\n",
       "    </tr>\n",
       "    <tr>\n",
       "      <th>40067</th>\n",
       "      <td>Kiselev Dmitry A.</td>\n",
       "      <td>1</td>\n",
       "    </tr>\n",
       "    <tr>\n",
       "      <th>40065</th>\n",
       "      <td>Kiselev Andrei</td>\n",
       "      <td>1</td>\n",
       "    </tr>\n",
       "    <tr>\n",
       "      <th>40063</th>\n",
       "      <td>Kiselev Alexander</td>\n",
       "      <td>1</td>\n",
       "    </tr>\n",
       "    <tr>\n",
       "      <th>48939</th>\n",
       "      <td>Lu Qinwen</td>\n",
       "      <td>1</td>\n",
       "    </tr>\n",
       "  </tbody>\n",
       "</table>\n",
       "<p>97878 rows × 2 columns</p>\n",
       "</div>"
      ],
      "text/plain": [
       "                 authors  Number of Papers Published\n",
       "80907  Taniguchi Takashi                         378\n",
       "87637     Watanabe Kenji                         377\n",
       "21775     Felser Claudia                          69\n",
       "80904       Taniguchi T.                          63\n",
       "37366  Kalinin Sergei V.                          61\n",
       "...                  ...                         ...\n",
       "40068       Kiselev Egor                           1\n",
       "40067  Kiselev Dmitry A.                           1\n",
       "40065     Kiselev Andrei                           1\n",
       "40063  Kiselev Alexander                           1\n",
       "48939          Lu Qinwen                           1\n",
       "\n",
       "[97878 rows x 2 columns]"
      ]
     },
     "execution_count": 4,
     "metadata": {},
     "output_type": "execute_result"
    }
   ],
   "source": [
    "papers_by_authors"
   ]
  },
  {
   "cell_type": "code",
   "execution_count": 5,
   "id": "6f2956f0",
   "metadata": {
    "execution": {
     "iopub.execute_input": "2022-09-16T20:59:55.358431Z",
     "iopub.status.busy": "2022-09-16T20:59:55.357283Z",
     "iopub.status.idle": "2022-09-16T20:59:55.367804Z",
     "shell.execute_reply": "2022-09-16T20:59:55.366948Z"
    },
    "papermill": {
     "duration": 0.037478,
     "end_time": "2022-09-16T20:59:55.369853",
     "exception": false,
     "start_time": "2022-09-16T20:59:55.332375",
     "status": "completed"
    },
    "tags": []
   },
   "outputs": [
    {
     "data": {
      "text/plain": [
       "20574"
      ]
     },
     "execution_count": 5,
     "metadata": {},
     "output_type": "execute_result"
    }
   ],
   "source": [
    "# Keeping Authors who have published more than 2 Papers\n",
    "nodes_to_keep=papers_by_authors.loc[papers_by_authors['Number of Papers Published']>2,'authors'].tolist()\n",
    "len(nodes_to_keep)"
   ]
  },
  {
   "attachments": {},
   "cell_type": "markdown",
   "id": "3e57045f",
   "metadata": {
    "papermill": {
     "duration": 0.024164,
     "end_time": "2022-09-16T20:59:55.417669",
     "exception": false,
     "start_time": "2022-09-16T20:59:55.393505",
     "status": "completed"
    },
    "tags": []
   },
   "source": [
    "# Generating the Edges of the Co-Author Network\n",
    "\n",
    "Here we generate a graph of coauthors. Each node represents an author, and edges indicate that two authors have published a paper together."
   ]
  },
  {
   "cell_type": "code",
   "execution_count": 6,
   "id": "9c64125d",
   "metadata": {
    "execution": {
     "iopub.execute_input": "2022-09-16T20:59:55.468535Z",
     "iopub.status.busy": "2022-09-16T20:59:55.468002Z",
     "iopub.status.idle": "2022-09-16T20:59:55.615339Z",
     "shell.execute_reply": "2022-09-16T20:59:55.614206Z"
    },
    "papermill": {
     "duration": 0.175837,
     "end_time": "2022-09-16T20:59:55.618101",
     "exception": false,
     "start_time": "2022-09-16T20:59:55.442264",
     "status": "completed"
    },
    "tags": []
   },
   "outputs": [
    {
     "data": {
      "text/plain": [
       "[('Comtet Alain', 'Majumdar Satya N.', 1),\n",
       " ('Comtet Alain', 'Ouvry Stephane', 1),\n",
       " ('Comtet Alain', 'Sabhapandit Sanjib', 1),\n",
       " ('Majumdar Satya N.', 'Ouvry Stephane', 1),\n",
       " ('Majumdar Satya N.', 'Sabhapandit Sanjib', 3),\n",
       " ('Ouvry Stephane', 'Sabhapandit Sanjib', 1),\n",
       " ('Yannouleas Constantine', 'Landman Uzi', 6),\n",
       " ('Yuzbashyan Emil A.', 'Tsyplyatyev Oleksandr', 1),\n",
       " ('Boos Herman E.', 'Damerau Jens', 1),\n",
       " ('Boos Herman E.', 'Göhmann Frank', 1)]"
      ]
     },
     "execution_count": 6,
     "metadata": {},
     "output_type": "execute_result"
    }
   ],
   "source": [
    "authors_pairs=data['author_pairs'].tolist()\n",
    "authors_edge_list=[item for sublist in authors_pairs for item in sublist]\n",
    "authors_weighted_edge_list=list(Counter(authors_edge_list).items())\n",
    "authors_weighted_edge_list=[(row[0][0],row[0][1],row[1]) for idx,row in enumerate(authors_weighted_edge_list)]\n",
    "authors_weighted_edge_list[0:10]"
   ]
  },
  {
   "cell_type": "code",
   "execution_count": 7,
   "id": "18c27577",
   "metadata": {
    "execution": {
     "iopub.execute_input": "2022-09-16T20:59:55.668457Z",
     "iopub.status.busy": "2022-09-16T20:59:55.667951Z",
     "iopub.status.idle": "2022-09-16T20:59:55.984482Z",
     "shell.execute_reply": "2022-09-16T20:59:55.983107Z"
    },
    "papermill": {
     "duration": 0.345191,
     "end_time": "2022-09-16T20:59:55.987523",
     "exception": false,
     "start_time": "2022-09-16T20:59:55.642332",
     "status": "completed"
    },
    "tags": []
   },
   "outputs": [
    {
     "name": "stdout",
     "output_type": "stream",
     "text": [
      "96964\n"
     ]
    }
   ],
   "source": [
    "G1=nx.Graph()\n",
    "G1.add_weighted_edges_from(authors_weighted_edge_list)\n",
    "print(len(G1.nodes()))"
   ]
  },
  {
   "cell_type": "code",
   "execution_count": 8,
   "id": "37f82008",
   "metadata": {
    "execution": {
     "iopub.execute_input": "2022-09-16T20:59:56.038953Z",
     "iopub.status.busy": "2022-09-16T20:59:56.038523Z",
     "iopub.status.idle": "2022-09-16T20:59:56.475623Z",
     "shell.execute_reply": "2022-09-16T20:59:56.473834Z"
    },
    "papermill": {
     "duration": 0.465728,
     "end_time": "2022-09-16T20:59:56.478069",
     "exception": false,
     "start_time": "2022-09-16T20:59:56.012341",
     "status": "completed"
    },
    "tags": []
   },
   "outputs": [
    {
     "name": "stdout",
     "output_type": "stream",
     "text": [
      "20506\n"
     ]
    },
    {
     "data": {
      "text/plain": [
       "382"
      ]
     },
     "execution_count": 8,
     "metadata": {},
     "output_type": "execute_result"
    }
   ],
   "source": [
    "sub_g=nx.subgraph(G1,nodes_to_keep)\n",
    "G=nx.Graph(sub_g)\n",
    "print(len(G.nodes()))\n",
    "isolated_node=nx.isolates(G)\n",
    "len(list(isolated_node))"
   ]
  },
  {
   "cell_type": "code",
   "execution_count": 9,
   "id": "79778e1a",
   "metadata": {
    "execution": {
     "iopub.execute_input": "2022-09-16T20:59:56.529134Z",
     "iopub.status.busy": "2022-09-16T20:59:56.528707Z",
     "iopub.status.idle": "2022-09-16T20:59:56.546829Z",
     "shell.execute_reply": "2022-09-16T20:59:56.545343Z"
    },
    "papermill": {
     "duration": 0.046722,
     "end_time": "2022-09-16T20:59:56.549916",
     "exception": false,
     "start_time": "2022-09-16T20:59:56.503194",
     "status": "completed"
    },
    "tags": []
   },
   "outputs": [
    {
     "data": {
      "text/plain": [
       "20124"
      ]
     },
     "execution_count": 9,
     "metadata": {},
     "output_type": "execute_result"
    }
   ],
   "source": [
    "G.remove_nodes_from(list(nx.isolates(G)))\n",
    "len(G.nodes)"
   ]
  },
  {
   "cell_type": "code",
   "execution_count": 10,
   "id": "015f3fd5",
   "metadata": {
    "execution": {
     "iopub.execute_input": "2022-09-16T20:59:56.601284Z",
     "iopub.status.busy": "2022-09-16T20:59:56.600487Z",
     "iopub.status.idle": "2022-09-16T20:59:56.650893Z",
     "shell.execute_reply": "2022-09-16T20:59:56.649341Z"
    },
    "papermill": {
     "duration": 0.079609,
     "end_time": "2022-09-16T20:59:56.654132",
     "exception": false,
     "start_time": "2022-09-16T20:59:56.574523",
     "status": "completed"
    },
    "tags": []
   },
   "outputs": [],
   "source": [
    "del G1, sub_g"
   ]
  },
  {
   "cell_type": "code",
   "execution_count": 11,
   "id": "1c8d3248",
   "metadata": {
    "execution": {
     "iopub.execute_input": "2022-09-16T20:59:56.706178Z",
     "iopub.status.busy": "2022-09-16T20:59:56.705726Z",
     "iopub.status.idle": "2022-09-16T20:59:56.718746Z",
     "shell.execute_reply": "2022-09-16T20:59:56.717098Z"
    },
    "papermill": {
     "duration": 0.043524,
     "end_time": "2022-09-16T20:59:56.722873",
     "exception": false,
     "start_time": "2022-09-16T20:59:56.679349",
     "status": "completed"
    },
    "tags": []
   },
   "outputs": [
    {
     "name": "stdout",
     "output_type": "stream",
     "text": [
      "Number of Nodes in Author Graph  20124\n",
      "Number of Edges in AUthor Graph  155870\n"
     ]
    }
   ],
   "source": [
    "print(\"Number of Nodes in Author Graph \",len(G.nodes()))\n",
    "print(\"Number of Edges in AUthor Graph \",len(G.edges()))"
   ]
  },
  {
   "cell_type": "code",
   "execution_count": 12,
   "id": "4bff9fd2",
   "metadata": {
    "execution": {
     "iopub.execute_input": "2022-09-16T21:00:55.563738Z",
     "iopub.status.busy": "2022-09-16T21:00:55.563285Z",
     "iopub.status.idle": "2022-09-16T21:00:55.570815Z",
     "shell.execute_reply": "2022-09-16T21:00:55.569326Z"
    },
    "papermill": {
     "duration": 0.036347,
     "end_time": "2022-09-16T21:00:55.573273",
     "exception": false,
     "start_time": "2022-09-16T21:00:55.536926",
     "status": "completed"
    },
    "tags": []
   },
   "outputs": [],
   "source": [
    "def getCoAuthorshipNetwork(graph,initial_nodes):\n",
    "    total_neighbours=0\n",
    "    nodes_set=[initial_nodes]\n",
    "    for node in initial_nodes:\n",
    "        #print(node)\n",
    "        neighbours=list(graph.neighbors(node))\n",
    "        total_neighbours=total_neighbours+len(neighbours)\n",
    "        \n",
    "        nodes_set.append(neighbours)\n",
    "    # print(total_neighbours)\n",
    "    nodes_set=flattenList(nodes_set)\n",
    "    return list(set(nodes_set))"
   ]
  },
  {
   "attachments": {},
   "cell_type": "markdown",
   "id": "ea91d897",
   "metadata": {},
   "source": [
    "## Subgraph visualization\n",
    "\n",
    "To get an idea of what the network looks like, we'll select a small subgraph of the full coauthor network and visualize it."
   ]
  },
  {
   "cell_type": "code",
   "execution_count": 57,
   "id": "c3c9275d",
   "metadata": {
    "execution": {
     "iopub.execute_input": "2022-09-16T21:00:55.624877Z",
     "iopub.status.busy": "2022-09-16T21:00:55.624445Z",
     "iopub.status.idle": "2022-09-16T21:00:55.634735Z",
     "shell.execute_reply": "2022-09-16T21:00:55.633082Z"
    },
    "papermill": {
     "duration": 0.039594,
     "end_time": "2022-09-16T21:00:55.637594",
     "exception": false,
     "start_time": "2022-09-16T21:00:55.598000",
     "status": "completed"
    },
    "tags": []
   },
   "outputs": [
    {
     "name": "stdout",
     "output_type": "stream",
     "text": [
      "Number of Selected CoAuthors  2\n",
      "['Goyal Abhay', 'Del Gado Emanuela']\n",
      "Number of papers by selected coauthors: \n",
      "27107    5\n",
      "Name: Number of Papers Published, dtype: int64\n",
      "17056    9\n",
      "Name: Number of Papers Published, dtype: int64\n",
      "Number of CoAuthor Nodes  13\n",
      "number of edges in the CoAuthor Subgraph  25\n"
     ]
    }
   ],
   "source": [
    "# selected_coauthors = papers_by_authors['authors'].tolist()[2155:2157]\n",
    "selected_coauthors = ['Goyal Abhay','Del Gado Emanuela']\n",
    "print(\"Number of Selected CoAuthors \",len(selected_coauthors))\n",
    "print(selected_coauthors)\n",
    "\n",
    "print(\"Number of papers by selected coauthors: \")\n",
    "for author in selected_coauthors:\n",
    "    print(papers_by_authors[papers_by_authors['authors']==author]['Number of Papers Published'])\n",
    "\n",
    "coauthor_nodes=getCoAuthorshipNetwork(G,selected_coauthors)\n",
    "print(\"Number of CoAuthor Nodes \",len(coauthor_nodes))\n",
    "\n",
    "coauthor_subgraph=nx.subgraph(G,coauthor_nodes)\n",
    "print(\"number of edges in the CoAuthor Subgraph \",len(coauthor_subgraph.edges()))"
   ]
  },
  {
   "cell_type": "code",
   "execution_count": 58,
   "id": "b26bd421",
   "metadata": {
    "execution": {
     "iopub.execute_input": "2022-09-16T21:00:55.899241Z",
     "iopub.status.busy": "2022-09-16T21:00:55.898770Z",
     "iopub.status.idle": "2022-09-16T21:00:55.951782Z",
     "shell.execute_reply": "2022-09-16T21:00:55.950497Z"
    },
    "papermill": {
     "duration": 0.082852,
     "end_time": "2022-09-16T21:00:55.955315",
     "exception": false,
     "start_time": "2022-09-16T21:00:55.872463",
     "status": "completed"
    },
    "tags": []
   },
   "outputs": [
    {
     "name": "stdout",
     "output_type": "stream",
     "text": [
      "Warning: When  cdn_resources is 'local' jupyter notebook has issues displaying graphics on chrome/safari. Use cdn_resources='in_line' or cdn_resources='remote' if you have issues viewing graphics in a notebook.\n"
     ]
    }
   ],
   "source": [
    "pyvis_nt=Network(notebook=True,height='800px', width='100%',heading='')\n",
    "\n",
    "pyvis_nt.from_nx(coauthor_subgraph)\n",
    "\n",
    "# pyvis_nt.show(\"output/Author18to20_CoAuthorGraph.html\")\n",
    "pyvis_nt.save_graph(\"output/GoyalDelGado_CoAuthorGraph.html\")"
   ]
  },
  {
   "attachments": {},
   "cell_type": "markdown",
   "id": "8a76bec7",
   "metadata": {
    "papermill": {
     "duration": 0.025614,
     "end_time": "2022-09-16T21:00:56.005941",
     "exception": false,
     "start_time": "2022-09-16T21:00:55.980327",
     "status": "completed"
    },
    "tags": []
   },
   "source": [
    "# Network metrics: centrality\n",
    "\n",
    "Centrality is a term used to describe the ranking of \"importance\" of nodes in networks. There are numerous ways to define/calculate centrality, each with their own interpretations. Below we calculate a few of these metrics for the coauthor network.\n",
    "\n",
    "## Degree Centrality\n",
    "The degtee of a node is the number oof other nodes to which it is connected\n",
    "It is calculated by taking the degree of the node and dividing by n-1 where n is the number of nodes in G"
   ]
  },
  {
   "cell_type": "code",
   "execution_count": 13,
   "id": "64ee8177",
   "metadata": {
    "execution": {
     "iopub.execute_input": "2022-09-16T21:00:56.058986Z",
     "iopub.status.busy": "2022-09-16T21:00:56.058544Z",
     "iopub.status.idle": "2022-09-16T21:00:56.074951Z",
     "shell.execute_reply": "2022-09-16T21:00:56.073505Z"
    },
    "papermill": {
     "duration": 0.047057,
     "end_time": "2022-09-16T21:00:56.078164",
     "exception": false,
     "start_time": "2022-09-16T21:00:56.031107",
     "status": "completed"
    },
    "scrolled": true,
    "tags": []
   },
   "outputs": [],
   "source": [
    "degree_centrality = nx.degree_centrality(G)"
   ]
  },
  {
   "cell_type": "code",
   "execution_count": 14,
   "id": "7773b25d",
   "metadata": {
    "execution": {
     "iopub.execute_input": "2022-09-16T21:00:56.130386Z",
     "iopub.status.busy": "2022-09-16T21:00:56.129913Z",
     "iopub.status.idle": "2022-09-16T21:00:56.140569Z",
     "shell.execute_reply": "2022-09-16T21:00:56.139068Z"
    },
    "papermill": {
     "duration": 0.040959,
     "end_time": "2022-09-16T21:00:56.144326",
     "exception": false,
     "start_time": "2022-09-16T21:00:56.103367",
     "status": "completed"
    },
    "tags": []
   },
   "outputs": [
    {
     "name": "stdout",
     "output_type": "stream",
     "text": [
      "Taniguchi Takashi 0.05372\n",
      "Watanabe Kenji 0.05372\n",
      "Felser Claudia 0.01471\n",
      "Shi Youguo 0.01307\n",
      "Yan Binghai 0.01128\n",
      "Lei Hechang 0.01063\n",
      "Taniguchi T. 0.01029\n",
      "Yao Yugui 0.01019\n",
      "Gu Genda 0.00934\n",
      "Zhang Qinghua 0.00934\n",
      "Hashimoto Makoto 0.00929\n",
      "Dai Pengcheng 0.00909\n",
      "Gu Lin 0.00894\n",
      "Rotenberg Eli 0.00894\n",
      "Yan Jiaqiang 0.00865\n",
      "Moessner Roderich 0.00860\n",
      "Wilson Stephen D. 0.00860\n",
      "Jozwiak Chris 0.00845\n",
      "Bostwick Aaron 0.00840\n",
      "Lu Donghui 0.00805\n"
     ]
    }
   ],
   "source": [
    "# Top 10\n",
    "counter = 0\n",
    "for w in sorted(degree_centrality, key = degree_centrality.get, reverse = True):\n",
    "    counter = counter + 1\n",
    "    if counter == 21:\n",
    "        break\n",
    "    print(w,\"{:0.5f}\".format(degree_centrality[w]))"
   ]
  },
  {
   "attachments": {},
   "cell_type": "markdown",
   "id": "0b5beeda",
   "metadata": {
    "papermill": {
     "duration": 0.024873,
     "end_time": "2022-09-16T21:00:56.195251",
     "exception": false,
     "start_time": "2022-09-16T21:00:56.170378",
     "status": "completed"
    },
    "tags": []
   },
   "source": [
    "## Closeness Centrality\n",
    "Closeness centrality measures the mean distance from one node to any other node. The more central a node is, the closer it is to all the other nodes. The closeness of a node is typically referred to in its normalized form"
   ]
  },
  {
   "cell_type": "code",
   "execution_count": 15,
   "id": "6a5bceb3",
   "metadata": {
    "execution": {
     "iopub.execute_input": "2022-09-16T21:00:56.247684Z",
     "iopub.status.busy": "2022-09-16T21:00:56.247236Z",
     "iopub.status.idle": "2022-09-16T21:03:11.208652Z",
     "shell.execute_reply": "2022-09-16T21:03:11.206736Z"
    },
    "papermill": {
     "duration": 134.991852,
     "end_time": "2022-09-16T21:03:11.212423",
     "exception": false,
     "start_time": "2022-09-16T21:00:56.220571",
     "status": "completed"
    },
    "scrolled": true,
    "tags": []
   },
   "outputs": [],
   "source": [
    "closeness_centrality = nx.closeness_centrality(G)"
   ]
  },
  {
   "cell_type": "code",
   "execution_count": 16,
   "id": "3c4e996f",
   "metadata": {
    "execution": {
     "iopub.execute_input": "2022-09-16T21:03:11.266913Z",
     "iopub.status.busy": "2022-09-16T21:03:11.266466Z",
     "iopub.status.idle": "2022-09-16T21:03:11.278616Z",
     "shell.execute_reply": "2022-09-16T21:03:11.277085Z"
    },
    "papermill": {
     "duration": 0.04339,
     "end_time": "2022-09-16T21:03:11.282319",
     "exception": false,
     "start_time": "2022-09-16T21:03:11.238929",
     "status": "completed"
    },
    "scrolled": true,
    "tags": []
   },
   "outputs": [
    {
     "name": "stdout",
     "output_type": "stream",
     "text": [
      "Taniguchi Takashi 0.32711\n",
      "Watanabe Kenji 0.32695\n",
      "Felser Claudia 0.29256\n",
      "Yan Binghai 0.28956\n",
      "Lei Hechang 0.28596\n",
      "Zhang Qi 0.27991\n",
      "Wang Qi 0.27909\n",
      "Rotenberg Eli 0.27807\n",
      "Shi Youguo 0.27804\n",
      "Jozwiak Chris 0.27794\n",
      "Chen Yulin 0.27772\n",
      "Bostwick Aaron 0.27758\n",
      "Dai Pengcheng 0.27754\n",
      "Ma Jie 0.27740\n",
      "Zong Alfred 0.27740\n",
      "Yazyev Oleg V. 0.27715\n",
      "Yan Jiaqiang 0.27712\n",
      "Wang Yao 0.27698\n",
      "Chu Jiun-Haw 0.27677\n",
      "Chang Tay-Rong 0.27645\n",
      "Liu Yang 0.27624\n",
      "Xu Xiaodong 0.27545\n"
     ]
    }
   ],
   "source": [
    "# Top 10\n",
    "counter = 0\n",
    "for w in sorted(closeness_centrality, key = closeness_centrality.get, reverse = True):\n",
    "    counter = counter + 1\n",
    "    if counter == 23:\n",
    "        break\n",
    "    print(w,\"{:0.5f}\".format(closeness_centrality[w]))"
   ]
  },
  {
   "attachments": {},
   "cell_type": "markdown",
   "id": "5a1cd149",
   "metadata": {
    "papermill": {
     "duration": 0.026174,
     "end_time": "2022-09-16T21:03:11.385576",
     "exception": false,
     "start_time": "2022-09-16T21:03:11.359402",
     "status": "completed"
    },
    "tags": []
   },
   "source": [
    "## Betweenness Centrality\n",
    "It quantifies the number of times a node acts as a bridge along the shortest path between two other nodes\n",
    "Vectices that have a high probability to occur on a randomly chosen shortest path between two randomly chosen verticles have a high betweenness"
   ]
  },
  {
   "cell_type": "code",
   "execution_count": 17,
   "id": "6aecba94",
   "metadata": {
    "execution": {
     "iopub.execute_input": "2022-09-16T21:03:11.439960Z",
     "iopub.status.busy": "2022-09-16T21:03:11.439511Z",
     "iopub.status.idle": "2022-09-16T21:11:01.199392Z",
     "shell.execute_reply": "2022-09-16T21:11:01.197691Z"
    },
    "papermill": {
     "duration": 469.792221,
     "end_time": "2022-09-16T21:11:01.203621",
     "exception": false,
     "start_time": "2022-09-16T21:03:11.411400",
     "status": "completed"
    },
    "tags": []
   },
   "outputs": [
    {
     "ename": "KeyboardInterrupt",
     "evalue": "",
     "output_type": "error",
     "traceback": [
      "\u001b[1;31m---------------------------------------------------------------------------\u001b[0m",
      "\u001b[1;31mKeyboardInterrupt\u001b[0m                         Traceback (most recent call last)",
      "\u001b[1;32mc:\\Users\\abhay\\Dropbox\\Valence\\valueAttribution\\arxivAnalysis\\arxiv-network-analysis.ipynb Cell 26\u001b[0m in \u001b[0;36m1\n\u001b[1;32m----> <a href='vscode-notebook-cell:/c%3A/Users/abhay/Dropbox/Valence/valueAttribution/arxivAnalysis/arxiv-network-analysis.ipynb#X34sZmlsZQ%3D%3D?line=0'>1</a>\u001b[0m betweenness_centrality \u001b[39m=\u001b[39m nx\u001b[39m.\u001b[39;49mbetweenness_centrality(G)\n",
      "File \u001b[1;32mc:\\Users\\abhay\\AppData\\Local\\Programs\\Python\\Python310\\lib\\site-packages\\networkx\\classes\\backends.py:148\u001b[0m, in \u001b[0;36m_dispatch.<locals>.wrapper\u001b[1;34m(*args, **kwds)\u001b[0m\n\u001b[0;32m    144\u001b[0m         \u001b[39melse\u001b[39;00m:\n\u001b[0;32m    145\u001b[0m             \u001b[39mraise\u001b[39;00m NetworkXNotImplemented(\n\u001b[0;32m    146\u001b[0m                 \u001b[39mf\u001b[39m\u001b[39m\"\u001b[39m\u001b[39m'\u001b[39m\u001b[39m{\u001b[39;00mname\u001b[39m}\u001b[39;00m\u001b[39m'\u001b[39m\u001b[39m not implemented by \u001b[39m\u001b[39m{\u001b[39;00mplugin_name\u001b[39m}\u001b[39;00m\u001b[39m\"\u001b[39m\n\u001b[0;32m    147\u001b[0m             )\n\u001b[1;32m--> 148\u001b[0m \u001b[39mreturn\u001b[39;00m func(\u001b[39m*\u001b[39margs, \u001b[39m*\u001b[39m\u001b[39m*\u001b[39mkwds)\n",
      "File \u001b[1;32mc:\\Users\\abhay\\AppData\\Local\\Programs\\Python\\Python310\\lib\\site-packages\\networkx\\utils\\decorators.py:766\u001b[0m, in \u001b[0;36margmap.__call__.<locals>.func\u001b[1;34m(_argmap__wrapper, *args, **kwargs)\u001b[0m\n\u001b[0;32m    765\u001b[0m \u001b[39mdef\u001b[39;00m \u001b[39mfunc\u001b[39m(\u001b[39m*\u001b[39margs, __wrapper\u001b[39m=\u001b[39m\u001b[39mNone\u001b[39;00m, \u001b[39m*\u001b[39m\u001b[39m*\u001b[39mkwargs):\n\u001b[1;32m--> 766\u001b[0m     \u001b[39mreturn\u001b[39;00m argmap\u001b[39m.\u001b[39m_lazy_compile(__wrapper)(\u001b[39m*\u001b[39margs, \u001b[39m*\u001b[39m\u001b[39m*\u001b[39mkwargs)\n",
      "File \u001b[1;32m<class 'networkx.utils.decorators.argmap'> compilation 8:4\u001b[0m, in \u001b[0;36margmap_betweenness_centrality_5\u001b[1;34m(G, k, normalized, weight, endpoints, seed)\u001b[0m\n\u001b[0;32m      2\u001b[0m \u001b[39mimport\u001b[39;00m \u001b[39mcollections\u001b[39;00m\n\u001b[0;32m      3\u001b[0m \u001b[39mimport\u001b[39;00m \u001b[39mgzip\u001b[39;00m\n\u001b[1;32m----> 4\u001b[0m \u001b[39mimport\u001b[39;00m \u001b[39minspect\u001b[39;00m\n\u001b[0;32m      5\u001b[0m \u001b[39mimport\u001b[39;00m \u001b[39mitertools\u001b[39;00m\n\u001b[0;32m      6\u001b[0m \u001b[39mimport\u001b[39;00m \u001b[39mre\u001b[39;00m\n",
      "File \u001b[1;32mc:\\Users\\abhay\\AppData\\Local\\Programs\\Python\\Python310\\lib\\site-packages\\networkx\\algorithms\\centrality\\betweenness.py:131\u001b[0m, in \u001b[0;36mbetweenness_centrality\u001b[1;34m(G, k, normalized, weight, endpoints, seed)\u001b[0m\n\u001b[0;32m    128\u001b[0m \u001b[39mfor\u001b[39;00m s \u001b[39min\u001b[39;00m nodes:\n\u001b[0;32m    129\u001b[0m     \u001b[39m# single source shortest paths\u001b[39;00m\n\u001b[0;32m    130\u001b[0m     \u001b[39mif\u001b[39;00m weight \u001b[39mis\u001b[39;00m \u001b[39mNone\u001b[39;00m:  \u001b[39m# use BFS\u001b[39;00m\n\u001b[1;32m--> 131\u001b[0m         S, P, sigma, _ \u001b[39m=\u001b[39m _single_source_shortest_path_basic(G, s)\n\u001b[0;32m    132\u001b[0m     \u001b[39melse\u001b[39;00m:  \u001b[39m# use Dijkstra's algorithm\u001b[39;00m\n\u001b[0;32m    133\u001b[0m         S, P, sigma, _ \u001b[39m=\u001b[39m _single_source_dijkstra_path_basic(G, s, weight)\n",
      "File \u001b[1;32mc:\\Users\\abhay\\AppData\\Local\\Programs\\Python\\Python310\\lib\\site-packages\\networkx\\algorithms\\centrality\\betweenness.py:254\u001b[0m, in \u001b[0;36m_single_source_shortest_path_basic\u001b[1;34m(G, s)\u001b[0m\n\u001b[0;32m    252\u001b[0m P \u001b[39m=\u001b[39m {}\n\u001b[0;32m    253\u001b[0m \u001b[39mfor\u001b[39;00m v \u001b[39min\u001b[39;00m G:\n\u001b[1;32m--> 254\u001b[0m     P[v] \u001b[39m=\u001b[39m []\n\u001b[0;32m    255\u001b[0m sigma \u001b[39m=\u001b[39m \u001b[39mdict\u001b[39m\u001b[39m.\u001b[39mfromkeys(G, \u001b[39m0.0\u001b[39m)  \u001b[39m# sigma[v]=0 for v in G\u001b[39;00m\n\u001b[0;32m    256\u001b[0m D \u001b[39m=\u001b[39m {}\n",
      "\u001b[1;31mKeyboardInterrupt\u001b[0m: "
     ]
    }
   ],
   "source": [
    "betweenness_centrality = nx.betweenness_centrality(G)"
   ]
  },
  {
   "cell_type": "code",
   "execution_count": 36,
   "id": "00534453",
   "metadata": {
    "execution": {
     "iopub.execute_input": "2022-09-16T21:11:01.259474Z",
     "iopub.status.busy": "2022-09-16T21:11:01.258812Z",
     "iopub.status.idle": "2022-09-16T21:11:01.273052Z",
     "shell.execute_reply": "2022-09-16T21:11:01.271710Z"
    },
    "papermill": {
     "duration": 0.044869,
     "end_time": "2022-09-16T21:11:01.276310",
     "exception": false,
     "start_time": "2022-09-16T21:11:01.231441",
     "status": "completed"
    },
    "tags": []
   },
   "outputs": [
    {
     "name": "stdout",
     "output_type": "stream",
     "text": [
      "Krumholz Mark R. 0.02515\n",
      "Loeb Abraham 0.02307\n",
      "Zhang Bing 0.02126\n",
      "Silk Joseph 0.02059\n",
      "Li Hui 0.01982\n",
      "Janka H. -T. 0.01803\n",
      "Goriely S. 0.01780\n",
      "Ireland Michael J. 0.01768\n",
      "Siess L. 0.01733\n",
      "Van Winckel H. 0.01544\n",
      "Omukai Kazuyuki 0.01513\n",
      "Sukhbold Tuguldur 0.01507\n",
      "Ho Luis C. 0.01490\n",
      "Ramirez-Ruiz Enrico 0.01477\n",
      "Kasen Daniel 0.01445\n",
      "Kuiper Rolf 0.01442\n",
      "Vagnozzi Sunny 0.01423\n",
      "Li Xiaolei 0.01407\n",
      "Bujarrabal V. 0.01399\n",
      "Yoshida Naoki 0.01392\n",
      "Zhang Jun 0.01353\n",
      "Metzger Brian D. 0.01351\n"
     ]
    }
   ],
   "source": [
    "# Top 10\n",
    "counter = 0\n",
    "for w in sorted(betweenness_centrality, key = betweenness_centrality.get, reverse = True):\n",
    "    counter = counter + 1\n",
    "    if counter == 23:\n",
    "        break\n",
    "    print(w,\"{:0.5f}\".format(betweenness_centrality[w]))"
   ]
  },
  {
   "attachments": {},
   "cell_type": "markdown",
   "id": "83c45410",
   "metadata": {
    "papermill": {
     "duration": 0.026928,
     "end_time": "2022-09-16T21:11:01.329793",
     "exception": false,
     "start_time": "2022-09-16T21:11:01.302865",
     "status": "completed"
    },
    "tags": []
   },
   "source": [
    "## Eigenvector Centrality\n",
    "A node is high in eigenvector centrality if it is connected to many other nodes who are themselves well connected.\n",
    "Eigenvector centrality for each node is simply calculated as the proportional eigenvector values of the eigenvector with the largest eigenvector"
   ]
  },
  {
   "cell_type": "code",
   "execution_count": 37,
   "id": "71ffe696",
   "metadata": {
    "execution": {
     "iopub.execute_input": "2022-09-16T21:11:01.384774Z",
     "iopub.status.busy": "2022-09-16T21:11:01.383277Z",
     "iopub.status.idle": "2022-09-16T21:11:04.488692Z",
     "shell.execute_reply": "2022-09-16T21:11:04.487480Z"
    },
    "papermill": {
     "duration": 3.135707,
     "end_time": "2022-09-16T21:11:04.491673",
     "exception": false,
     "start_time": "2022-09-16T21:11:01.355966",
     "status": "completed"
    },
    "tags": []
   },
   "outputs": [],
   "source": [
    "eigenvector_centrality = nx.eigenvector_centrality(G,max_iter=500)"
   ]
  },
  {
   "cell_type": "code",
   "execution_count": 38,
   "id": "a86c77d1",
   "metadata": {
    "execution": {
     "iopub.execute_input": "2022-09-16T21:11:04.543789Z",
     "iopub.status.busy": "2022-09-16T21:11:04.543370Z",
     "iopub.status.idle": "2022-09-16T21:11:04.556440Z",
     "shell.execute_reply": "2022-09-16T21:11:04.555308Z"
    },
    "papermill": {
     "duration": 0.041796,
     "end_time": "2022-09-16T21:11:04.558666",
     "exception": false,
     "start_time": "2022-09-16T21:11:04.516870",
     "status": "completed"
    },
    "tags": []
   },
   "outputs": [
    {
     "name": "stdout",
     "output_type": "stream",
     "text": [
      "Villaescusa-Navarro Francisco 0.20605\n",
      "Spergel David N. 0.18685\n",
      "Nishimichi Takahiro 0.13690\n",
      "Ho Shirley 0.12665\n",
      "Nelson Dylan 0.12613\n",
      "Hernquist Lars 0.12550\n",
      "Wandelt Benjamin D. 0.11510\n",
      "Pillepich Annalisa 0.11269\n",
      "Philcox Oliver H. E. 0.10183\n",
      "Kamionkowski Marc 0.10146\n",
      "Vogelsberger Mark 0.09474\n",
      "Omukai Kazuyuki 0.09277\n",
      "Loeb Abraham 0.09151\n",
      "Yoshida Naoki 0.09060\n",
      "Takada Masahiro 0.08989\n",
      "Berti Emanuele 0.08979\n",
      "Kocsis Bence 0.08401\n",
      "Bernal José Luis 0.08200\n",
      "Sherwin Blake D. 0.07992\n",
      "Bose Sownak 0.07967\n",
      "Kremer Kyle 0.07942\n",
      "Hadzhiyska Boryana 0.07933\n"
     ]
    }
   ],
   "source": [
    "# Top 10\n",
    "counter = 0\n",
    "for w in sorted(eigenvector_centrality, key = eigenvector_centrality.get, reverse = True):\n",
    "    counter = counter + 1\n",
    "    if counter == 23:\n",
    "        break\n",
    "    print(w,\"{:0.5f}\".format(eigenvector_centrality[w]))"
   ]
  },
  {
   "attachments": {},
   "cell_type": "markdown",
   "id": "1f58373d",
   "metadata": {},
   "source": [
    "## PageRank\n",
    "\n",
    "A variation of eigenvector centrality that uses Google's PageRank algorithm. Can be thought of as the probability of ending up at a page after randomly clicking on links."
   ]
  },
  {
   "cell_type": "code",
   "execution_count": null,
   "id": "887d678a",
   "metadata": {},
   "outputs": [],
   "source": [
    "page_rank = nx.pagerank(G,max_iter=500)"
   ]
  },
  {
   "cell_type": "code",
   "execution_count": null,
   "id": "66ea2f4c",
   "metadata": {},
   "outputs": [],
   "source": [
    "# Top 10\n",
    "counter = 0\n",
    "for w in sorted(page_rank, key = page_rank.get, reverse = True):\n",
    "    counter = counter + 1\n",
    "    if counter == 23:\n",
    "        break\n",
    "    print(w,\"{:0.5f}\".format(eigenvector_centrality[w]))"
   ]
  },
  {
   "attachments": {},
   "cell_type": "markdown",
   "id": "6f468fe8",
   "metadata": {},
   "source": [
    "# Coauthor network for individuals\n",
    "\n",
    "Having calculated multiple measures of centrality, we can look at specific authors with high centrality and generate their coauthor graphs."
   ]
  },
  {
   "cell_type": "code",
   "execution_count": 39,
   "id": "0ac310df",
   "metadata": {
    "execution": {
     "iopub.execute_input": "2022-09-16T21:11:04.612242Z",
     "iopub.status.busy": "2022-09-16T21:11:04.611499Z",
     "iopub.status.idle": "2022-09-16T21:11:04.619587Z",
     "shell.execute_reply": "2022-09-16T21:11:04.618485Z"
    },
    "papermill": {
     "duration": 0.037455,
     "end_time": "2022-09-16T21:11:04.622166",
     "exception": false,
     "start_time": "2022-09-16T21:11:04.584711",
     "status": "completed"
    },
    "tags": []
   },
   "outputs": [
    {
     "name": "stdout",
     "output_type": "stream",
     "text": [
      "30\n",
      "Number of Nodes in Silk Network  31\n",
      "Number of Edges in Silk Network  61\n"
     ]
    }
   ],
   "source": [
    "Silk_nodes = getCoAuthorshipNetwork(G,['Silk Joseph'])\n",
    "Silk_network = nx.subgraph(G,Silk_nodes)\n",
    "print(\"Number of Nodes in Silk Network \", len(Silk_network.nodes()))\n",
    "print(\"Number of Edges in Silk Network \", len(Silk_network.edges()))"
   ]
  },
  {
   "cell_type": "code",
   "execution_count": 40,
   "id": "58bb3fe0",
   "metadata": {
    "execution": {
     "iopub.execute_input": "2022-09-16T21:11:04.675910Z",
     "iopub.status.busy": "2022-09-16T21:11:04.675477Z",
     "iopub.status.idle": "2022-09-16T21:11:04.702810Z",
     "shell.execute_reply": "2022-09-16T21:11:04.701341Z"
    },
    "papermill": {
     "duration": 0.057677,
     "end_time": "2022-09-16T21:11:04.705511",
     "exception": false,
     "start_time": "2022-09-16T21:11:04.647834",
     "status": "completed"
    },
    "scrolled": true,
    "tags": []
   },
   "outputs": [
    {
     "name": "stdout",
     "output_type": "stream",
     "text": [
      "Creating PyVis from NetworkX\n",
      "Saving PyVis Graph\n"
     ]
    },
    {
     "data": {
      "text/html": [
       "\n",
       "        <iframe\n",
       "            width=\"100%\"\n",
       "            height=\"800px\"\n",
       "            src=\"Silk_CoAuthorGraph.html\"\n",
       "            frameborder=\"0\"\n",
       "            allowfullscreen\n",
       "            \n",
       "        ></iframe>\n",
       "        "
      ],
      "text/plain": [
       "<IPython.lib.display.IFrame at 0x7fa41c8eae50>"
      ]
     },
     "execution_count": 40,
     "metadata": {},
     "output_type": "execute_result"
    }
   ],
   "source": [
    "Silk_nt=Network(notebook=True,height='800px', width='100%',heading='Silk Network')\n",
    "\n",
    "print(\"Creating PyVis from NetworkX\")\n",
    "Silk_nt.from_nx(Silk_network)\n",
    "Silk_nt.toggle_physics(True)\n",
    "print(\"Saving PyVis Graph\")\n",
    "\n",
    "Silk_nt.show_buttons()\n",
    "Silk_nt.show(\"Silk_CoAuthorGraph.html\")"
   ]
  },
  {
   "cell_type": "code",
   "execution_count": 41,
   "id": "4e063cd2",
   "metadata": {
    "execution": {
     "iopub.execute_input": "2022-09-16T21:11:04.759849Z",
     "iopub.status.busy": "2022-09-16T21:11:04.759365Z",
     "iopub.status.idle": "2022-09-16T21:11:04.812958Z",
     "shell.execute_reply": "2022-09-16T21:11:04.811480Z"
    },
    "papermill": {
     "duration": 0.084241,
     "end_time": "2022-09-16T21:11:04.815639",
     "exception": false,
     "start_time": "2022-09-16T21:11:04.731398",
     "status": "completed"
    },
    "tags": []
   },
   "outputs": [
    {
     "name": "stdout",
     "output_type": "stream",
     "text": [
      "Number of Papers by Silk Joseph on Arxiv is  33\n"
     ]
    }
   ],
   "source": [
    "data['is_SJ']=data['authors'].apply(lambda x:1 if \"Silk Joseph\" in x else 0)\n",
    "SJ_papers=data[data['is_SJ']==1]\n",
    "SJ_papers=SJ_papers.reset_index(drop=True)\n",
    "\n",
    "print(\"Number of Papers by Silk Joseph on Arxiv is \",SJ_papers.shape[0])"
   ]
  },
  {
   "cell_type": "code",
   "execution_count": 42,
   "id": "750118c5",
   "metadata": {
    "execution": {
     "iopub.execute_input": "2022-09-16T21:11:04.869156Z",
     "iopub.status.busy": "2022-09-16T21:11:04.868672Z",
     "iopub.status.idle": "2022-09-16T21:11:04.881622Z",
     "shell.execute_reply": "2022-09-16T21:11:04.879564Z"
    },
    "papermill": {
     "duration": 0.042461,
     "end_time": "2022-09-16T21:11:04.884132",
     "exception": false,
     "start_time": "2022-09-16T21:11:04.841671",
     "status": "completed"
    },
    "tags": []
   },
   "outputs": [
    {
     "name": "stdout",
     "output_type": "stream",
     "text": [
      "The First Paper published by Silk Joseph was in  2020-01-04 21:30:27+00:00\n",
      "The Recent Paper published by Silk Joseph was in   2021-12-21 19:48:26+00:00\n"
     ]
    }
   ],
   "source": [
    "print(\"The First Paper published by Silk Joseph was in \",min(SJ_papers['DateTime']))\n",
    "print(\"The Recent Paper published by Silk Joseph was in  \",max(SJ_papers['DateTime']))"
   ]
  },
  {
   "cell_type": "code",
   "execution_count": 43,
   "id": "6f8e782e",
   "metadata": {
    "execution": {
     "iopub.execute_input": "2022-09-16T21:11:04.939193Z",
     "iopub.status.busy": "2022-09-16T21:11:04.938750Z",
     "iopub.status.idle": "2022-09-16T21:11:05.775754Z",
     "shell.execute_reply": "2022-09-16T21:11:05.774504Z"
    },
    "papermill": {
     "duration": 0.868436,
     "end_time": "2022-09-16T21:11:05.778901",
     "exception": false,
     "start_time": "2022-09-16T21:11:04.910465",
     "status": "completed"
    },
    "tags": []
   },
   "outputs": [],
   "source": [
    "import nltk\n",
    "from nltk.corpus import stopwords"
   ]
  },
  {
   "cell_type": "code",
   "execution_count": 44,
   "id": "1fc0f4f7",
   "metadata": {
    "execution": {
     "iopub.execute_input": "2022-09-16T21:11:05.833408Z",
     "iopub.status.busy": "2022-09-16T21:11:05.832928Z",
     "iopub.status.idle": "2022-09-16T21:11:05.838988Z",
     "shell.execute_reply": "2022-09-16T21:11:05.837786Z"
    },
    "papermill": {
     "duration": 0.036692,
     "end_time": "2022-09-16T21:11:05.841690",
     "exception": false,
     "start_time": "2022-09-16T21:11:05.804998",
     "status": "completed"
    },
    "tags": []
   },
   "outputs": [],
   "source": [
    "def removeStopWords(text,stop_words):\n",
    "    words=text.split()\n",
    "    filtered_words=[word for word in words if word not in stop_words]\n",
    "    return \" \".join(filtered_words)"
   ]
  },
  {
   "cell_type": "code",
   "execution_count": 45,
   "id": "b7125c77",
   "metadata": {
    "execution": {
     "iopub.execute_input": "2022-09-16T21:11:05.895894Z",
     "iopub.status.busy": "2022-09-16T21:11:05.895444Z",
     "iopub.status.idle": "2022-09-16T21:11:05.908914Z",
     "shell.execute_reply": "2022-09-16T21:11:05.907787Z"
    },
    "papermill": {
     "duration": 0.043885,
     "end_time": "2022-09-16T21:11:05.911915",
     "exception": false,
     "start_time": "2022-09-16T21:11:05.868030",
     "status": "completed"
    },
    "tags": []
   },
   "outputs": [],
   "source": [
    "titles=SJ_papers['title'].tolist()\n",
    "stop_words = set(stopwords.words('english')) \n",
    "titles=[title.lower() for title in titles] ### Lower Casing the Title\n",
    "titles=[removeStopWords(title,stop_words) for title in titles]"
   ]
  },
  {
   "cell_type": "code",
   "execution_count": 46,
   "id": "6e679932",
   "metadata": {
    "execution": {
     "iopub.execute_input": "2022-09-16T21:11:05.966009Z",
     "iopub.status.busy": "2022-09-16T21:11:05.965543Z",
     "iopub.status.idle": "2022-09-16T21:11:05.974722Z",
     "shell.execute_reply": "2022-09-16T21:11:05.973475Z"
    },
    "papermill": {
     "duration": 0.039005,
     "end_time": "2022-09-16T21:11:05.977136",
     "exception": false,
     "start_time": "2022-09-16T21:11:05.938131",
     "status": "completed"
    },
    "tags": []
   },
   "outputs": [],
   "source": [
    "def generateNGram(text,n=2):\n",
    "    tokens=text.split(\" \")\n",
    "    ngrams = zip(*[tokens[i:] for i in range(n)])\n",
    "    n_grams= [\"_\".join(ngram) for ngram in ngrams]\n",
    "    n_grams=[ngram for ngram in n_grams if not ngram.startswith(\"_\")]\n",
    "    n_grams=[ngram for ngram in n_grams if not ngram.endswith(\"_\")]\n",
    "    return n_grams\n",
    "\n",
    "def getMostCommon(reviews_list,topn=20):\n",
    "    reviews=\" \".join(reviews_list)\n",
    "    tokenised_reviews=reviews.split(\" \")\n",
    "    freq_counter=Counter(tokenised_reviews)\n",
    "    return freq_counter.most_common(topn)"
   ]
  },
  {
   "cell_type": "code",
   "execution_count": 47,
   "id": "182deaf4",
   "metadata": {
    "execution": {
     "iopub.execute_input": "2022-09-16T21:11:06.030808Z",
     "iopub.status.busy": "2022-09-16T21:11:06.030092Z",
     "iopub.status.idle": "2022-09-16T21:11:07.139984Z",
     "shell.execute_reply": "2022-09-16T21:11:07.138347Z"
    },
    "papermill": {
     "duration": 1.140006,
     "end_time": "2022-09-16T21:11:07.142704",
     "exception": false,
     "start_time": "2022-09-16T21:11:06.002698",
     "status": "completed"
    },
    "tags": []
   },
   "outputs": [
    {
     "data": {
      "text/html": [
       "        <script type=\"text/javascript\">\n",
       "        window.PlotlyConfig = {MathJaxConfig: 'local'};\n",
       "        if (window.MathJax && window.MathJax.Hub && window.MathJax.Hub.Config) {window.MathJax.Hub.Config({SVG: {font: \"STIX-Web\"}});}\n",
       "        if (typeof require !== 'undefined') {\n",
       "        require.undef(\"plotly\");\n",
       "        requirejs.config({\n",
       "            paths: {\n",
       "                'plotly': ['https://cdn.plot.ly/plotly-2.14.0.min']\n",
       "            }\n",
       "        });\n",
       "        require(['plotly'], function(Plotly) {\n",
       "            window._Plotly = Plotly;\n",
       "        });\n",
       "        }\n",
       "        </script>\n",
       "        "
      ]
     },
     "metadata": {},
     "output_type": "display_data"
    },
    {
     "data": {
      "text/html": [
       "<div>                            <div id=\"38be9b2d-0fd9-4393-8b43-b9d5fd030557\" class=\"plotly-graph-div\" style=\"height:525px; width:100%;\"></div>            <script type=\"text/javascript\">                require([\"plotly\"], function(Plotly) {                    window.PLOTLYENV=window.PLOTLYENV || {};                                    if (document.getElementById(\"38be9b2d-0fd9-4393-8b43-b9d5fd030557\")) {                    Plotly.newPlot(                        \"38be9b2d-0fd9-4393-8b43-b9d5fd030557\",                        [{\"alignmentgroup\":\"True\",\"hovertemplate\":\"Frequency=%{x}<br>words=%{y}<extra></extra>\",\"legendgroup\":\"\",\"marker\":{\"color\":\"#636efa\",\"pattern\":{\"shape\":\"\"}},\"name\":\"\",\"offsetgroup\":\"\",\"orientation\":\"h\",\"showlegend\":false,\"textposition\":\"auto\",\"x\":[2,2,2,3,4,4,5,7,7,11],\"xaxis\":\"x\",\"y\":[\"lensed_gravitational\",\"dwarf_galaxies\",\"pbhs_secondary\",\"gravitational_waves\",\"stochastic_gravitational\",\"wave_background\",\"dark_matter\",\"primordial_black\",\"gravitational_wave\",\"black_holes\"],\"yaxis\":\"y\",\"type\":\"bar\"}],                        {\"template\":{\"data\":{\"histogram2dcontour\":[{\"type\":\"histogram2dcontour\",\"colorbar\":{\"outlinewidth\":0,\"ticks\":\"\"},\"colorscale\":[[0.0,\"#0d0887\"],[0.1111111111111111,\"#46039f\"],[0.2222222222222222,\"#7201a8\"],[0.3333333333333333,\"#9c179e\"],[0.4444444444444444,\"#bd3786\"],[0.5555555555555556,\"#d8576b\"],[0.6666666666666666,\"#ed7953\"],[0.7777777777777778,\"#fb9f3a\"],[0.8888888888888888,\"#fdca26\"],[1.0,\"#f0f921\"]]}],\"choropleth\":[{\"type\":\"choropleth\",\"colorbar\":{\"outlinewidth\":0,\"ticks\":\"\"}}],\"histogram2d\":[{\"type\":\"histogram2d\",\"colorbar\":{\"outlinewidth\":0,\"ticks\":\"\"},\"colorscale\":[[0.0,\"#0d0887\"],[0.1111111111111111,\"#46039f\"],[0.2222222222222222,\"#7201a8\"],[0.3333333333333333,\"#9c179e\"],[0.4444444444444444,\"#bd3786\"],[0.5555555555555556,\"#d8576b\"],[0.6666666666666666,\"#ed7953\"],[0.7777777777777778,\"#fb9f3a\"],[0.8888888888888888,\"#fdca26\"],[1.0,\"#f0f921\"]]}],\"heatmap\":[{\"type\":\"heatmap\",\"colorbar\":{\"outlinewidth\":0,\"ticks\":\"\"},\"colorscale\":[[0.0,\"#0d0887\"],[0.1111111111111111,\"#46039f\"],[0.2222222222222222,\"#7201a8\"],[0.3333333333333333,\"#9c179e\"],[0.4444444444444444,\"#bd3786\"],[0.5555555555555556,\"#d8576b\"],[0.6666666666666666,\"#ed7953\"],[0.7777777777777778,\"#fb9f3a\"],[0.8888888888888888,\"#fdca26\"],[1.0,\"#f0f921\"]]}],\"heatmapgl\":[{\"type\":\"heatmapgl\",\"colorbar\":{\"outlinewidth\":0,\"ticks\":\"\"},\"colorscale\":[[0.0,\"#0d0887\"],[0.1111111111111111,\"#46039f\"],[0.2222222222222222,\"#7201a8\"],[0.3333333333333333,\"#9c179e\"],[0.4444444444444444,\"#bd3786\"],[0.5555555555555556,\"#d8576b\"],[0.6666666666666666,\"#ed7953\"],[0.7777777777777778,\"#fb9f3a\"],[0.8888888888888888,\"#fdca26\"],[1.0,\"#f0f921\"]]}],\"contourcarpet\":[{\"type\":\"contourcarpet\",\"colorbar\":{\"outlinewidth\":0,\"ticks\":\"\"}}],\"contour\":[{\"type\":\"contour\",\"colorbar\":{\"outlinewidth\":0,\"ticks\":\"\"},\"colorscale\":[[0.0,\"#0d0887\"],[0.1111111111111111,\"#46039f\"],[0.2222222222222222,\"#7201a8\"],[0.3333333333333333,\"#9c179e\"],[0.4444444444444444,\"#bd3786\"],[0.5555555555555556,\"#d8576b\"],[0.6666666666666666,\"#ed7953\"],[0.7777777777777778,\"#fb9f3a\"],[0.8888888888888888,\"#fdca26\"],[1.0,\"#f0f921\"]]}],\"surface\":[{\"type\":\"surface\",\"colorbar\":{\"outlinewidth\":0,\"ticks\":\"\"},\"colorscale\":[[0.0,\"#0d0887\"],[0.1111111111111111,\"#46039f\"],[0.2222222222222222,\"#7201a8\"],[0.3333333333333333,\"#9c179e\"],[0.4444444444444444,\"#bd3786\"],[0.5555555555555556,\"#d8576b\"],[0.6666666666666666,\"#ed7953\"],[0.7777777777777778,\"#fb9f3a\"],[0.8888888888888888,\"#fdca26\"],[1.0,\"#f0f921\"]]}],\"mesh3d\":[{\"type\":\"mesh3d\",\"colorbar\":{\"outlinewidth\":0,\"ticks\":\"\"}}],\"scatter\":[{\"fillpattern\":{\"fillmode\":\"overlay\",\"size\":10,\"solidity\":0.2},\"type\":\"scatter\"}],\"parcoords\":[{\"type\":\"parcoords\",\"line\":{\"colorbar\":{\"outlinewidth\":0,\"ticks\":\"\"}}}],\"scatterpolargl\":[{\"type\":\"scatterpolargl\",\"marker\":{\"colorbar\":{\"outlinewidth\":0,\"ticks\":\"\"}}}],\"bar\":[{\"error_x\":{\"color\":\"#2a3f5f\"},\"error_y\":{\"color\":\"#2a3f5f\"},\"marker\":{\"line\":{\"color\":\"#E5ECF6\",\"width\":0.5},\"pattern\":{\"fillmode\":\"overlay\",\"size\":10,\"solidity\":0.2}},\"type\":\"bar\"}],\"scattergeo\":[{\"type\":\"scattergeo\",\"marker\":{\"colorbar\":{\"outlinewidth\":0,\"ticks\":\"\"}}}],\"scatterpolar\":[{\"type\":\"scatterpolar\",\"marker\":{\"colorbar\":{\"outlinewidth\":0,\"ticks\":\"\"}}}],\"histogram\":[{\"marker\":{\"pattern\":{\"fillmode\":\"overlay\",\"size\":10,\"solidity\":0.2}},\"type\":\"histogram\"}],\"scattergl\":[{\"type\":\"scattergl\",\"marker\":{\"colorbar\":{\"outlinewidth\":0,\"ticks\":\"\"}}}],\"scatter3d\":[{\"type\":\"scatter3d\",\"line\":{\"colorbar\":{\"outlinewidth\":0,\"ticks\":\"\"}},\"marker\":{\"colorbar\":{\"outlinewidth\":0,\"ticks\":\"\"}}}],\"scattermapbox\":[{\"type\":\"scattermapbox\",\"marker\":{\"colorbar\":{\"outlinewidth\":0,\"ticks\":\"\"}}}],\"scatterternary\":[{\"type\":\"scatterternary\",\"marker\":{\"colorbar\":{\"outlinewidth\":0,\"ticks\":\"\"}}}],\"scattercarpet\":[{\"type\":\"scattercarpet\",\"marker\":{\"colorbar\":{\"outlinewidth\":0,\"ticks\":\"\"}}}],\"carpet\":[{\"aaxis\":{\"endlinecolor\":\"#2a3f5f\",\"gridcolor\":\"white\",\"linecolor\":\"white\",\"minorgridcolor\":\"white\",\"startlinecolor\":\"#2a3f5f\"},\"baxis\":{\"endlinecolor\":\"#2a3f5f\",\"gridcolor\":\"white\",\"linecolor\":\"white\",\"minorgridcolor\":\"white\",\"startlinecolor\":\"#2a3f5f\"},\"type\":\"carpet\"}],\"table\":[{\"cells\":{\"fill\":{\"color\":\"#EBF0F8\"},\"line\":{\"color\":\"white\"}},\"header\":{\"fill\":{\"color\":\"#C8D4E3\"},\"line\":{\"color\":\"white\"}},\"type\":\"table\"}],\"barpolar\":[{\"marker\":{\"line\":{\"color\":\"#E5ECF6\",\"width\":0.5},\"pattern\":{\"fillmode\":\"overlay\",\"size\":10,\"solidity\":0.2}},\"type\":\"barpolar\"}],\"pie\":[{\"automargin\":true,\"type\":\"pie\"}]},\"layout\":{\"autotypenumbers\":\"strict\",\"colorway\":[\"#636efa\",\"#EF553B\",\"#00cc96\",\"#ab63fa\",\"#FFA15A\",\"#19d3f3\",\"#FF6692\",\"#B6E880\",\"#FF97FF\",\"#FECB52\"],\"font\":{\"color\":\"#2a3f5f\"},\"hovermode\":\"closest\",\"hoverlabel\":{\"align\":\"left\"},\"paper_bgcolor\":\"white\",\"plot_bgcolor\":\"#E5ECF6\",\"polar\":{\"bgcolor\":\"#E5ECF6\",\"angularaxis\":{\"gridcolor\":\"white\",\"linecolor\":\"white\",\"ticks\":\"\"},\"radialaxis\":{\"gridcolor\":\"white\",\"linecolor\":\"white\",\"ticks\":\"\"}},\"ternary\":{\"bgcolor\":\"#E5ECF6\",\"aaxis\":{\"gridcolor\":\"white\",\"linecolor\":\"white\",\"ticks\":\"\"},\"baxis\":{\"gridcolor\":\"white\",\"linecolor\":\"white\",\"ticks\":\"\"},\"caxis\":{\"gridcolor\":\"white\",\"linecolor\":\"white\",\"ticks\":\"\"}},\"coloraxis\":{\"colorbar\":{\"outlinewidth\":0,\"ticks\":\"\"}},\"colorscale\":{\"sequential\":[[0.0,\"#0d0887\"],[0.1111111111111111,\"#46039f\"],[0.2222222222222222,\"#7201a8\"],[0.3333333333333333,\"#9c179e\"],[0.4444444444444444,\"#bd3786\"],[0.5555555555555556,\"#d8576b\"],[0.6666666666666666,\"#ed7953\"],[0.7777777777777778,\"#fb9f3a\"],[0.8888888888888888,\"#fdca26\"],[1.0,\"#f0f921\"]],\"sequentialminus\":[[0.0,\"#0d0887\"],[0.1111111111111111,\"#46039f\"],[0.2222222222222222,\"#7201a8\"],[0.3333333333333333,\"#9c179e\"],[0.4444444444444444,\"#bd3786\"],[0.5555555555555556,\"#d8576b\"],[0.6666666666666666,\"#ed7953\"],[0.7777777777777778,\"#fb9f3a\"],[0.8888888888888888,\"#fdca26\"],[1.0,\"#f0f921\"]],\"diverging\":[[0,\"#8e0152\"],[0.1,\"#c51b7d\"],[0.2,\"#de77ae\"],[0.3,\"#f1b6da\"],[0.4,\"#fde0ef\"],[0.5,\"#f7f7f7\"],[0.6,\"#e6f5d0\"],[0.7,\"#b8e186\"],[0.8,\"#7fbc41\"],[0.9,\"#4d9221\"],[1,\"#276419\"]]},\"xaxis\":{\"gridcolor\":\"white\",\"linecolor\":\"white\",\"ticks\":\"\",\"title\":{\"standoff\":15},\"zerolinecolor\":\"white\",\"automargin\":true,\"zerolinewidth\":2},\"yaxis\":{\"gridcolor\":\"white\",\"linecolor\":\"white\",\"ticks\":\"\",\"title\":{\"standoff\":15},\"zerolinecolor\":\"white\",\"automargin\":true,\"zerolinewidth\":2},\"scene\":{\"xaxis\":{\"backgroundcolor\":\"#E5ECF6\",\"gridcolor\":\"white\",\"linecolor\":\"white\",\"showbackground\":true,\"ticks\":\"\",\"zerolinecolor\":\"white\",\"gridwidth\":2},\"yaxis\":{\"backgroundcolor\":\"#E5ECF6\",\"gridcolor\":\"white\",\"linecolor\":\"white\",\"showbackground\":true,\"ticks\":\"\",\"zerolinecolor\":\"white\",\"gridwidth\":2},\"zaxis\":{\"backgroundcolor\":\"#E5ECF6\",\"gridcolor\":\"white\",\"linecolor\":\"white\",\"showbackground\":true,\"ticks\":\"\",\"zerolinecolor\":\"white\",\"gridwidth\":2}},\"shapedefaults\":{\"line\":{\"color\":\"#2a3f5f\"}},\"annotationdefaults\":{\"arrowcolor\":\"#2a3f5f\",\"arrowhead\":0,\"arrowwidth\":1},\"geo\":{\"bgcolor\":\"white\",\"landcolor\":\"#E5ECF6\",\"subunitcolor\":\"white\",\"showland\":true,\"showlakes\":true,\"lakecolor\":\"white\"},\"title\":{\"x\":0.05},\"mapbox\":{\"style\":\"light\"}}},\"xaxis\":{\"anchor\":\"y\",\"domain\":[0.0,1.0],\"title\":{\"text\":\"Frequency\"}},\"yaxis\":{\"anchor\":\"x\",\"domain\":[0.0,1.0],\"title\":{\"text\":\"words\"}},\"legend\":{\"tracegroupgap\":0},\"title\":{\"text\":\"Top 10 Bigrams in Papers published by Silk Joseph\"},\"barmode\":\"relative\"},                        {\"responsive\": true}                    ).then(function(){\n",
       "                            \n",
       "var gd = document.getElementById('38be9b2d-0fd9-4393-8b43-b9d5fd030557');\n",
       "var x = new MutationObserver(function (mutations, observer) {{\n",
       "        var display = window.getComputedStyle(gd).display;\n",
       "        if (!display || display === 'none') {{\n",
       "            console.log([gd, 'removed!']);\n",
       "            Plotly.purge(gd);\n",
       "            observer.disconnect();\n",
       "        }}\n",
       "}});\n",
       "\n",
       "// Listen for the removal of the full notebook cells\n",
       "var notebookContainer = gd.closest('#notebook-container');\n",
       "if (notebookContainer) {{\n",
       "    x.observe(notebookContainer, {childList: true});\n",
       "}}\n",
       "\n",
       "// Listen for the clearing of the current output cell\n",
       "var outputEl = gd.closest('.output');\n",
       "if (outputEl) {{\n",
       "    x.observe(outputEl, {childList: true});\n",
       "}}\n",
       "\n",
       "                        })                };                });            </script>        </div>"
      ]
     },
     "metadata": {},
     "output_type": "display_data"
    }
   ],
   "source": [
    "bigrams_list=[\" \".join(generateNGram(title,2)) for title in titles]\n",
    "topn=10\n",
    "top_bigrams=getMostCommon(bigrams_list,topn=topn)\n",
    "top_bigrams_df=pd.DataFrame()\n",
    "top_bigrams_df['words']=[val[0] for val in top_bigrams]\n",
    "top_bigrams_df['Frequency']=[val[1] for val in top_bigrams]\n",
    "px.bar(data_frame=top_bigrams_df.sort_values(\"Frequency\",ascending=True),x=\"Frequency\",y=\"words\",orientation=\"h\",title=\"Top \"+str(topn)+\" Bigrams in Papers published by Silk Joseph\")"
   ]
  },
  {
   "cell_type": "code",
   "execution_count": 48,
   "id": "4a537518",
   "metadata": {
    "execution": {
     "iopub.execute_input": "2022-09-16T21:11:07.200036Z",
     "iopub.status.busy": "2022-09-16T21:11:07.198630Z",
     "iopub.status.idle": "2022-09-16T21:11:07.270231Z",
     "shell.execute_reply": "2022-09-16T21:11:07.268955Z"
    },
    "papermill": {
     "duration": 0.103008,
     "end_time": "2022-09-16T21:11:07.272828",
     "exception": false,
     "start_time": "2022-09-16T21:11:07.169820",
     "status": "completed"
    },
    "tags": []
   },
   "outputs": [
    {
     "data": {
      "text/html": [
       "<div>                            <div id=\"a387046a-7335-4485-8002-83dd565f3d07\" class=\"plotly-graph-div\" style=\"height:525px; width:100%;\"></div>            <script type=\"text/javascript\">                require([\"plotly\"], function(Plotly) {                    window.PLOTLYENV=window.PLOTLYENV || {};                                    if (document.getElementById(\"a387046a-7335-4485-8002-83dd565f3d07\")) {                    Plotly.newPlot(                        \"a387046a-7335-4485-8002-83dd565f3d07\",                        [{\"alignmentgroup\":\"True\",\"hovertemplate\":\"Frequency=%{x}<br>words=%{y}<extra></extra>\",\"legendgroup\":\"\",\"marker\":{\"color\":\"#636efa\",\"pattern\":{\"shape\":\"\"}},\"name\":\"\",\"offsetgroup\":\"\",\"orientation\":\"h\",\"showlegend\":false,\"textposition\":\"auto\",\"x\":[1,1,1,1,1,2,2,4,4,6],\"xaxis\":\"x\",\"y\":[\"detectability_gravitational_waves\",\"gravitational_waves_coalescence\",\"waves_coalescence_massive\",\"coalescence_massive_primordial\",\"massive_primordial_black\",\"pbhs_secondary_gws\",\"black_holes_implications\",\"stochastic_gravitational_wave\",\"gravitational_wave_background\",\"primordial_black_holes\"],\"yaxis\":\"y\",\"type\":\"bar\"}],                        {\"template\":{\"data\":{\"histogram2dcontour\":[{\"type\":\"histogram2dcontour\",\"colorbar\":{\"outlinewidth\":0,\"ticks\":\"\"},\"colorscale\":[[0.0,\"#0d0887\"],[0.1111111111111111,\"#46039f\"],[0.2222222222222222,\"#7201a8\"],[0.3333333333333333,\"#9c179e\"],[0.4444444444444444,\"#bd3786\"],[0.5555555555555556,\"#d8576b\"],[0.6666666666666666,\"#ed7953\"],[0.7777777777777778,\"#fb9f3a\"],[0.8888888888888888,\"#fdca26\"],[1.0,\"#f0f921\"]]}],\"choropleth\":[{\"type\":\"choropleth\",\"colorbar\":{\"outlinewidth\":0,\"ticks\":\"\"}}],\"histogram2d\":[{\"type\":\"histogram2d\",\"colorbar\":{\"outlinewidth\":0,\"ticks\":\"\"},\"colorscale\":[[0.0,\"#0d0887\"],[0.1111111111111111,\"#46039f\"],[0.2222222222222222,\"#7201a8\"],[0.3333333333333333,\"#9c179e\"],[0.4444444444444444,\"#bd3786\"],[0.5555555555555556,\"#d8576b\"],[0.6666666666666666,\"#ed7953\"],[0.7777777777777778,\"#fb9f3a\"],[0.8888888888888888,\"#fdca26\"],[1.0,\"#f0f921\"]]}],\"heatmap\":[{\"type\":\"heatmap\",\"colorbar\":{\"outlinewidth\":0,\"ticks\":\"\"},\"colorscale\":[[0.0,\"#0d0887\"],[0.1111111111111111,\"#46039f\"],[0.2222222222222222,\"#7201a8\"],[0.3333333333333333,\"#9c179e\"],[0.4444444444444444,\"#bd3786\"],[0.5555555555555556,\"#d8576b\"],[0.6666666666666666,\"#ed7953\"],[0.7777777777777778,\"#fb9f3a\"],[0.8888888888888888,\"#fdca26\"],[1.0,\"#f0f921\"]]}],\"heatmapgl\":[{\"type\":\"heatmapgl\",\"colorbar\":{\"outlinewidth\":0,\"ticks\":\"\"},\"colorscale\":[[0.0,\"#0d0887\"],[0.1111111111111111,\"#46039f\"],[0.2222222222222222,\"#7201a8\"],[0.3333333333333333,\"#9c179e\"],[0.4444444444444444,\"#bd3786\"],[0.5555555555555556,\"#d8576b\"],[0.6666666666666666,\"#ed7953\"],[0.7777777777777778,\"#fb9f3a\"],[0.8888888888888888,\"#fdca26\"],[1.0,\"#f0f921\"]]}],\"contourcarpet\":[{\"type\":\"contourcarpet\",\"colorbar\":{\"outlinewidth\":0,\"ticks\":\"\"}}],\"contour\":[{\"type\":\"contour\",\"colorbar\":{\"outlinewidth\":0,\"ticks\":\"\"},\"colorscale\":[[0.0,\"#0d0887\"],[0.1111111111111111,\"#46039f\"],[0.2222222222222222,\"#7201a8\"],[0.3333333333333333,\"#9c179e\"],[0.4444444444444444,\"#bd3786\"],[0.5555555555555556,\"#d8576b\"],[0.6666666666666666,\"#ed7953\"],[0.7777777777777778,\"#fb9f3a\"],[0.8888888888888888,\"#fdca26\"],[1.0,\"#f0f921\"]]}],\"surface\":[{\"type\":\"surface\",\"colorbar\":{\"outlinewidth\":0,\"ticks\":\"\"},\"colorscale\":[[0.0,\"#0d0887\"],[0.1111111111111111,\"#46039f\"],[0.2222222222222222,\"#7201a8\"],[0.3333333333333333,\"#9c179e\"],[0.4444444444444444,\"#bd3786\"],[0.5555555555555556,\"#d8576b\"],[0.6666666666666666,\"#ed7953\"],[0.7777777777777778,\"#fb9f3a\"],[0.8888888888888888,\"#fdca26\"],[1.0,\"#f0f921\"]]}],\"mesh3d\":[{\"type\":\"mesh3d\",\"colorbar\":{\"outlinewidth\":0,\"ticks\":\"\"}}],\"scatter\":[{\"fillpattern\":{\"fillmode\":\"overlay\",\"size\":10,\"solidity\":0.2},\"type\":\"scatter\"}],\"parcoords\":[{\"type\":\"parcoords\",\"line\":{\"colorbar\":{\"outlinewidth\":0,\"ticks\":\"\"}}}],\"scatterpolargl\":[{\"type\":\"scatterpolargl\",\"marker\":{\"colorbar\":{\"outlinewidth\":0,\"ticks\":\"\"}}}],\"bar\":[{\"error_x\":{\"color\":\"#2a3f5f\"},\"error_y\":{\"color\":\"#2a3f5f\"},\"marker\":{\"line\":{\"color\":\"#E5ECF6\",\"width\":0.5},\"pattern\":{\"fillmode\":\"overlay\",\"size\":10,\"solidity\":0.2}},\"type\":\"bar\"}],\"scattergeo\":[{\"type\":\"scattergeo\",\"marker\":{\"colorbar\":{\"outlinewidth\":0,\"ticks\":\"\"}}}],\"scatterpolar\":[{\"type\":\"scatterpolar\",\"marker\":{\"colorbar\":{\"outlinewidth\":0,\"ticks\":\"\"}}}],\"histogram\":[{\"marker\":{\"pattern\":{\"fillmode\":\"overlay\",\"size\":10,\"solidity\":0.2}},\"type\":\"histogram\"}],\"scattergl\":[{\"type\":\"scattergl\",\"marker\":{\"colorbar\":{\"outlinewidth\":0,\"ticks\":\"\"}}}],\"scatter3d\":[{\"type\":\"scatter3d\",\"line\":{\"colorbar\":{\"outlinewidth\":0,\"ticks\":\"\"}},\"marker\":{\"colorbar\":{\"outlinewidth\":0,\"ticks\":\"\"}}}],\"scattermapbox\":[{\"type\":\"scattermapbox\",\"marker\":{\"colorbar\":{\"outlinewidth\":0,\"ticks\":\"\"}}}],\"scatterternary\":[{\"type\":\"scatterternary\",\"marker\":{\"colorbar\":{\"outlinewidth\":0,\"ticks\":\"\"}}}],\"scattercarpet\":[{\"type\":\"scattercarpet\",\"marker\":{\"colorbar\":{\"outlinewidth\":0,\"ticks\":\"\"}}}],\"carpet\":[{\"aaxis\":{\"endlinecolor\":\"#2a3f5f\",\"gridcolor\":\"white\",\"linecolor\":\"white\",\"minorgridcolor\":\"white\",\"startlinecolor\":\"#2a3f5f\"},\"baxis\":{\"endlinecolor\":\"#2a3f5f\",\"gridcolor\":\"white\",\"linecolor\":\"white\",\"minorgridcolor\":\"white\",\"startlinecolor\":\"#2a3f5f\"},\"type\":\"carpet\"}],\"table\":[{\"cells\":{\"fill\":{\"color\":\"#EBF0F8\"},\"line\":{\"color\":\"white\"}},\"header\":{\"fill\":{\"color\":\"#C8D4E3\"},\"line\":{\"color\":\"white\"}},\"type\":\"table\"}],\"barpolar\":[{\"marker\":{\"line\":{\"color\":\"#E5ECF6\",\"width\":0.5},\"pattern\":{\"fillmode\":\"overlay\",\"size\":10,\"solidity\":0.2}},\"type\":\"barpolar\"}],\"pie\":[{\"automargin\":true,\"type\":\"pie\"}]},\"layout\":{\"autotypenumbers\":\"strict\",\"colorway\":[\"#636efa\",\"#EF553B\",\"#00cc96\",\"#ab63fa\",\"#FFA15A\",\"#19d3f3\",\"#FF6692\",\"#B6E880\",\"#FF97FF\",\"#FECB52\"],\"font\":{\"color\":\"#2a3f5f\"},\"hovermode\":\"closest\",\"hoverlabel\":{\"align\":\"left\"},\"paper_bgcolor\":\"white\",\"plot_bgcolor\":\"#E5ECF6\",\"polar\":{\"bgcolor\":\"#E5ECF6\",\"angularaxis\":{\"gridcolor\":\"white\",\"linecolor\":\"white\",\"ticks\":\"\"},\"radialaxis\":{\"gridcolor\":\"white\",\"linecolor\":\"white\",\"ticks\":\"\"}},\"ternary\":{\"bgcolor\":\"#E5ECF6\",\"aaxis\":{\"gridcolor\":\"white\",\"linecolor\":\"white\",\"ticks\":\"\"},\"baxis\":{\"gridcolor\":\"white\",\"linecolor\":\"white\",\"ticks\":\"\"},\"caxis\":{\"gridcolor\":\"white\",\"linecolor\":\"white\",\"ticks\":\"\"}},\"coloraxis\":{\"colorbar\":{\"outlinewidth\":0,\"ticks\":\"\"}},\"colorscale\":{\"sequential\":[[0.0,\"#0d0887\"],[0.1111111111111111,\"#46039f\"],[0.2222222222222222,\"#7201a8\"],[0.3333333333333333,\"#9c179e\"],[0.4444444444444444,\"#bd3786\"],[0.5555555555555556,\"#d8576b\"],[0.6666666666666666,\"#ed7953\"],[0.7777777777777778,\"#fb9f3a\"],[0.8888888888888888,\"#fdca26\"],[1.0,\"#f0f921\"]],\"sequentialminus\":[[0.0,\"#0d0887\"],[0.1111111111111111,\"#46039f\"],[0.2222222222222222,\"#7201a8\"],[0.3333333333333333,\"#9c179e\"],[0.4444444444444444,\"#bd3786\"],[0.5555555555555556,\"#d8576b\"],[0.6666666666666666,\"#ed7953\"],[0.7777777777777778,\"#fb9f3a\"],[0.8888888888888888,\"#fdca26\"],[1.0,\"#f0f921\"]],\"diverging\":[[0,\"#8e0152\"],[0.1,\"#c51b7d\"],[0.2,\"#de77ae\"],[0.3,\"#f1b6da\"],[0.4,\"#fde0ef\"],[0.5,\"#f7f7f7\"],[0.6,\"#e6f5d0\"],[0.7,\"#b8e186\"],[0.8,\"#7fbc41\"],[0.9,\"#4d9221\"],[1,\"#276419\"]]},\"xaxis\":{\"gridcolor\":\"white\",\"linecolor\":\"white\",\"ticks\":\"\",\"title\":{\"standoff\":15},\"zerolinecolor\":\"white\",\"automargin\":true,\"zerolinewidth\":2},\"yaxis\":{\"gridcolor\":\"white\",\"linecolor\":\"white\",\"ticks\":\"\",\"title\":{\"standoff\":15},\"zerolinecolor\":\"white\",\"automargin\":true,\"zerolinewidth\":2},\"scene\":{\"xaxis\":{\"backgroundcolor\":\"#E5ECF6\",\"gridcolor\":\"white\",\"linecolor\":\"white\",\"showbackground\":true,\"ticks\":\"\",\"zerolinecolor\":\"white\",\"gridwidth\":2},\"yaxis\":{\"backgroundcolor\":\"#E5ECF6\",\"gridcolor\":\"white\",\"linecolor\":\"white\",\"showbackground\":true,\"ticks\":\"\",\"zerolinecolor\":\"white\",\"gridwidth\":2},\"zaxis\":{\"backgroundcolor\":\"#E5ECF6\",\"gridcolor\":\"white\",\"linecolor\":\"white\",\"showbackground\":true,\"ticks\":\"\",\"zerolinecolor\":\"white\",\"gridwidth\":2}},\"shapedefaults\":{\"line\":{\"color\":\"#2a3f5f\"}},\"annotationdefaults\":{\"arrowcolor\":\"#2a3f5f\",\"arrowhead\":0,\"arrowwidth\":1},\"geo\":{\"bgcolor\":\"white\",\"landcolor\":\"#E5ECF6\",\"subunitcolor\":\"white\",\"showland\":true,\"showlakes\":true,\"lakecolor\":\"white\"},\"title\":{\"x\":0.05},\"mapbox\":{\"style\":\"light\"}}},\"xaxis\":{\"anchor\":\"y\",\"domain\":[0.0,1.0],\"title\":{\"text\":\"Frequency\"}},\"yaxis\":{\"anchor\":\"x\",\"domain\":[0.0,1.0],\"title\":{\"text\":\"words\"}},\"legend\":{\"tracegroupgap\":0},\"title\":{\"text\":\"Top 10 Trigrams in Papers published by Silk Joseph\"},\"barmode\":\"relative\"},                        {\"responsive\": true}                    ).then(function(){\n",
       "                            \n",
       "var gd = document.getElementById('a387046a-7335-4485-8002-83dd565f3d07');\n",
       "var x = new MutationObserver(function (mutations, observer) {{\n",
       "        var display = window.getComputedStyle(gd).display;\n",
       "        if (!display || display === 'none') {{\n",
       "            console.log([gd, 'removed!']);\n",
       "            Plotly.purge(gd);\n",
       "            observer.disconnect();\n",
       "        }}\n",
       "}});\n",
       "\n",
       "// Listen for the removal of the full notebook cells\n",
       "var notebookContainer = gd.closest('#notebook-container');\n",
       "if (notebookContainer) {{\n",
       "    x.observe(notebookContainer, {childList: true});\n",
       "}}\n",
       "\n",
       "// Listen for the clearing of the current output cell\n",
       "var outputEl = gd.closest('.output');\n",
       "if (outputEl) {{\n",
       "    x.observe(outputEl, {childList: true});\n",
       "}}\n",
       "\n",
       "                        })                };                });            </script>        </div>"
      ]
     },
     "metadata": {},
     "output_type": "display_data"
    }
   ],
   "source": [
    "trigrams_list=[\" \".join(generateNGram(title.replace(\":\",\"\"),3)) for title in titles]\n",
    "topn=10\n",
    "top_trigrams=getMostCommon(trigrams_list,topn=topn)\n",
    "top_trigrams_df=pd.DataFrame()\n",
    "top_trigrams_df['words']=[val[0] for val in top_trigrams]\n",
    "top_trigrams_df['Frequency']=[val[1] for val in top_trigrams]\n",
    "top_trigrams_df=top_trigrams_df[top_trigrams_df[\"words\"]!=\"\"]\n",
    "px.bar(data_frame=top_trigrams_df.sort_values(\"Frequency\",ascending=True),x=\"Frequency\",y=\"words\",orientation=\"h\",title=\"Top \"+str(topn)+\" Trigrams in Papers published by Silk Joseph\")"
   ]
  },
  {
   "cell_type": "code",
   "execution_count": 49,
   "id": "23c6d62f",
   "metadata": {
    "execution": {
     "iopub.execute_input": "2022-09-16T21:11:07.327750Z",
     "iopub.status.busy": "2022-09-16T21:11:07.327322Z",
     "iopub.status.idle": "2022-09-16T21:11:18.085808Z",
     "shell.execute_reply": "2022-09-16T21:11:18.084074Z"
    },
    "papermill": {
     "duration": 10.789238,
     "end_time": "2022-09-16T21:11:18.088744",
     "exception": false,
     "start_time": "2022-09-16T21:11:07.299506",
     "status": "completed"
    },
    "tags": []
   },
   "outputs": [
    {
     "name": "stderr",
     "output_type": "stream",
     "text": [
      "/opt/conda/lib/python3.7/site-packages/past/types/oldstr.py:36: DeprecationWarning:\n",
      "\n",
      "invalid escape sequence \\d\n",
      "\n"
     ]
    }
   ],
   "source": [
    "from pprint import pprint\n",
    "\n",
    "# Gensim\n",
    "import gensim\n",
    "import gensim.corpora as corpora\n",
    "from gensim.utils import simple_preprocess\n",
    "from gensim.models import CoherenceModel\n",
    "\n",
    "# spacy for lemmatization\n",
    "import spacy\n",
    "\n",
    "# Plotting tools\n",
    "import pyLDAvis"
   ]
  },
  {
   "cell_type": "code",
   "execution_count": 50,
   "id": "b23713b5",
   "metadata": {
    "execution": {
     "iopub.execute_input": "2022-09-16T21:11:18.146007Z",
     "iopub.status.busy": "2022-09-16T21:11:18.144788Z",
     "iopub.status.idle": "2022-09-16T21:11:18.152808Z",
     "shell.execute_reply": "2022-09-16T21:11:18.151546Z"
    },
    "papermill": {
     "duration": 0.039302,
     "end_time": "2022-09-16T21:11:18.155417",
     "exception": false,
     "start_time": "2022-09-16T21:11:18.116115",
     "status": "completed"
    },
    "tags": []
   },
   "outputs": [],
   "source": [
    "def tokenise(sentences):\n",
    "    return [gensim.utils.simple_preprocess(sentence, deacc=True,max_len=50) for sentence in sentences]"
   ]
  },
  {
   "cell_type": "code",
   "execution_count": 51,
   "id": "bbc5a164",
   "metadata": {
    "execution": {
     "iopub.execute_input": "2022-09-16T21:11:18.214503Z",
     "iopub.status.busy": "2022-09-16T21:11:18.213717Z",
     "iopub.status.idle": "2022-09-16T21:11:18.226796Z",
     "shell.execute_reply": "2022-09-16T21:11:18.225763Z"
    },
    "papermill": {
     "duration": 0.045464,
     "end_time": "2022-09-16T21:11:18.229189",
     "exception": false,
     "start_time": "2022-09-16T21:11:18.183725",
     "status": "completed"
    },
    "tags": []
   },
   "outputs": [
    {
     "data": {
      "text/plain": [
       "['detectability',\n",
       " 'of',\n",
       " 'gravitational',\n",
       " 'waves',\n",
       " 'from',\n",
       " 'the',\n",
       " 'coalescence',\n",
       " 'of',\n",
       " 'massive',\n",
       " 'primordial',\n",
       " 'black',\n",
       " 'holes',\n",
       " 'with',\n",
       " 'initial',\n",
       " 'clustering']"
      ]
     },
     "execution_count": 51,
     "metadata": {},
     "output_type": "execute_result"
    }
   ],
   "source": [
    "tokenised_sentences=tokenise(SJ_papers['title'].tolist())\n",
    "tokenised_sentences[0]"
   ]
  },
  {
   "cell_type": "code",
   "execution_count": 52,
   "id": "ada927c7",
   "metadata": {
    "execution": {
     "iopub.execute_input": "2022-09-16T21:11:18.286547Z",
     "iopub.status.busy": "2022-09-16T21:11:18.285741Z",
     "iopub.status.idle": "2022-09-16T21:11:20.571186Z",
     "shell.execute_reply": "2022-09-16T21:11:20.569818Z"
    },
    "papermill": {
     "duration": 2.317289,
     "end_time": "2022-09-16T21:11:20.574118",
     "exception": false,
     "start_time": "2022-09-16T21:11:18.256829",
     "status": "completed"
    },
    "tags": []
   },
   "outputs": [],
   "source": [
    "import en_core_web_sm\n",
    "nlp = spacy.load(\"en_core_web_sm\")"
   ]
  },
  {
   "cell_type": "code",
   "execution_count": 53,
   "id": "ede39454",
   "metadata": {
    "execution": {
     "iopub.execute_input": "2022-09-16T21:11:20.633188Z",
     "iopub.status.busy": "2022-09-16T21:11:20.632735Z",
     "iopub.status.idle": "2022-09-16T21:11:20.639911Z",
     "shell.execute_reply": "2022-09-16T21:11:20.638704Z"
    },
    "papermill": {
     "duration": 0.039702,
     "end_time": "2022-09-16T21:11:20.642304",
     "exception": false,
     "start_time": "2022-09-16T21:11:20.602602",
     "status": "completed"
    },
    "tags": []
   },
   "outputs": [],
   "source": [
    "def lemmatise(sentence,stop_words,allowed_postags=None):\n",
    "    doc=nlp(sentence)\n",
    "    #print(sentence)\n",
    "    if allowed_postags!=None:\n",
    "        tokens = [token.lemma_ for token in doc if (token.pos_ in allowed_postags) and (token.text not in stop_words)]\n",
    "    if allowed_postags==None:\n",
    "        tokens= [token.lemma_ for token in doc if (token.text not in stop_words)]\n",
    "    return tokens"
   ]
  },
  {
   "cell_type": "code",
   "execution_count": 54,
   "id": "0fcd96d3",
   "metadata": {
    "execution": {
     "iopub.execute_input": "2022-09-16T21:11:20.699981Z",
     "iopub.status.busy": "2022-09-16T21:11:20.699525Z",
     "iopub.status.idle": "2022-09-16T21:11:20.705217Z",
     "shell.execute_reply": "2022-09-16T21:11:20.703788Z"
    },
    "papermill": {
     "duration": 0.037574,
     "end_time": "2022-09-16T21:11:20.708026",
     "exception": false,
     "start_time": "2022-09-16T21:11:20.670452",
     "status": "completed"
    },
    "tags": []
   },
   "outputs": [],
   "source": [
    "stop_words = spacy.lang.en.stop_words.STOP_WORDS"
   ]
  },
  {
   "cell_type": "code",
   "execution_count": 55,
   "id": "a2509bd3",
   "metadata": {
    "execution": {
     "iopub.execute_input": "2022-09-16T21:11:20.765684Z",
     "iopub.status.busy": "2022-09-16T21:11:20.765212Z",
     "iopub.status.idle": "2022-09-16T21:11:21.095753Z",
     "shell.execute_reply": "2022-09-16T21:11:21.094573Z"
    },
    "papermill": {
     "duration": 0.363326,
     "end_time": "2022-09-16T21:11:21.098295",
     "exception": false,
     "start_time": "2022-09-16T21:11:20.734969",
     "status": "completed"
    },
    "tags": []
   },
   "outputs": [
    {
     "data": {
      "text/plain": [
       "['detectability',\n",
       " 'gravitational',\n",
       " 'wave',\n",
       " 'coalescence',\n",
       " 'massive',\n",
       " 'primordial',\n",
       " 'black',\n",
       " 'hole',\n",
       " 'initial',\n",
       " 'clustering']"
      ]
     },
     "execution_count": 55,
     "metadata": {},
     "output_type": "execute_result"
    }
   ],
   "source": [
    "sentences=[\" \".join(tokenised_sentence) for tokenised_sentence in tokenised_sentences]\n",
    "lemmatised_sentences=[lemmatise(sentence,stop_words) for sentence in sentences]\n",
    "lemmatised_sentences[0]"
   ]
  },
  {
   "cell_type": "code",
   "execution_count": 56,
   "id": "dcdf211e",
   "metadata": {
    "execution": {
     "iopub.execute_input": "2022-09-16T21:11:21.155740Z",
     "iopub.status.busy": "2022-09-16T21:11:21.155317Z",
     "iopub.status.idle": "2022-09-16T21:11:21.167071Z",
     "shell.execute_reply": "2022-09-16T21:11:21.165852Z"
    },
    "papermill": {
     "duration": 0.043938,
     "end_time": "2022-09-16T21:11:21.169638",
     "exception": false,
     "start_time": "2022-09-16T21:11:21.125700",
     "status": "completed"
    },
    "tags": []
   },
   "outputs": [],
   "source": [
    "# Build the bigram and trigram models\n",
    "bigram = gensim.models.Phrases(lemmatised_sentences,min_count=2) \n",
    "trigram = gensim.models.Phrases(bigram[lemmatised_sentences],min_count=2)  \n",
    "\n",
    "bigram_mod = gensim.models.phrases.Phraser(bigram)\n",
    "trigram_mod = gensim.models.phrases.Phraser(trigram)"
   ]
  },
  {
   "cell_type": "code",
   "execution_count": 57,
   "id": "73ee8bc3",
   "metadata": {
    "execution": {
     "iopub.execute_input": "2022-09-16T21:11:21.226197Z",
     "iopub.status.busy": "2022-09-16T21:11:21.225747Z",
     "iopub.status.idle": "2022-09-16T21:11:21.232681Z",
     "shell.execute_reply": "2022-09-16T21:11:21.231183Z"
    },
    "papermill": {
     "duration": 0.037986,
     "end_time": "2022-09-16T21:11:21.234873",
     "exception": false,
     "start_time": "2022-09-16T21:11:21.196887",
     "status": "completed"
    },
    "tags": []
   },
   "outputs": [],
   "source": [
    "bigrams_words=[bigram_mod[sentence] for sentence in lemmatised_sentences]\n",
    "\n",
    "trigrams_words=[trigram_mod[sentence] for sentence in bigrams_words]"
   ]
  },
  {
   "cell_type": "code",
   "execution_count": 58,
   "id": "d74999d3",
   "metadata": {
    "execution": {
     "iopub.execute_input": "2022-09-16T21:11:21.291316Z",
     "iopub.status.busy": "2022-09-16T21:11:21.290845Z",
     "iopub.status.idle": "2022-09-16T21:11:21.302182Z",
     "shell.execute_reply": "2022-09-16T21:11:21.300715Z"
    },
    "papermill": {
     "duration": 0.042626,
     "end_time": "2022-09-16T21:11:21.304608",
     "exception": false,
     "start_time": "2022-09-16T21:11:21.261982",
     "status": "completed"
    },
    "tags": []
   },
   "outputs": [
    {
     "data": {
      "text/plain": [
       "[('clustering', 1),\n",
       " ('coalescence', 1),\n",
       " ('detectability', 1),\n",
       " ('gravitational_wave', 1),\n",
       " ('initial', 1),\n",
       " ('massive', 1),\n",
       " ('primordial_black_hole', 1)]"
      ]
     },
     "execution_count": 58,
     "metadata": {},
     "output_type": "execute_result"
    }
   ],
   "source": [
    "id2word = corpora.Dictionary(trigrams_words)\n",
    "corpus = [id2word.doc2bow(text) for text in trigrams_words]\n",
    "[(id2word[id], freq) for id, freq in corpus[0]] "
   ]
  },
  {
   "cell_type": "code",
   "execution_count": 59,
   "id": "46f49e9c",
   "metadata": {
    "execution": {
     "iopub.execute_input": "2022-09-16T21:11:21.362328Z",
     "iopub.status.busy": "2022-09-16T21:11:21.361877Z",
     "iopub.status.idle": "2022-09-16T21:11:21.371427Z",
     "shell.execute_reply": "2022-09-16T21:11:21.370217Z"
    },
    "papermill": {
     "duration": 0.041369,
     "end_time": "2022-09-16T21:11:21.374063",
     "exception": false,
     "start_time": "2022-09-16T21:11:21.332694",
     "status": "completed"
    },
    "tags": []
   },
   "outputs": [],
   "source": [
    "def compute_coherence_values(id2word, corpus, texts, limit, start=2, step=3):\n",
    "    coherence_values = []\n",
    "    model_list = []\n",
    "    for num_topics in range(start, limit, step):\n",
    "        model = gensim.models.ldamodel.LdaModel(corpus=corpus,\n",
    "                                           id2word=id2word,\n",
    "                                           num_topics=num_topics, \n",
    "                                           random_state=100,\n",
    "                                           update_every=1,\n",
    "                                           chunksize=20,\n",
    "                                           passes=10,\n",
    "                                           alpha='auto',\n",
    "                                           per_word_topics=True)\n",
    "        model_list.append(model)\n",
    "        coherencemodel = CoherenceModel(model=model, texts=texts, dictionary=id2word, coherence='c_v')\n",
    "        coherence_values.append(coherencemodel.get_coherence())\n",
    "\n",
    "    return model_list, coherence_values"
   ]
  },
  {
   "cell_type": "code",
   "execution_count": 60,
   "id": "2b748f49",
   "metadata": {
    "execution": {
     "iopub.execute_input": "2022-09-16T21:11:21.431679Z",
     "iopub.status.busy": "2022-09-16T21:11:21.431235Z",
     "iopub.status.idle": "2022-09-16T21:11:28.190421Z",
     "shell.execute_reply": "2022-09-16T21:11:28.188611Z"
    },
    "papermill": {
     "duration": 6.791685,
     "end_time": "2022-09-16T21:11:28.193541",
     "exception": false,
     "start_time": "2022-09-16T21:11:21.401856",
     "status": "completed"
    },
    "tags": []
   },
   "outputs": [
    {
     "data": {
      "image/png": "[encoded data removed]",
      "text/plain": [
       "<Figure size 432x288 with 1 Axes>"
      ]
     },
     "metadata": {
      "needs_background": "light"
     },
     "output_type": "display_data"
    }
   ],
   "source": [
    "models,coherence=compute_coherence_values(id2word,corpus,trigrams_words,limit=20,start=2,step=2)\n",
    "x = range(2, 20, 2)\n",
    "plt.plot(x, coherence)\n",
    "plt.xlabel(\"Num Topics\")\n",
    "plt.ylabel(\"Coherence score\")\n",
    "plt.legend((\"coherence_values\"), loc='best')\n",
    "plt.show()"
   ]
  },
  {
   "cell_type": "code",
   "execution_count": 61,
   "id": "a69cf09f",
   "metadata": {
    "execution": {
     "iopub.execute_input": "2022-09-16T21:11:28.253632Z",
     "iopub.status.busy": "2022-09-16T21:11:28.252933Z",
     "iopub.status.idle": "2022-09-16T21:11:28.394403Z",
     "shell.execute_reply": "2022-09-16T21:11:28.392669Z"
    },
    "papermill": {
     "duration": 0.17589,
     "end_time": "2022-09-16T21:11:28.397916",
     "exception": false,
     "start_time": "2022-09-16T21:11:28.222026",
     "status": "completed"
    },
    "tags": []
   },
   "outputs": [],
   "source": [
    "lda_model = gensim.models.ldamodel.LdaModel(corpus=corpus,\n",
    "                                           id2word=id2word,\n",
    "                                           num_topics=2, \n",
    "                                           random_state=100,\n",
    "                                           update_every=1,\n",
    "                                           chunksize=20,\n",
    "                                           passes=10,\n",
    "                                           alpha='auto',\n",
    "                                           per_word_topics=True)"
   ]
  },
  {
   "cell_type": "code",
   "execution_count": 62,
   "id": "bbbe6861",
   "metadata": {
    "execution": {
     "iopub.execute_input": "2022-09-16T21:11:28.461641Z",
     "iopub.status.busy": "2022-09-16T21:11:28.461170Z",
     "iopub.status.idle": "2022-09-16T21:11:28.471846Z",
     "shell.execute_reply": "2022-09-16T21:11:28.469828Z"
    },
    "papermill": {
     "duration": 0.045364,
     "end_time": "2022-09-16T21:11:28.474758",
     "exception": false,
     "start_time": "2022-09-16T21:11:28.429394",
     "status": "completed"
    },
    "tags": []
   },
   "outputs": [
    {
     "name": "stdout",
     "output_type": "stream",
     "text": [
      "[(0,\n",
      "  '0.027*\"stochastic_gravitational\" + 0.027*\"wave_background\" + '\n",
      "  '0.020*\"primordial_black_hole\" + 0.019*\"black_hole\" + 0.015*\"astrophysical\" '\n",
      "  '+ 0.015*\"galaxy\" + 0.015*\"primordial\" + 0.011*\"binary\" + 0.011*\"neutron\" + '\n",
      "  '0.011*\"burst\"'),\n",
      " (1,\n",
      "  '0.028*\"gravitational_wave\" + 0.025*\"primordial_black_hole\" + 0.019*\"star\" + '\n",
      "  '0.018*\"dark_matter\" + 0.018*\"merger\" + 0.016*\"binary\" + 0.016*\"impact\" + '\n",
      "  '0.016*\"scale\" + 0.012*\"rate\" + 0.012*\"implication\"')]\n"
     ]
    }
   ],
   "source": [
    "pprint(lda_model.print_topics())\n",
    "doc_lda = lda_model[corpus]"
   ]
  },
  {
   "cell_type": "code",
   "execution_count": 63,
   "id": "31831ee8",
   "metadata": {
    "execution": {
     "iopub.execute_input": "2022-09-16T21:11:28.538748Z",
     "iopub.status.busy": "2022-09-16T21:11:28.538302Z",
     "iopub.status.idle": "2022-09-16T21:11:28.839244Z",
     "shell.execute_reply": "2022-09-16T21:11:28.836977Z"
    },
    "papermill": {
     "duration": 0.337023,
     "end_time": "2022-09-16T21:11:28.842439",
     "exception": false,
     "start_time": "2022-09-16T21:11:28.505416",
     "status": "completed"
    },
    "tags": []
   },
   "outputs": [
    {
     "name": "stdout",
     "output_type": "stream",
     "text": [
      "\n",
      "Perplexity:  -5.516405186348635\n",
      "\n",
      "Coherence Score:  0.48082485689719523\n"
     ]
    }
   ],
   "source": [
    "print('\\nPerplexity: ', lda_model.log_perplexity(corpus))  \n",
    "\n",
    "# Compute Coherence Score\n",
    "coherence_model_lda = CoherenceModel(model=lda_model, texts=trigrams_words, dictionary=id2word, coherence='c_v')\n",
    "coherence_lda = coherence_model_lda.get_coherence()\n",
    "print('\\nCoherence Score: ', coherence_lda)"
   ]
  },
  {
   "cell_type": "code",
   "execution_count": 64,
   "id": "d9c2a31b",
   "metadata": {
    "execution": {
     "iopub.execute_input": "2022-09-16T21:11:28.903469Z",
     "iopub.status.busy": "2022-09-16T21:11:28.901826Z",
     "iopub.status.idle": "2022-09-16T21:11:28.914228Z",
     "shell.execute_reply": "2022-09-16T21:11:28.912746Z"
    },
    "papermill": {
     "duration": 0.04527,
     "end_time": "2022-09-16T21:11:28.916797",
     "exception": false,
     "start_time": "2022-09-16T21:11:28.871527",
     "status": "completed"
    },
    "tags": []
   },
   "outputs": [],
   "source": [
    "def format_topics_sentences(texts,ldamodel=lda_model, corpus=corpus):\n",
    "    # Init output\n",
    "    sent_topics_df = pd.DataFrame()\n",
    "\n",
    "    # Get main topic in each document\n",
    "    for i, row in enumerate(ldamodel[corpus]):\n",
    "        row = sorted(row[0], key=lambda x: (x[1]), reverse=True)\n",
    "        # Get the Dominant topic, Perc Contribution and Keywords for each document\n",
    "        for j, (topic_num, prop_topic) in enumerate(row):\n",
    "            if j == 0:  # => dominant topic\n",
    "                wp = ldamodel.show_topic(topic_num)\n",
    "                topic_keywords = \", \".join([word for word, prop in wp])\n",
    "                sent_topics_df = sent_topics_df.append(pd.Series([int(topic_num), round(prop_topic,4), topic_keywords]), ignore_index=True)\n",
    "            else:\n",
    "                break\n",
    "    sent_topics_df.columns = ['Dominant_Topic', 'Perc_Contribution', 'Topic_Keywords']\n",
    "\n",
    "    # Add original text to the end of the output\n",
    "    contents = pd.Series(texts)\n",
    "    sent_topics_df = pd.concat([sent_topics_df, contents], axis=1)\n",
    "    return(sent_topics_df)"
   ]
  },
  {
   "cell_type": "code",
   "execution_count": 65,
   "id": "63a120ec",
   "metadata": {
    "execution": {
     "iopub.execute_input": "2022-09-16T21:11:28.981736Z",
     "iopub.status.busy": "2022-09-16T21:11:28.980248Z",
     "iopub.status.idle": "2022-09-16T21:11:29.106844Z",
     "shell.execute_reply": "2022-09-16T21:11:29.105416Z"
    },
    "papermill": {
     "duration": 0.163154,
     "end_time": "2022-09-16T21:11:29.109643",
     "exception": false,
     "start_time": "2022-09-16T21:11:28.946489",
     "status": "completed"
    },
    "tags": []
   },
   "outputs": [
    {
     "data": {
      "text/html": [
       "<div>\n",
       "<style scoped>\n",
       "    .dataframe tbody tr th:only-of-type {\n",
       "        vertical-align: middle;\n",
       "    }\n",
       "\n",
       "    .dataframe tbody tr th {\n",
       "        vertical-align: top;\n",
       "    }\n",
       "\n",
       "    .dataframe thead th {\n",
       "        text-align: right;\n",
       "    }\n",
       "</style>\n",
       "<table border=\"1\" class=\"dataframe\">\n",
       "  <thead>\n",
       "    <tr style=\"text-align: right;\">\n",
       "      <th></th>\n",
       "      <th>Document_No</th>\n",
       "      <th>Dominant_Topic</th>\n",
       "      <th>Topic_Perc_Contrib</th>\n",
       "      <th>Keywords</th>\n",
       "      <th>Text</th>\n",
       "    </tr>\n",
       "  </thead>\n",
       "  <tbody>\n",
       "    <tr>\n",
       "      <th>0</th>\n",
       "      <td>0</td>\n",
       "      <td>1.0</td>\n",
       "      <td>0.9890</td>\n",
       "      <td>gravitational_wave, primordial_black_hole, sta...</td>\n",
       "      <td>Detectability of Gravitational Waves from the ...</td>\n",
       "    </tr>\n",
       "    <tr>\n",
       "      <th>1</th>\n",
       "      <td>1</td>\n",
       "      <td>1.0</td>\n",
       "      <td>0.9848</td>\n",
       "      <td>gravitational_wave, primordial_black_hole, sta...</td>\n",
       "      <td>Evolution of primordial black hole spin due to...</td>\n",
       "    </tr>\n",
       "    <tr>\n",
       "      <th>2</th>\n",
       "      <td>2</td>\n",
       "      <td>1.0</td>\n",
       "      <td>0.9890</td>\n",
       "      <td>gravitational_wave, primordial_black_hole, sta...</td>\n",
       "      <td>Multi-messenger tests of gravity with weakly l...</td>\n",
       "    </tr>\n",
       "    <tr>\n",
       "      <th>3</th>\n",
       "      <td>3</td>\n",
       "      <td>1.0</td>\n",
       "      <td>0.9903</td>\n",
       "      <td>gravitational_wave, primordial_black_hole, sta...</td>\n",
       "      <td>Probing the theory of gravity with gravitation...</td>\n",
       "    </tr>\n",
       "    <tr>\n",
       "      <th>4</th>\n",
       "      <td>4</td>\n",
       "      <td>1.0</td>\n",
       "      <td>0.9935</td>\n",
       "      <td>gravitational_wave, primordial_black_hole, sta...</td>\n",
       "      <td>Cusp-to-core transition in low-mass dwarf gala...</td>\n",
       "    </tr>\n",
       "    <tr>\n",
       "      <th>5</th>\n",
       "      <td>5</td>\n",
       "      <td>0.0</td>\n",
       "      <td>0.9917</td>\n",
       "      <td>stochastic_gravitational, wave_background, pri...</td>\n",
       "      <td>Embedding globular clusters in dark matter min...</td>\n",
       "    </tr>\n",
       "    <tr>\n",
       "      <th>6</th>\n",
       "      <td>6</td>\n",
       "      <td>1.0</td>\n",
       "      <td>0.9872</td>\n",
       "      <td>gravitational_wave, primordial_black_hole, sta...</td>\n",
       "      <td>How to measure CMB spectral distortions with a...</td>\n",
       "    </tr>\n",
       "    <tr>\n",
       "      <th>7</th>\n",
       "      <td>7</td>\n",
       "      <td>0.0</td>\n",
       "      <td>0.9806</td>\n",
       "      <td>stochastic_gravitational, wave_background, pri...</td>\n",
       "      <td>Time-dependence of the astrophysical stochasti...</td>\n",
       "    </tr>\n",
       "    <tr>\n",
       "      <th>8</th>\n",
       "      <td>8</td>\n",
       "      <td>1.0</td>\n",
       "      <td>0.9848</td>\n",
       "      <td>gravitational_wave, primordial_black_hole, sta...</td>\n",
       "      <td>Flattening of dark matter cusps during mergers...</td>\n",
       "    </tr>\n",
       "    <tr>\n",
       "      <th>9</th>\n",
       "      <td>9</td>\n",
       "      <td>0.0</td>\n",
       "      <td>0.9837</td>\n",
       "      <td>stochastic_gravitational, wave_background, pri...</td>\n",
       "      <td>Subhalo sinking and off-center massive black h...</td>\n",
       "    </tr>\n",
       "  </tbody>\n",
       "</table>\n",
       "</div>"
      ],
      "text/plain": [
       "   Document_No  Dominant_Topic  Topic_Perc_Contrib  \\\n",
       "0            0             1.0              0.9890   \n",
       "1            1             1.0              0.9848   \n",
       "2            2             1.0              0.9890   \n",
       "3            3             1.0              0.9903   \n",
       "4            4             1.0              0.9935   \n",
       "5            5             0.0              0.9917   \n",
       "6            6             1.0              0.9872   \n",
       "7            7             0.0              0.9806   \n",
       "8            8             1.0              0.9848   \n",
       "9            9             0.0              0.9837   \n",
       "\n",
       "                                            Keywords  \\\n",
       "0  gravitational_wave, primordial_black_hole, sta...   \n",
       "1  gravitational_wave, primordial_black_hole, sta...   \n",
       "2  gravitational_wave, primordial_black_hole, sta...   \n",
       "3  gravitational_wave, primordial_black_hole, sta...   \n",
       "4  gravitational_wave, primordial_black_hole, sta...   \n",
       "5  stochastic_gravitational, wave_background, pri...   \n",
       "6  gravitational_wave, primordial_black_hole, sta...   \n",
       "7  stochastic_gravitational, wave_background, pri...   \n",
       "8  gravitational_wave, primordial_black_hole, sta...   \n",
       "9  stochastic_gravitational, wave_background, pri...   \n",
       "\n",
       "                                                Text  \n",
       "0  Detectability of Gravitational Waves from the ...  \n",
       "1  Evolution of primordial black hole spin due to...  \n",
       "2  Multi-messenger tests of gravity with weakly l...  \n",
       "3  Probing the theory of gravity with gravitation...  \n",
       "4  Cusp-to-core transition in low-mass dwarf gala...  \n",
       "5  Embedding globular clusters in dark matter min...  \n",
       "6  How to measure CMB spectral distortions with a...  \n",
       "7  Time-dependence of the astrophysical stochasti...  \n",
       "8  Flattening of dark matter cusps during mergers...  \n",
       "9  Subhalo sinking and off-center massive black h...  "
      ]
     },
     "execution_count": 65,
     "metadata": {},
     "output_type": "execute_result"
    }
   ],
   "source": [
    "df_topic_sents_keywords = format_topics_sentences(SJ_papers['title'].tolist(),ldamodel=lda_model, corpus=corpus)\n",
    "\n",
    "# Format\n",
    "df_dominant_topic = df_topic_sents_keywords.reset_index()\n",
    "df_dominant_topic.columns = ['Document_No', 'Dominant_Topic', 'Topic_Perc_Contrib', 'Keywords', 'Text']\n",
    "\n",
    "# Show\n",
    "df_dominant_topic.head(10)"
   ]
  },
  {
   "cell_type": "code",
   "execution_count": 66,
   "id": "6fe3f7c1",
   "metadata": {
    "execution": {
     "iopub.execute_input": "2022-09-16T21:11:29.170061Z",
     "iopub.status.busy": "2022-09-16T21:11:29.169605Z",
     "iopub.status.idle": "2022-09-16T21:11:29.192952Z",
     "shell.execute_reply": "2022-09-16T21:11:29.191553Z"
    },
    "papermill": {
     "duration": 0.057677,
     "end_time": "2022-09-16T21:11:29.196229",
     "exception": false,
     "start_time": "2022-09-16T21:11:29.138552",
     "status": "completed"
    },
    "tags": []
   },
   "outputs": [
    {
     "data": {
      "text/html": [
       "<div>\n",
       "<style scoped>\n",
       "    .dataframe tbody tr th:only-of-type {\n",
       "        vertical-align: middle;\n",
       "    }\n",
       "\n",
       "    .dataframe tbody tr th {\n",
       "        vertical-align: top;\n",
       "    }\n",
       "\n",
       "    .dataframe thead th {\n",
       "        text-align: right;\n",
       "    }\n",
       "</style>\n",
       "<table border=\"1\" class=\"dataframe\">\n",
       "  <thead>\n",
       "    <tr style=\"text-align: right;\">\n",
       "      <th></th>\n",
       "      <th>Topic</th>\n",
       "      <th>Number of Documents</th>\n",
       "      <th>percentage_contribution</th>\n",
       "    </tr>\n",
       "  </thead>\n",
       "  <tbody>\n",
       "    <tr>\n",
       "      <th>0</th>\n",
       "      <td>1.0</td>\n",
       "      <td>19</td>\n",
       "      <td>57.575758</td>\n",
       "    </tr>\n",
       "    <tr>\n",
       "      <th>1</th>\n",
       "      <td>0.0</td>\n",
       "      <td>14</td>\n",
       "      <td>42.424242</td>\n",
       "    </tr>\n",
       "  </tbody>\n",
       "</table>\n",
       "</div>"
      ],
      "text/plain": [
       "   Topic  Number of Documents  percentage_contribution\n",
       "0    1.0                   19                57.575758\n",
       "1    0.0                   14                42.424242"
      ]
     },
     "execution_count": 66,
     "metadata": {},
     "output_type": "execute_result"
    }
   ],
   "source": [
    "topic_counts=df_dominant_topic['Dominant_Topic'].value_counts().reset_index().rename(columns={'index':'Topic','Dominant_Topic':'Number of Documents'})\n",
    "topic_counts['percentage_contribution']=(topic_counts['Number of Documents']/topic_counts['Number of Documents'].sum())*100\n",
    "topic_counts"
   ]
  },
  {
   "cell_type": "code",
   "execution_count": 67,
   "id": "c4685663",
   "metadata": {
    "execution": {
     "iopub.execute_input": "2022-09-16T21:11:29.259265Z",
     "iopub.status.busy": "2022-09-16T21:11:29.258088Z",
     "iopub.status.idle": "2022-09-16T21:11:29.266548Z",
     "shell.execute_reply": "2022-09-16T21:11:29.265379Z"
    },
    "papermill": {
     "duration": 0.042216,
     "end_time": "2022-09-16T21:11:29.269404",
     "exception": false,
     "start_time": "2022-09-16T21:11:29.227188",
     "status": "completed"
    },
    "tags": []
   },
   "outputs": [],
   "source": [
    "def explore_topic(lda_model, topic_number, topn, output=True):\n",
    "    \"\"\"\n",
    "    accept a ldamodel, atopic number and topn vocabs of interest\n",
    "    prints a formatted list of the topn terms\n",
    "    \"\"\"\n",
    "    terms = []\n",
    "    for term, frequency in lda_model.show_topic(topic_number, topn=topn):\n",
    "        terms += [term]\n",
    "        if output:\n",
    "            print(u'{:20} {:.3f}'.format(term, round(frequency, 3)))\n",
    "    \n",
    "    return terms"
   ]
  },
  {
   "cell_type": "code",
   "execution_count": 68,
   "id": "d998b9c0",
   "metadata": {
    "execution": {
     "iopub.execute_input": "2022-09-16T21:11:29.336716Z",
     "iopub.status.busy": "2022-09-16T21:11:29.335324Z",
     "iopub.status.idle": "2022-09-16T21:11:29.345729Z",
     "shell.execute_reply": "2022-09-16T21:11:29.344189Z"
    },
    "papermill": {
     "duration": 0.04824,
     "end_time": "2022-09-16T21:11:29.349052",
     "exception": false,
     "start_time": "2022-09-16T21:11:29.300812",
     "status": "completed"
    },
    "tags": []
   },
   "outputs": [
    {
     "name": "stdout",
     "output_type": "stream",
     "text": [
      "term                 frequency\n",
      "\n",
      "Topic 0 |---------------------\n",
      "\n",
      "stochastic_gravitational 0.027\n",
      "wave_background      0.027\n",
      "primordial_black_hole 0.020\n",
      "black_hole           0.019\n",
      "astrophysical        0.015\n",
      "galaxy               0.015\n",
      "primordial           0.015\n",
      "binary               0.011\n",
      "neutron              0.011\n",
      "burst                0.011\n",
      "Topic 1 |---------------------\n",
      "\n",
      "gravitational_wave   0.028\n",
      "primordial_black_hole 0.025\n",
      "star                 0.019\n",
      "dark_matter          0.018\n",
      "merger               0.018\n",
      "binary               0.016\n",
      "impact               0.016\n",
      "scale                0.016\n",
      "rate                 0.012\n",
      "implication          0.012\n"
     ]
    }
   ],
   "source": [
    "num_topics=2\n",
    "\n",
    "topic_summaries = []\n",
    "print(u'{:20} {}'.format(u'term', u'frequency') + u'\\n')\n",
    "for i in range(num_topics):\n",
    "    print('Topic '+str(i)+' |---------------------\\n')\n",
    "    tmp = explore_topic(lda_model,topic_number=i, topn=10, output=True )\n",
    "    topic_summaries += [tmp[:5]]\n",
    "    print"
   ]
  },
  {
   "cell_type": "code",
   "execution_count": 69,
   "id": "890807d9",
   "metadata": {
    "execution": {
     "iopub.execute_input": "2022-09-16T21:11:29.410547Z",
     "iopub.status.busy": "2022-09-16T21:11:29.410066Z",
     "iopub.status.idle": "2022-09-16T21:11:29.795723Z",
     "shell.execute_reply": "2022-09-16T21:11:29.794552Z"
    },
    "papermill": {
     "duration": 0.419664,
     "end_time": "2022-09-16T21:11:29.799126",
     "exception": false,
     "start_time": "2022-09-16T21:11:29.379462",
     "status": "completed"
    },
    "tags": []
   },
   "outputs": [
    {
     "name": "stdout",
     "output_type": "stream",
     "text": [
      "[t-SNE] Computing 32 nearest neighbors...\n",
      "[t-SNE] Indexed 33 samples in 0.000s...\n",
      "[t-SNE] Computed neighbors for 33 samples in 0.005s...\n",
      "[t-SNE] Computed conditional probabilities for sample 33 / 33\n",
      "[t-SNE] Mean sigma: 1.525622\n"
     ]
    },
    {
     "name": "stderr",
     "output_type": "stream",
     "text": [
      "/opt/conda/lib/python3.7/site-packages/sklearn/manifold/_t_sne.py:793: FutureWarning:\n",
      "\n",
      "The default learning rate in TSNE will change from 200.0 to 'auto' in 1.2.\n",
      "\n",
      "/opt/conda/lib/python3.7/site-packages/sklearn/manifold/_t_sne.py:986: FutureWarning:\n",
      "\n",
      "The PCA initialization in TSNE will change to have the standard deviation of PC1 equal to 1e-4 in 1.2. This will ensure better convergence.\n",
      "\n"
     ]
    },
    {
     "name": "stdout",
     "output_type": "stream",
     "text": [
      "[t-SNE] KL divergence after 250 iterations with early exaggeration: 56.136589\n",
      "[t-SNE] KL divergence after 1000 iterations: 0.408525\n"
     ]
    }
   ],
   "source": [
    "# topic weights and dominant topics \n",
    "from sklearn.manifold import TSNE\n",
    "\n",
    "\n",
    "# topic weights\n",
    "topic_weights = []\n",
    "for i, row_list in enumerate(lda_model[corpus]):\n",
    "    topic_weights.append([w for i, w in row_list[0]])\n",
    "\n",
    "# Array of topic weights    \n",
    "arr = pd.DataFrame(topic_weights).fillna(0).values\n",
    "\n",
    "\n",
    "# Dominant topic number in each doc\n",
    "topic_num = np.argmax(arr, axis=1)\n",
    "\n",
    "# tSNE Dimension Reduction\n",
    "tsne_model = TSNE(n_components=2, verbose=1, random_state=0, angle=.99, init='pca')\n",
    "tsne_lda = tsne_model.fit_transform(arr)"
   ]
  },
  {
   "cell_type": "code",
   "execution_count": 70,
   "id": "d973d97f",
   "metadata": {
    "execution": {
     "iopub.execute_input": "2022-09-16T21:11:29.865124Z",
     "iopub.status.busy": "2022-09-16T21:11:29.864675Z",
     "iopub.status.idle": "2022-09-16T21:11:29.902395Z",
     "shell.execute_reply": "2022-09-16T21:11:29.900868Z"
    },
    "papermill": {
     "duration": 0.072862,
     "end_time": "2022-09-16T21:11:29.905547",
     "exception": false,
     "start_time": "2022-09-16T21:11:29.832685",
     "status": "completed"
    },
    "tags": []
   },
   "outputs": [
    {
     "data": {
      "text/html": [
       "<div>\n",
       "<style scoped>\n",
       "    .dataframe tbody tr th:only-of-type {\n",
       "        vertical-align: middle;\n",
       "    }\n",
       "\n",
       "    .dataframe tbody tr th {\n",
       "        vertical-align: top;\n",
       "    }\n",
       "\n",
       "    .dataframe thead th {\n",
       "        text-align: right;\n",
       "    }\n",
       "</style>\n",
       "<table border=\"1\" class=\"dataframe\">\n",
       "  <thead>\n",
       "    <tr style=\"text-align: right;\">\n",
       "      <th></th>\n",
       "      <th>Text</th>\n",
       "      <th>tsne_x</th>\n",
       "      <th>tsne_y</th>\n",
       "      <th>Topic_No</th>\n",
       "      <th>Document_No</th>\n",
       "      <th>Dominant_Topic</th>\n",
       "      <th>Topic_Perc_Contrib</th>\n",
       "      <th>Keywords</th>\n",
       "    </tr>\n",
       "  </thead>\n",
       "  <tbody>\n",
       "    <tr>\n",
       "      <th>0</th>\n",
       "      <td>Detectability of Gravitational Waves from the ...</td>\n",
       "      <td>164.306686</td>\n",
       "      <td>-206.650360</td>\n",
       "      <td>1</td>\n",
       "      <td>0</td>\n",
       "      <td>1.0</td>\n",
       "      <td>0.9890</td>\n",
       "      <td>gravitational_wave, primordial_black_hole, sta...</td>\n",
       "    </tr>\n",
       "    <tr>\n",
       "      <th>1</th>\n",
       "      <td>Evolution of primordial black hole spin due to...</td>\n",
       "      <td>-231.828461</td>\n",
       "      <td>-219.951675</td>\n",
       "      <td>1</td>\n",
       "      <td>1</td>\n",
       "      <td>1.0</td>\n",
       "      <td>0.9848</td>\n",
       "      <td>gravitational_wave, primordial_black_hole, sta...</td>\n",
       "    </tr>\n",
       "    <tr>\n",
       "      <th>2</th>\n",
       "      <td>Multi-messenger tests of gravity with weakly l...</td>\n",
       "      <td>64.619797</td>\n",
       "      <td>-210.705856</td>\n",
       "      <td>1</td>\n",
       "      <td>2</td>\n",
       "      <td>1.0</td>\n",
       "      <td>0.9890</td>\n",
       "      <td>gravitational_wave, primordial_black_hole, sta...</td>\n",
       "    </tr>\n",
       "    <tr>\n",
       "      <th>3</th>\n",
       "      <td>Probing the theory of gravity with gravitation...</td>\n",
       "      <td>-46.924194</td>\n",
       "      <td>-237.377640</td>\n",
       "      <td>0</td>\n",
       "      <td>3</td>\n",
       "      <td>1.0</td>\n",
       "      <td>0.9903</td>\n",
       "      <td>gravitational_wave, primordial_black_hole, sta...</td>\n",
       "    </tr>\n",
       "    <tr>\n",
       "      <th>4</th>\n",
       "      <td>Cusp-to-core transition in low-mass dwarf gala...</td>\n",
       "      <td>252.036606</td>\n",
       "      <td>-248.688248</td>\n",
       "      <td>0</td>\n",
       "      <td>4</td>\n",
       "      <td>1.0</td>\n",
       "      <td>0.9935</td>\n",
       "      <td>gravitational_wave, primordial_black_hole, sta...</td>\n",
       "    </tr>\n",
       "  </tbody>\n",
       "</table>\n",
       "</div>"
      ],
      "text/plain": [
       "                                                Text      tsne_x      tsne_y  \\\n",
       "0  Detectability of Gravitational Waves from the ...  164.306686 -206.650360   \n",
       "1  Evolution of primordial black hole spin due to... -231.828461 -219.951675   \n",
       "2  Multi-messenger tests of gravity with weakly l...   64.619797 -210.705856   \n",
       "3  Probing the theory of gravity with gravitation...  -46.924194 -237.377640   \n",
       "4  Cusp-to-core transition in low-mass dwarf gala...  252.036606 -248.688248   \n",
       "\n",
       "   Topic_No  Document_No  Dominant_Topic  Topic_Perc_Contrib  \\\n",
       "0         1            0             1.0              0.9890   \n",
       "1         1            1             1.0              0.9848   \n",
       "2         1            2             1.0              0.9890   \n",
       "3         0            3             1.0              0.9903   \n",
       "4         0            4             1.0              0.9935   \n",
       "\n",
       "                                            Keywords  \n",
       "0  gravitational_wave, primordial_black_hole, sta...  \n",
       "1  gravitational_wave, primordial_black_hole, sta...  \n",
       "2  gravitational_wave, primordial_black_hole, sta...  \n",
       "3  gravitational_wave, primordial_black_hole, sta...  \n",
       "4  gravitational_wave, primordial_black_hole, sta...  "
      ]
     },
     "execution_count": 70,
     "metadata": {},
     "output_type": "execute_result"
    }
   ],
   "source": [
    "sent_topics_df=pd.DataFrame()\n",
    "sent_topics_df['Text']=SJ_papers['title'].tolist()\n",
    "sent_topics_df['tsne_x']=tsne_lda[:,0]\n",
    "sent_topics_df['tsne_y']=tsne_lda[:,1]\n",
    "sent_topics_df['Topic_No']=topic_num\n",
    "sent_topics_df=pd.merge(sent_topics_df,df_dominant_topic,on=\"Text\")\n",
    "sent_topics_df.head()"
   ]
  },
  {
   "cell_type": "code",
   "execution_count": 71,
   "id": "8628c2a5",
   "metadata": {
    "execution": {
     "iopub.execute_input": "2022-09-16T21:11:29.970578Z",
     "iopub.status.busy": "2022-09-16T21:11:29.969218Z",
     "iopub.status.idle": "2022-09-16T21:11:30.087806Z",
     "shell.execute_reply": "2022-09-16T21:11:30.086632Z"
    },
    "papermill": {
     "duration": 0.153838,
     "end_time": "2022-09-16T21:11:30.090185",
     "exception": false,
     "start_time": "2022-09-16T21:11:29.936347",
     "status": "completed"
    },
    "tags": []
   },
   "outputs": [
    {
     "data": {
      "text/html": [
       "<div>                            <div id=\"9c901cb0-c273-4acf-adc9-e32c1d6718cd\" class=\"plotly-graph-div\" style=\"height:525px; width:100%;\"></div>            <script type=\"text/javascript\">                require([\"plotly\"], function(Plotly) {                    window.PLOTLYENV=window.PLOTLYENV || {};                                    if (document.getElementById(\"9c901cb0-c273-4acf-adc9-e32c1d6718cd\")) {                    Plotly.newPlot(                        \"9c901cb0-c273-4acf-adc9-e32c1d6718cd\",                        [{\"customdata\":[[0.989],[0.9848],[0.989],[0.9903],[0.9935],[0.9917],[0.9872],[0.9806],[0.9848],[0.9837],[0.9752],[0.9684],[0.986],[0.9759],[0.989],[0.9837],[0.9877],[0.9848],[0.9904],[0.9914],[0.9922],[0.986],[0.9759],[0.989],[0.9917],[0.9922],[0.9684],[0.9914],[0.9806],[0.9914],[0.989],[0.9848],[0.989]],\"hovertemplate\":\"tsne_x=%{x}<br>tsne_y=%{y}<br>Topic_Perc_Contrib=%{customdata[0]}<br>Topic_No=%{marker.color}<extra></extra>\",\"legendgroup\":\"\",\"marker\":{\"color\":[1,1,1,0,0,0,1,0,1,0,1,0,0,0,1,0,0,1,0,0,0,0,0,1,0,0,0,0,0,0,0,1,1],\"coloraxis\":\"coloraxis\",\"symbol\":\"circle\"},\"mode\":\"markers\",\"name\":\"\",\"orientation\":\"v\",\"showlegend\":false,\"x\":[164.30669,-231.82846,64.6198,-46.924194,252.0366,-126.30245,215.16731,47.599636,143.54437,-129.27655,122.77615,-26.28751,274.07544,301.89288,151.53967,-137.84079,54.030476,319.17517,59.15238,-26.411957,-130.7854,-238.91664,-229.06094,227.78703,-40.716312,-130.7854,-38.06522,-25.96155,-133.823,-25.96155,83.46716,193.23041,107.942696],\"xaxis\":\"x\",\"y\":[-206.65036,-219.95168,-210.70586,-237.37764,-248.68825,-101.32896,-105.367256,-59.677162,-46.979176,172.95657,-133.99774,26.464302,86.528564,-150.43893,39.708794,-24.056871,30.274496,-36.13939,116.23229,201.02638,66.89941,32.194695,-83.967575,-12.572567,-47.062107,66.89941,106.80409,-135.51053,-190.57404,-135.51053,213.61137,131.10664,-301.2963],\"yaxis\":\"y\",\"type\":\"scatter\"}],                        {\"template\":{\"data\":{\"histogram2dcontour\":[{\"type\":\"histogram2dcontour\",\"colorbar\":{\"outlinewidth\":0,\"ticks\":\"\"},\"colorscale\":[[0.0,\"#0d0887\"],[0.1111111111111111,\"#46039f\"],[0.2222222222222222,\"#7201a8\"],[0.3333333333333333,\"#9c179e\"],[0.4444444444444444,\"#bd3786\"],[0.5555555555555556,\"#d8576b\"],[0.6666666666666666,\"#ed7953\"],[0.7777777777777778,\"#fb9f3a\"],[0.8888888888888888,\"#fdca26\"],[1.0,\"#f0f921\"]]}],\"choropleth\":[{\"type\":\"choropleth\",\"colorbar\":{\"outlinewidth\":0,\"ticks\":\"\"}}],\"histogram2d\":[{\"type\":\"histogram2d\",\"colorbar\":{\"outlinewidth\":0,\"ticks\":\"\"},\"colorscale\":[[0.0,\"#0d0887\"],[0.1111111111111111,\"#46039f\"],[0.2222222222222222,\"#7201a8\"],[0.3333333333333333,\"#9c179e\"],[0.4444444444444444,\"#bd3786\"],[0.5555555555555556,\"#d8576b\"],[0.6666666666666666,\"#ed7953\"],[0.7777777777777778,\"#fb9f3a\"],[0.8888888888888888,\"#fdca26\"],[1.0,\"#f0f921\"]]}],\"heatmap\":[{\"type\":\"heatmap\",\"colorbar\":{\"outlinewidth\":0,\"ticks\":\"\"},\"colorscale\":[[0.0,\"#0d0887\"],[0.1111111111111111,\"#46039f\"],[0.2222222222222222,\"#7201a8\"],[0.3333333333333333,\"#9c179e\"],[0.4444444444444444,\"#bd3786\"],[0.5555555555555556,\"#d8576b\"],[0.6666666666666666,\"#ed7953\"],[0.7777777777777778,\"#fb9f3a\"],[0.8888888888888888,\"#fdca26\"],[1.0,\"#f0f921\"]]}],\"heatmapgl\":[{\"type\":\"heatmapgl\",\"colorbar\":{\"outlinewidth\":0,\"ticks\":\"\"},\"colorscale\":[[0.0,\"#0d0887\"],[0.1111111111111111,\"#46039f\"],[0.2222222222222222,\"#7201a8\"],[0.3333333333333333,\"#9c179e\"],[0.4444444444444444,\"#bd3786\"],[0.5555555555555556,\"#d8576b\"],[0.6666666666666666,\"#ed7953\"],[0.7777777777777778,\"#fb9f3a\"],[0.8888888888888888,\"#fdca26\"],[1.0,\"#f0f921\"]]}],\"contourcarpet\":[{\"type\":\"contourcarpet\",\"colorbar\":{\"outlinewidth\":0,\"ticks\":\"\"}}],\"contour\":[{\"type\":\"contour\",\"colorbar\":{\"outlinewidth\":0,\"ticks\":\"\"},\"colorscale\":[[0.0,\"#0d0887\"],[0.1111111111111111,\"#46039f\"],[0.2222222222222222,\"#7201a8\"],[0.3333333333333333,\"#9c179e\"],[0.4444444444444444,\"#bd3786\"],[0.5555555555555556,\"#d8576b\"],[0.6666666666666666,\"#ed7953\"],[0.7777777777777778,\"#fb9f3a\"],[0.8888888888888888,\"#fdca26\"],[1.0,\"#f0f921\"]]}],\"surface\":[{\"type\":\"surface\",\"colorbar\":{\"outlinewidth\":0,\"ticks\":\"\"},\"colorscale\":[[0.0,\"#0d0887\"],[0.1111111111111111,\"#46039f\"],[0.2222222222222222,\"#7201a8\"],[0.3333333333333333,\"#9c179e\"],[0.4444444444444444,\"#bd3786\"],[0.5555555555555556,\"#d8576b\"],[0.6666666666666666,\"#ed7953\"],[0.7777777777777778,\"#fb9f3a\"],[0.8888888888888888,\"#fdca26\"],[1.0,\"#f0f921\"]]}],\"mesh3d\":[{\"type\":\"mesh3d\",\"colorbar\":{\"outlinewidth\":0,\"ticks\":\"\"}}],\"scatter\":[{\"fillpattern\":{\"fillmode\":\"overlay\",\"size\":10,\"solidity\":0.2},\"type\":\"scatter\"}],\"parcoords\":[{\"type\":\"parcoords\",\"line\":{\"colorbar\":{\"outlinewidth\":0,\"ticks\":\"\"}}}],\"scatterpolargl\":[{\"type\":\"scatterpolargl\",\"marker\":{\"colorbar\":{\"outlinewidth\":0,\"ticks\":\"\"}}}],\"bar\":[{\"error_x\":{\"color\":\"#2a3f5f\"},\"error_y\":{\"color\":\"#2a3f5f\"},\"marker\":{\"line\":{\"color\":\"#E5ECF6\",\"width\":0.5},\"pattern\":{\"fillmode\":\"overlay\",\"size\":10,\"solidity\":0.2}},\"type\":\"bar\"}],\"scattergeo\":[{\"type\":\"scattergeo\",\"marker\":{\"colorbar\":{\"outlinewidth\":0,\"ticks\":\"\"}}}],\"scatterpolar\":[{\"type\":\"scatterpolar\",\"marker\":{\"colorbar\":{\"outlinewidth\":0,\"ticks\":\"\"}}}],\"histogram\":[{\"marker\":{\"pattern\":{\"fillmode\":\"overlay\",\"size\":10,\"solidity\":0.2}},\"type\":\"histogram\"}],\"scattergl\":[{\"type\":\"scattergl\",\"marker\":{\"colorbar\":{\"outlinewidth\":0,\"ticks\":\"\"}}}],\"scatter3d\":[{\"type\":\"scatter3d\",\"line\":{\"colorbar\":{\"outlinewidth\":0,\"ticks\":\"\"}},\"marker\":{\"colorbar\":{\"outlinewidth\":0,\"ticks\":\"\"}}}],\"scattermapbox\":[{\"type\":\"scattermapbox\",\"marker\":{\"colorbar\":{\"outlinewidth\":0,\"ticks\":\"\"}}}],\"scatterternary\":[{\"type\":\"scatterternary\",\"marker\":{\"colorbar\":{\"outlinewidth\":0,\"ticks\":\"\"}}}],\"scattercarpet\":[{\"type\":\"scattercarpet\",\"marker\":{\"colorbar\":{\"outlinewidth\":0,\"ticks\":\"\"}}}],\"carpet\":[{\"aaxis\":{\"endlinecolor\":\"#2a3f5f\",\"gridcolor\":\"white\",\"linecolor\":\"white\",\"minorgridcolor\":\"white\",\"startlinecolor\":\"#2a3f5f\"},\"baxis\":{\"endlinecolor\":\"#2a3f5f\",\"gridcolor\":\"white\",\"linecolor\":\"white\",\"minorgridcolor\":\"white\",\"startlinecolor\":\"#2a3f5f\"},\"type\":\"carpet\"}],\"table\":[{\"cells\":{\"fill\":{\"color\":\"#EBF0F8\"},\"line\":{\"color\":\"white\"}},\"header\":{\"fill\":{\"color\":\"#C8D4E3\"},\"line\":{\"color\":\"white\"}},\"type\":\"table\"}],\"barpolar\":[{\"marker\":{\"line\":{\"color\":\"#E5ECF6\",\"width\":0.5},\"pattern\":{\"fillmode\":\"overlay\",\"size\":10,\"solidity\":0.2}},\"type\":\"barpolar\"}],\"pie\":[{\"automargin\":true,\"type\":\"pie\"}]},\"layout\":{\"autotypenumbers\":\"strict\",\"colorway\":[\"#636efa\",\"#EF553B\",\"#00cc96\",\"#ab63fa\",\"#FFA15A\",\"#19d3f3\",\"#FF6692\",\"#B6E880\",\"#FF97FF\",\"#FECB52\"],\"font\":{\"color\":\"#2a3f5f\"},\"hovermode\":\"closest\",\"hoverlabel\":{\"align\":\"left\"},\"paper_bgcolor\":\"white\",\"plot_bgcolor\":\"#E5ECF6\",\"polar\":{\"bgcolor\":\"#E5ECF6\",\"angularaxis\":{\"gridcolor\":\"white\",\"linecolor\":\"white\",\"ticks\":\"\"},\"radialaxis\":{\"gridcolor\":\"white\",\"linecolor\":\"white\",\"ticks\":\"\"}},\"ternary\":{\"bgcolor\":\"#E5ECF6\",\"aaxis\":{\"gridcolor\":\"white\",\"linecolor\":\"white\",\"ticks\":\"\"},\"baxis\":{\"gridcolor\":\"white\",\"linecolor\":\"white\",\"ticks\":\"\"},\"caxis\":{\"gridcolor\":\"white\",\"linecolor\":\"white\",\"ticks\":\"\"}},\"coloraxis\":{\"colorbar\":{\"outlinewidth\":0,\"ticks\":\"\"}},\"colorscale\":{\"sequential\":[[0.0,\"#0d0887\"],[0.1111111111111111,\"#46039f\"],[0.2222222222222222,\"#7201a8\"],[0.3333333333333333,\"#9c179e\"],[0.4444444444444444,\"#bd3786\"],[0.5555555555555556,\"#d8576b\"],[0.6666666666666666,\"#ed7953\"],[0.7777777777777778,\"#fb9f3a\"],[0.8888888888888888,\"#fdca26\"],[1.0,\"#f0f921\"]],\"sequentialminus\":[[0.0,\"#0d0887\"],[0.1111111111111111,\"#46039f\"],[0.2222222222222222,\"#7201a8\"],[0.3333333333333333,\"#9c179e\"],[0.4444444444444444,\"#bd3786\"],[0.5555555555555556,\"#d8576b\"],[0.6666666666666666,\"#ed7953\"],[0.7777777777777778,\"#fb9f3a\"],[0.8888888888888888,\"#fdca26\"],[1.0,\"#f0f921\"]],\"diverging\":[[0,\"#8e0152\"],[0.1,\"#c51b7d\"],[0.2,\"#de77ae\"],[0.3,\"#f1b6da\"],[0.4,\"#fde0ef\"],[0.5,\"#f7f7f7\"],[0.6,\"#e6f5d0\"],[0.7,\"#b8e186\"],[0.8,\"#7fbc41\"],[0.9,\"#4d9221\"],[1,\"#276419\"]]},\"xaxis\":{\"gridcolor\":\"white\",\"linecolor\":\"white\",\"ticks\":\"\",\"title\":{\"standoff\":15},\"zerolinecolor\":\"white\",\"automargin\":true,\"zerolinewidth\":2},\"yaxis\":{\"gridcolor\":\"white\",\"linecolor\":\"white\",\"ticks\":\"\",\"title\":{\"standoff\":15},\"zerolinecolor\":\"white\",\"automargin\":true,\"zerolinewidth\":2},\"scene\":{\"xaxis\":{\"backgroundcolor\":\"#E5ECF6\",\"gridcolor\":\"white\",\"linecolor\":\"white\",\"showbackground\":true,\"ticks\":\"\",\"zerolinecolor\":\"white\",\"gridwidth\":2},\"yaxis\":{\"backgroundcolor\":\"#E5ECF6\",\"gridcolor\":\"white\",\"linecolor\":\"white\",\"showbackground\":true,\"ticks\":\"\",\"zerolinecolor\":\"white\",\"gridwidth\":2},\"zaxis\":{\"backgroundcolor\":\"#E5ECF6\",\"gridcolor\":\"white\",\"linecolor\":\"white\",\"showbackground\":true,\"ticks\":\"\",\"zerolinecolor\":\"white\",\"gridwidth\":2}},\"shapedefaults\":{\"line\":{\"color\":\"#2a3f5f\"}},\"annotationdefaults\":{\"arrowcolor\":\"#2a3f5f\",\"arrowhead\":0,\"arrowwidth\":1},\"geo\":{\"bgcolor\":\"white\",\"landcolor\":\"#E5ECF6\",\"subunitcolor\":\"white\",\"showland\":true,\"showlakes\":true,\"lakecolor\":\"white\"},\"title\":{\"x\":0.05},\"mapbox\":{\"style\":\"light\"}}},\"xaxis\":{\"anchor\":\"y\",\"domain\":[0.0,1.0],\"title\":{\"text\":\"tsne_x\"}},\"yaxis\":{\"anchor\":\"x\",\"domain\":[0.0,1.0],\"title\":{\"text\":\"tsne_y\"}},\"coloraxis\":{\"colorbar\":{\"title\":{\"text\":\"Topic_No\"}},\"colorscale\":[[0.0,\"#0d0887\"],[0.1111111111111111,\"#46039f\"],[0.2222222222222222,\"#7201a8\"],[0.3333333333333333,\"#9c179e\"],[0.4444444444444444,\"#bd3786\"],[0.5555555555555556,\"#d8576b\"],[0.6666666666666666,\"#ed7953\"],[0.7777777777777778,\"#fb9f3a\"],[0.8888888888888888,\"#fdca26\"],[1.0,\"#f0f921\"]]},\"legend\":{\"tracegroupgap\":0},\"margin\":{\"t\":60}},                        {\"responsive\": true}                    ).then(function(){\n",
       "                            \n",
       "var gd = document.getElementById('9c901cb0-c273-4acf-adc9-e32c1d6718cd');\n",
       "var x = new MutationObserver(function (mutations, observer) {{\n",
       "        var display = window.getComputedStyle(gd).display;\n",
       "        if (!display || display === 'none') {{\n",
       "            console.log([gd, 'removed!']);\n",
       "            Plotly.purge(gd);\n",
       "            observer.disconnect();\n",
       "        }}\n",
       "}});\n",
       "\n",
       "// Listen for the removal of the full notebook cells\n",
       "var notebookContainer = gd.closest('#notebook-container');\n",
       "if (notebookContainer) {{\n",
       "    x.observe(notebookContainer, {childList: true});\n",
       "}}\n",
       "\n",
       "// Listen for the clearing of the current output cell\n",
       "var outputEl = gd.closest('.output');\n",
       "if (outputEl) {{\n",
       "    x.observe(outputEl, {childList: true});\n",
       "}}\n",
       "\n",
       "                        })                };                });            </script>        </div>"
      ]
     },
     "metadata": {},
     "output_type": "display_data"
    }
   ],
   "source": [
    "px.scatter(x='tsne_x',y='tsne_y',data_frame=sent_topics_df,color=\"Topic_No\",hover_data=[\"Topic_Perc_Contrib\"])"
   ]
  },
  {
   "cell_type": "code",
   "execution_count": 72,
   "id": "b167a322",
   "metadata": {
    "execution": {
     "iopub.execute_input": "2022-09-16T21:11:30.151617Z",
     "iopub.status.busy": "2022-09-16T21:11:30.150749Z",
     "iopub.status.idle": "2022-09-16T21:11:30.159191Z",
     "shell.execute_reply": "2022-09-16T21:11:30.157584Z"
    },
    "papermill": {
     "duration": 0.042082,
     "end_time": "2022-09-16T21:11:30.161801",
     "exception": false,
     "start_time": "2022-09-16T21:11:30.119719",
     "status": "completed"
    },
    "tags": []
   },
   "outputs": [
    {
     "name": "stdout",
     "output_type": "stream",
     "text": [
      "4\n",
      "Number of Nodes in Fabian Network  5\n",
      "Number of Edges in Fabian Network  5\n"
     ]
    }
   ],
   "source": [
    "Fabian_nodes = getCoAuthorshipNetwork(G,['Fabian A. C.'])\n",
    "Fabian_network = nx.subgraph(G,Fabian_nodes)\n",
    "print(\"Number of Nodes in Fabian Network \", len(Fabian_network.nodes()))\n",
    "print(\"Number of Edges in Fabian Network \", len(Fabian_network.edges()))"
   ]
  },
  {
   "cell_type": "code",
   "execution_count": 73,
   "id": "8221d0da",
   "metadata": {
    "execution": {
     "iopub.execute_input": "2022-09-16T21:11:30.222582Z",
     "iopub.status.busy": "2022-09-16T21:11:30.222109Z",
     "iopub.status.idle": "2022-09-16T21:11:30.246451Z",
     "shell.execute_reply": "2022-09-16T21:11:30.245231Z"
    },
    "papermill": {
     "duration": 0.057956,
     "end_time": "2022-09-16T21:11:30.248779",
     "exception": false,
     "start_time": "2022-09-16T21:11:30.190823",
     "status": "completed"
    },
    "scrolled": true,
    "tags": []
   },
   "outputs": [
    {
     "name": "stdout",
     "output_type": "stream",
     "text": [
      "Creating PyVis from NetworkX\n",
      "Saving PyVis Graph\n"
     ]
    },
    {
     "data": {
      "text/html": [
       "\n",
       "        <iframe\n",
       "            width=\"100%\"\n",
       "            height=\"800px\"\n",
       "            src=\"Fabian_CoAuthorGraph.html\"\n",
       "            frameborder=\"0\"\n",
       "            allowfullscreen\n",
       "            \n",
       "        ></iframe>\n",
       "        "
      ],
      "text/plain": [
       "<IPython.lib.display.IFrame at 0x7fa4295d5290>"
      ]
     },
     "execution_count": 73,
     "metadata": {},
     "output_type": "execute_result"
    }
   ],
   "source": [
    "Fabian_nt=Network(notebook=True,height='800px', width='100%',heading='Fabian Network')\n",
    "\n",
    "print(\"Creating PyVis from NetworkX\")\n",
    "Fabian_nt.from_nx(Fabian_network)\n",
    "Fabian_nt.toggle_physics(True)\n",
    "print(\"Saving PyVis Graph\")\n",
    "\n",
    "Fabian_nt.show_buttons()\n",
    "Fabian_nt.show(\"Fabian_CoAuthorGraph.html\")"
   ]
  },
  {
   "cell_type": "code",
   "execution_count": 74,
   "id": "33cbb5d5",
   "metadata": {
    "execution": {
     "iopub.execute_input": "2022-09-16T21:11:30.310464Z",
     "iopub.status.busy": "2022-09-16T21:11:30.308931Z",
     "iopub.status.idle": "2022-09-16T21:11:30.354340Z",
     "shell.execute_reply": "2022-09-16T21:11:30.353062Z"
    },
    "papermill": {
     "duration": 0.079346,
     "end_time": "2022-09-16T21:11:30.357374",
     "exception": false,
     "start_time": "2022-09-16T21:11:30.278028",
     "status": "completed"
    },
    "tags": []
   },
   "outputs": [
    {
     "name": "stdout",
     "output_type": "stream",
     "text": [
      "Number of Papers by Fabian A. C. on Arxiv is  6\n"
     ]
    }
   ],
   "source": [
    "data['is_FA']=data['authors'].apply(lambda x:1 if \"Fabian A. C.\" in x else 0)\n",
    "FA_papers=data[data['is_FA']==1]\n",
    "FA_papers=FA_papers.reset_index(drop=True)\n",
    "\n",
    "print(\"Number of Papers by Fabian A. C. on Arxiv is \",FA_papers.shape[0])"
   ]
  },
  {
   "cell_type": "code",
   "execution_count": 75,
   "id": "4db2ae66",
   "metadata": {
    "execution": {
     "iopub.execute_input": "2022-09-16T21:11:30.418450Z",
     "iopub.status.busy": "2022-09-16T21:11:30.416954Z",
     "iopub.status.idle": "2022-09-16T21:11:30.425735Z",
     "shell.execute_reply": "2022-09-16T21:11:30.424018Z"
    },
    "papermill": {
     "duration": 0.042053,
     "end_time": "2022-09-16T21:11:30.428494",
     "exception": false,
     "start_time": "2022-09-16T21:11:30.386441",
     "status": "completed"
    },
    "tags": []
   },
   "outputs": [
    {
     "name": "stdout",
     "output_type": "stream",
     "text": [
      "The First Paper published by Fabian A. C. was in  2020-03-21 20:02:05+00:00\n",
      "The Recent Paper published by Fabian A. C. was in   2021-06-07 14:40:54+00:00\n"
     ]
    }
   ],
   "source": [
    "print(\"The First Paper published by Fabian A. C. was in \",min(FA_papers['DateTime']))\n",
    "print(\"The Recent Paper published by Fabian A. C. was in  \",max(FA_papers['DateTime']))"
   ]
  },
  {
   "cell_type": "code",
   "execution_count": 76,
   "id": "1fddebd7",
   "metadata": {
    "execution": {
     "iopub.execute_input": "2022-09-16T21:11:30.489744Z",
     "iopub.status.busy": "2022-09-16T21:11:30.488319Z",
     "iopub.status.idle": "2022-09-16T21:11:30.496317Z",
     "shell.execute_reply": "2022-09-16T21:11:30.495124Z"
    },
    "papermill": {
     "duration": 0.041604,
     "end_time": "2022-09-16T21:11:30.499132",
     "exception": false,
     "start_time": "2022-09-16T21:11:30.457528",
     "status": "completed"
    },
    "tags": []
   },
   "outputs": [],
   "source": [
    "titles=FA_papers['title'].tolist()\n",
    "stop_words = set(stopwords.words('english')) \n",
    "titles=[title.lower() for title in titles] ### Lower Casing the Title\n",
    "titles=[removeStopWords(title,stop_words) for title in titles]"
   ]
  },
  {
   "cell_type": "code",
   "execution_count": 77,
   "id": "91a74914",
   "metadata": {
    "execution": {
     "iopub.execute_input": "2022-09-16T21:11:30.559867Z",
     "iopub.status.busy": "2022-09-16T21:11:30.559070Z",
     "iopub.status.idle": "2022-09-16T21:11:30.626006Z",
     "shell.execute_reply": "2022-09-16T21:11:30.624852Z"
    },
    "papermill": {
     "duration": 0.10043,
     "end_time": "2022-09-16T21:11:30.628545",
     "exception": false,
     "start_time": "2022-09-16T21:11:30.528115",
     "status": "completed"
    },
    "tags": []
   },
   "outputs": [
    {
     "data": {
      "text/html": [
       "<div>                            <div id=\"cb020ab7-98f3-45fc-8019-29810274bc6c\" class=\"plotly-graph-div\" style=\"height:525px; width:100%;\"></div>            <script type=\"text/javascript\">                require([\"plotly\"], function(Plotly) {                    window.PLOTLYENV=window.PLOTLYENV || {};                                    if (document.getElementById(\"cb020ab7-98f3-45fc-8019-29810274bc6c\")) {                    Plotly.newPlot(                        \"cb020ab7-98f3-45fc-8019-29810274bc6c\",                        [{\"alignmentgroup\":\"True\",\"hovertemplate\":\"Frequency=%{x}<br>words=%{y}<extra></extra>\",\"legendgroup\":\"\",\"marker\":{\"color\":\"#636efa\",\"pattern\":{\"shape\":\"\"}},\"name\":\"\",\"offsetgroup\":\"\",\"orientation\":\"h\",\"showlegend\":false,\"textposition\":\"auto\",\"x\":[1,1,1,1,1,1,1,1,1,2],\"xaxis\":\"x\",\"y\":[\"x-ray_observations\",\"observations_luminous\",\"luminous_dusty\",\"dusty_quasars\",\"quasars_z\",\"z_>\",\">_2\",\"venturing_beyond\",\"beyond_isco:\",\"around_black\"],\"yaxis\":\"y\",\"type\":\"bar\"}],                        {\"template\":{\"data\":{\"histogram2dcontour\":[{\"type\":\"histogram2dcontour\",\"colorbar\":{\"outlinewidth\":0,\"ticks\":\"\"},\"colorscale\":[[0.0,\"#0d0887\"],[0.1111111111111111,\"#46039f\"],[0.2222222222222222,\"#7201a8\"],[0.3333333333333333,\"#9c179e\"],[0.4444444444444444,\"#bd3786\"],[0.5555555555555556,\"#d8576b\"],[0.6666666666666666,\"#ed7953\"],[0.7777777777777778,\"#fb9f3a\"],[0.8888888888888888,\"#fdca26\"],[1.0,\"#f0f921\"]]}],\"choropleth\":[{\"type\":\"choropleth\",\"colorbar\":{\"outlinewidth\":0,\"ticks\":\"\"}}],\"histogram2d\":[{\"type\":\"histogram2d\",\"colorbar\":{\"outlinewidth\":0,\"ticks\":\"\"},\"colorscale\":[[0.0,\"#0d0887\"],[0.1111111111111111,\"#46039f\"],[0.2222222222222222,\"#7201a8\"],[0.3333333333333333,\"#9c179e\"],[0.4444444444444444,\"#bd3786\"],[0.5555555555555556,\"#d8576b\"],[0.6666666666666666,\"#ed7953\"],[0.7777777777777778,\"#fb9f3a\"],[0.8888888888888888,\"#fdca26\"],[1.0,\"#f0f921\"]]}],\"heatmap\":[{\"type\":\"heatmap\",\"colorbar\":{\"outlinewidth\":0,\"ticks\":\"\"},\"colorscale\":[[0.0,\"#0d0887\"],[0.1111111111111111,\"#46039f\"],[0.2222222222222222,\"#7201a8\"],[0.3333333333333333,\"#9c179e\"],[0.4444444444444444,\"#bd3786\"],[0.5555555555555556,\"#d8576b\"],[0.6666666666666666,\"#ed7953\"],[0.7777777777777778,\"#fb9f3a\"],[0.8888888888888888,\"#fdca26\"],[1.0,\"#f0f921\"]]}],\"heatmapgl\":[{\"type\":\"heatmapgl\",\"colorbar\":{\"outlinewidth\":0,\"ticks\":\"\"},\"colorscale\":[[0.0,\"#0d0887\"],[0.1111111111111111,\"#46039f\"],[0.2222222222222222,\"#7201a8\"],[0.3333333333333333,\"#9c179e\"],[0.4444444444444444,\"#bd3786\"],[0.5555555555555556,\"#d8576b\"],[0.6666666666666666,\"#ed7953\"],[0.7777777777777778,\"#fb9f3a\"],[0.8888888888888888,\"#fdca26\"],[1.0,\"#f0f921\"]]}],\"contourcarpet\":[{\"type\":\"contourcarpet\",\"colorbar\":{\"outlinewidth\":0,\"ticks\":\"\"}}],\"contour\":[{\"type\":\"contour\",\"colorbar\":{\"outlinewidth\":0,\"ticks\":\"\"},\"colorscale\":[[0.0,\"#0d0887\"],[0.1111111111111111,\"#46039f\"],[0.2222222222222222,\"#7201a8\"],[0.3333333333333333,\"#9c179e\"],[0.4444444444444444,\"#bd3786\"],[0.5555555555555556,\"#d8576b\"],[0.6666666666666666,\"#ed7953\"],[0.7777777777777778,\"#fb9f3a\"],[0.8888888888888888,\"#fdca26\"],[1.0,\"#f0f921\"]]}],\"surface\":[{\"type\":\"surface\",\"colorbar\":{\"outlinewidth\":0,\"ticks\":\"\"},\"colorscale\":[[0.0,\"#0d0887\"],[0.1111111111111111,\"#46039f\"],[0.2222222222222222,\"#7201a8\"],[0.3333333333333333,\"#9c179e\"],[0.4444444444444444,\"#bd3786\"],[0.5555555555555556,\"#d8576b\"],[0.6666666666666666,\"#ed7953\"],[0.7777777777777778,\"#fb9f3a\"],[0.8888888888888888,\"#fdca26\"],[1.0,\"#f0f921\"]]}],\"mesh3d\":[{\"type\":\"mesh3d\",\"colorbar\":{\"outlinewidth\":0,\"ticks\":\"\"}}],\"scatter\":[{\"fillpattern\":{\"fillmode\":\"overlay\",\"size\":10,\"solidity\":0.2},\"type\":\"scatter\"}],\"parcoords\":[{\"type\":\"parcoords\",\"line\":{\"colorbar\":{\"outlinewidth\":0,\"ticks\":\"\"}}}],\"scatterpolargl\":[{\"type\":\"scatterpolargl\",\"marker\":{\"colorbar\":{\"outlinewidth\":0,\"ticks\":\"\"}}}],\"bar\":[{\"error_x\":{\"color\":\"#2a3f5f\"},\"error_y\":{\"color\":\"#2a3f5f\"},\"marker\":{\"line\":{\"color\":\"#E5ECF6\",\"width\":0.5},\"pattern\":{\"fillmode\":\"overlay\",\"size\":10,\"solidity\":0.2}},\"type\":\"bar\"}],\"scattergeo\":[{\"type\":\"scattergeo\",\"marker\":{\"colorbar\":{\"outlinewidth\":0,\"ticks\":\"\"}}}],\"scatterpolar\":[{\"type\":\"scatterpolar\",\"marker\":{\"colorbar\":{\"outlinewidth\":0,\"ticks\":\"\"}}}],\"histogram\":[{\"marker\":{\"pattern\":{\"fillmode\":\"overlay\",\"size\":10,\"solidity\":0.2}},\"type\":\"histogram\"}],\"scattergl\":[{\"type\":\"scattergl\",\"marker\":{\"colorbar\":{\"outlinewidth\":0,\"ticks\":\"\"}}}],\"scatter3d\":[{\"type\":\"scatter3d\",\"line\":{\"colorbar\":{\"outlinewidth\":0,\"ticks\":\"\"}},\"marker\":{\"colorbar\":{\"outlinewidth\":0,\"ticks\":\"\"}}}],\"scattermapbox\":[{\"type\":\"scattermapbox\",\"marker\":{\"colorbar\":{\"outlinewidth\":0,\"ticks\":\"\"}}}],\"scatterternary\":[{\"type\":\"scatterternary\",\"marker\":{\"colorbar\":{\"outlinewidth\":0,\"ticks\":\"\"}}}],\"scattercarpet\":[{\"type\":\"scattercarpet\",\"marker\":{\"colorbar\":{\"outlinewidth\":0,\"ticks\":\"\"}}}],\"carpet\":[{\"aaxis\":{\"endlinecolor\":\"#2a3f5f\",\"gridcolor\":\"white\",\"linecolor\":\"white\",\"minorgridcolor\":\"white\",\"startlinecolor\":\"#2a3f5f\"},\"baxis\":{\"endlinecolor\":\"#2a3f5f\",\"gridcolor\":\"white\",\"linecolor\":\"white\",\"minorgridcolor\":\"white\",\"startlinecolor\":\"#2a3f5f\"},\"type\":\"carpet\"}],\"table\":[{\"cells\":{\"fill\":{\"color\":\"#EBF0F8\"},\"line\":{\"color\":\"white\"}},\"header\":{\"fill\":{\"color\":\"#C8D4E3\"},\"line\":{\"color\":\"white\"}},\"type\":\"table\"}],\"barpolar\":[{\"marker\":{\"line\":{\"color\":\"#E5ECF6\",\"width\":0.5},\"pattern\":{\"fillmode\":\"overlay\",\"size\":10,\"solidity\":0.2}},\"type\":\"barpolar\"}],\"pie\":[{\"automargin\":true,\"type\":\"pie\"}]},\"layout\":{\"autotypenumbers\":\"strict\",\"colorway\":[\"#636efa\",\"#EF553B\",\"#00cc96\",\"#ab63fa\",\"#FFA15A\",\"#19d3f3\",\"#FF6692\",\"#B6E880\",\"#FF97FF\",\"#FECB52\"],\"font\":{\"color\":\"#2a3f5f\"},\"hovermode\":\"closest\",\"hoverlabel\":{\"align\":\"left\"},\"paper_bgcolor\":\"white\",\"plot_bgcolor\":\"#E5ECF6\",\"polar\":{\"bgcolor\":\"#E5ECF6\",\"angularaxis\":{\"gridcolor\":\"white\",\"linecolor\":\"white\",\"ticks\":\"\"},\"radialaxis\":{\"gridcolor\":\"white\",\"linecolor\":\"white\",\"ticks\":\"\"}},\"ternary\":{\"bgcolor\":\"#E5ECF6\",\"aaxis\":{\"gridcolor\":\"white\",\"linecolor\":\"white\",\"ticks\":\"\"},\"baxis\":{\"gridcolor\":\"white\",\"linecolor\":\"white\",\"ticks\":\"\"},\"caxis\":{\"gridcolor\":\"white\",\"linecolor\":\"white\",\"ticks\":\"\"}},\"coloraxis\":{\"colorbar\":{\"outlinewidth\":0,\"ticks\":\"\"}},\"colorscale\":{\"sequential\":[[0.0,\"#0d0887\"],[0.1111111111111111,\"#46039f\"],[0.2222222222222222,\"#7201a8\"],[0.3333333333333333,\"#9c179e\"],[0.4444444444444444,\"#bd3786\"],[0.5555555555555556,\"#d8576b\"],[0.6666666666666666,\"#ed7953\"],[0.7777777777777778,\"#fb9f3a\"],[0.8888888888888888,\"#fdca26\"],[1.0,\"#f0f921\"]],\"sequentialminus\":[[0.0,\"#0d0887\"],[0.1111111111111111,\"#46039f\"],[0.2222222222222222,\"#7201a8\"],[0.3333333333333333,\"#9c179e\"],[0.4444444444444444,\"#bd3786\"],[0.5555555555555556,\"#d8576b\"],[0.6666666666666666,\"#ed7953\"],[0.7777777777777778,\"#fb9f3a\"],[0.8888888888888888,\"#fdca26\"],[1.0,\"#f0f921\"]],\"diverging\":[[0,\"#8e0152\"],[0.1,\"#c51b7d\"],[0.2,\"#de77ae\"],[0.3,\"#f1b6da\"],[0.4,\"#fde0ef\"],[0.5,\"#f7f7f7\"],[0.6,\"#e6f5d0\"],[0.7,\"#b8e186\"],[0.8,\"#7fbc41\"],[0.9,\"#4d9221\"],[1,\"#276419\"]]},\"xaxis\":{\"gridcolor\":\"white\",\"linecolor\":\"white\",\"ticks\":\"\",\"title\":{\"standoff\":15},\"zerolinecolor\":\"white\",\"automargin\":true,\"zerolinewidth\":2},\"yaxis\":{\"gridcolor\":\"white\",\"linecolor\":\"white\",\"ticks\":\"\",\"title\":{\"standoff\":15},\"zerolinecolor\":\"white\",\"automargin\":true,\"zerolinewidth\":2},\"scene\":{\"xaxis\":{\"backgroundcolor\":\"#E5ECF6\",\"gridcolor\":\"white\",\"linecolor\":\"white\",\"showbackground\":true,\"ticks\":\"\",\"zerolinecolor\":\"white\",\"gridwidth\":2},\"yaxis\":{\"backgroundcolor\":\"#E5ECF6\",\"gridcolor\":\"white\",\"linecolor\":\"white\",\"showbackground\":true,\"ticks\":\"\",\"zerolinecolor\":\"white\",\"gridwidth\":2},\"zaxis\":{\"backgroundcolor\":\"#E5ECF6\",\"gridcolor\":\"white\",\"linecolor\":\"white\",\"showbackground\":true,\"ticks\":\"\",\"zerolinecolor\":\"white\",\"gridwidth\":2}},\"shapedefaults\":{\"line\":{\"color\":\"#2a3f5f\"}},\"annotationdefaults\":{\"arrowcolor\":\"#2a3f5f\",\"arrowhead\":0,\"arrowwidth\":1},\"geo\":{\"bgcolor\":\"white\",\"landcolor\":\"#E5ECF6\",\"subunitcolor\":\"white\",\"showland\":true,\"showlakes\":true,\"lakecolor\":\"white\"},\"title\":{\"x\":0.05},\"mapbox\":{\"style\":\"light\"}}},\"xaxis\":{\"anchor\":\"y\",\"domain\":[0.0,1.0],\"title\":{\"text\":\"Frequency\"}},\"yaxis\":{\"anchor\":\"x\",\"domain\":[0.0,1.0],\"title\":{\"text\":\"words\"}},\"legend\":{\"tracegroupgap\":0},\"title\":{\"text\":\"Top 10 Bigrams in Papers published by Fabian A.C.\"},\"barmode\":\"relative\"},                        {\"responsive\": true}                    ).then(function(){\n",
       "                            \n",
       "var gd = document.getElementById('cb020ab7-98f3-45fc-8019-29810274bc6c');\n",
       "var x = new MutationObserver(function (mutations, observer) {{\n",
       "        var display = window.getComputedStyle(gd).display;\n",
       "        if (!display || display === 'none') {{\n",
       "            console.log([gd, 'removed!']);\n",
       "            Plotly.purge(gd);\n",
       "            observer.disconnect();\n",
       "        }}\n",
       "}});\n",
       "\n",
       "// Listen for the removal of the full notebook cells\n",
       "var notebookContainer = gd.closest('#notebook-container');\n",
       "if (notebookContainer) {{\n",
       "    x.observe(notebookContainer, {childList: true});\n",
       "}}\n",
       "\n",
       "// Listen for the clearing of the current output cell\n",
       "var outputEl = gd.closest('.output');\n",
       "if (outputEl) {{\n",
       "    x.observe(outputEl, {childList: true});\n",
       "}}\n",
       "\n",
       "                        })                };                });            </script>        </div>"
      ]
     },
     "metadata": {},
     "output_type": "display_data"
    }
   ],
   "source": [
    "bigrams_list=[\" \".join(generateNGram(title,2)) for title in titles]\n",
    "topn=10\n",
    "top_bigrams=getMostCommon(bigrams_list,topn=topn)\n",
    "top_bigrams_df=pd.DataFrame()\n",
    "top_bigrams_df['words']=[val[0] for val in top_bigrams]\n",
    "top_bigrams_df['Frequency']=[val[1] for val in top_bigrams]\n",
    "px.bar(data_frame=top_bigrams_df.sort_values(\"Frequency\",ascending=True),x=\"Frequency\",y=\"words\",orientation=\"h\",title=\"Top \"+str(topn)+\" Bigrams in Papers published by Fabian A.C.\")"
   ]
  },
  {
   "cell_type": "code",
   "execution_count": 78,
   "id": "793bd9fe",
   "metadata": {
    "execution": {
     "iopub.execute_input": "2022-09-16T21:11:30.690014Z",
     "iopub.status.busy": "2022-09-16T21:11:30.689183Z",
     "iopub.status.idle": "2022-09-16T21:11:30.755204Z",
     "shell.execute_reply": "2022-09-16T21:11:30.753972Z"
    },
    "papermill": {
     "duration": 0.100191,
     "end_time": "2022-09-16T21:11:30.758049",
     "exception": false,
     "start_time": "2022-09-16T21:11:30.657858",
     "status": "completed"
    },
    "tags": []
   },
   "outputs": [
    {
     "data": {
      "text/html": [
       "<div>                            <div id=\"b94b9980-780b-4a5a-b335-c03b5a3bbdc3\" class=\"plotly-graph-div\" style=\"height:525px; width:100%;\"></div>            <script type=\"text/javascript\">                require([\"plotly\"], function(Plotly) {                    window.PLOTLYENV=window.PLOTLYENV || {};                                    if (document.getElementById(\"b94b9980-780b-4a5a-b335-c03b5a3bbdc3\")) {                    Plotly.newPlot(                        \"b94b9980-780b-4a5a-b335-c03b5a3bbdc3\",                        [{\"alignmentgroup\":\"True\",\"hovertemplate\":\"Frequency=%{x}<br>words=%{y}<extra></extra>\",\"legendgroup\":\"\",\"marker\":{\"color\":\"#636efa\",\"pattern\":{\"shape\":\"\"}},\"name\":\"\",\"offsetgroup\":\"\",\"orientation\":\"h\",\"showlegend\":false,\"textposition\":\"auto\",\"x\":[1,1,1,1,1,1,1,1,1,2],\"xaxis\":\"x\",\"y\":[\"x-ray_observations_luminous\",\"observations_luminous_dusty\",\"luminous_dusty_quasars\",\"dusty_quasars_z\",\"quasars_z_>\",\"z_>_2\",\"venturing_beyond_isco\",\"beyond_isco_detecting\",\"isco_detecting_x-ray\",\"around_black_holes\"],\"yaxis\":\"y\",\"type\":\"bar\"}],                        {\"template\":{\"data\":{\"histogram2dcontour\":[{\"type\":\"histogram2dcontour\",\"colorbar\":{\"outlinewidth\":0,\"ticks\":\"\"},\"colorscale\":[[0.0,\"#0d0887\"],[0.1111111111111111,\"#46039f\"],[0.2222222222222222,\"#7201a8\"],[0.3333333333333333,\"#9c179e\"],[0.4444444444444444,\"#bd3786\"],[0.5555555555555556,\"#d8576b\"],[0.6666666666666666,\"#ed7953\"],[0.7777777777777778,\"#fb9f3a\"],[0.8888888888888888,\"#fdca26\"],[1.0,\"#f0f921\"]]}],\"choropleth\":[{\"type\":\"choropleth\",\"colorbar\":{\"outlinewidth\":0,\"ticks\":\"\"}}],\"histogram2d\":[{\"type\":\"histogram2d\",\"colorbar\":{\"outlinewidth\":0,\"ticks\":\"\"},\"colorscale\":[[0.0,\"#0d0887\"],[0.1111111111111111,\"#46039f\"],[0.2222222222222222,\"#7201a8\"],[0.3333333333333333,\"#9c179e\"],[0.4444444444444444,\"#bd3786\"],[0.5555555555555556,\"#d8576b\"],[0.6666666666666666,\"#ed7953\"],[0.7777777777777778,\"#fb9f3a\"],[0.8888888888888888,\"#fdca26\"],[1.0,\"#f0f921\"]]}],\"heatmap\":[{\"type\":\"heatmap\",\"colorbar\":{\"outlinewidth\":0,\"ticks\":\"\"},\"colorscale\":[[0.0,\"#0d0887\"],[0.1111111111111111,\"#46039f\"],[0.2222222222222222,\"#7201a8\"],[0.3333333333333333,\"#9c179e\"],[0.4444444444444444,\"#bd3786\"],[0.5555555555555556,\"#d8576b\"],[0.6666666666666666,\"#ed7953\"],[0.7777777777777778,\"#fb9f3a\"],[0.8888888888888888,\"#fdca26\"],[1.0,\"#f0f921\"]]}],\"heatmapgl\":[{\"type\":\"heatmapgl\",\"colorbar\":{\"outlinewidth\":0,\"ticks\":\"\"},\"colorscale\":[[0.0,\"#0d0887\"],[0.1111111111111111,\"#46039f\"],[0.2222222222222222,\"#7201a8\"],[0.3333333333333333,\"#9c179e\"],[0.4444444444444444,\"#bd3786\"],[0.5555555555555556,\"#d8576b\"],[0.6666666666666666,\"#ed7953\"],[0.7777777777777778,\"#fb9f3a\"],[0.8888888888888888,\"#fdca26\"],[1.0,\"#f0f921\"]]}],\"contourcarpet\":[{\"type\":\"contourcarpet\",\"colorbar\":{\"outlinewidth\":0,\"ticks\":\"\"}}],\"contour\":[{\"type\":\"contour\",\"colorbar\":{\"outlinewidth\":0,\"ticks\":\"\"},\"colorscale\":[[0.0,\"#0d0887\"],[0.1111111111111111,\"#46039f\"],[0.2222222222222222,\"#7201a8\"],[0.3333333333333333,\"#9c179e\"],[0.4444444444444444,\"#bd3786\"],[0.5555555555555556,\"#d8576b\"],[0.6666666666666666,\"#ed7953\"],[0.7777777777777778,\"#fb9f3a\"],[0.8888888888888888,\"#fdca26\"],[1.0,\"#f0f921\"]]}],\"surface\":[{\"type\":\"surface\",\"colorbar\":{\"outlinewidth\":0,\"ticks\":\"\"},\"colorscale\":[[0.0,\"#0d0887\"],[0.1111111111111111,\"#46039f\"],[0.2222222222222222,\"#7201a8\"],[0.3333333333333333,\"#9c179e\"],[0.4444444444444444,\"#bd3786\"],[0.5555555555555556,\"#d8576b\"],[0.6666666666666666,\"#ed7953\"],[0.7777777777777778,\"#fb9f3a\"],[0.8888888888888888,\"#fdca26\"],[1.0,\"#f0f921\"]]}],\"mesh3d\":[{\"type\":\"mesh3d\",\"colorbar\":{\"outlinewidth\":0,\"ticks\":\"\"}}],\"scatter\":[{\"fillpattern\":{\"fillmode\":\"overlay\",\"size\":10,\"solidity\":0.2},\"type\":\"scatter\"}],\"parcoords\":[{\"type\":\"parcoords\",\"line\":{\"colorbar\":{\"outlinewidth\":0,\"ticks\":\"\"}}}],\"scatterpolargl\":[{\"type\":\"scatterpolargl\",\"marker\":{\"colorbar\":{\"outlinewidth\":0,\"ticks\":\"\"}}}],\"bar\":[{\"error_x\":{\"color\":\"#2a3f5f\"},\"error_y\":{\"color\":\"#2a3f5f\"},\"marker\":{\"line\":{\"color\":\"#E5ECF6\",\"width\":0.5},\"pattern\":{\"fillmode\":\"overlay\",\"size\":10,\"solidity\":0.2}},\"type\":\"bar\"}],\"scattergeo\":[{\"type\":\"scattergeo\",\"marker\":{\"colorbar\":{\"outlinewidth\":0,\"ticks\":\"\"}}}],\"scatterpolar\":[{\"type\":\"scatterpolar\",\"marker\":{\"colorbar\":{\"outlinewidth\":0,\"ticks\":\"\"}}}],\"histogram\":[{\"marker\":{\"pattern\":{\"fillmode\":\"overlay\",\"size\":10,\"solidity\":0.2}},\"type\":\"histogram\"}],\"scattergl\":[{\"type\":\"scattergl\",\"marker\":{\"colorbar\":{\"outlinewidth\":0,\"ticks\":\"\"}}}],\"scatter3d\":[{\"type\":\"scatter3d\",\"line\":{\"colorbar\":{\"outlinewidth\":0,\"ticks\":\"\"}},\"marker\":{\"colorbar\":{\"outlinewidth\":0,\"ticks\":\"\"}}}],\"scattermapbox\":[{\"type\":\"scattermapbox\",\"marker\":{\"colorbar\":{\"outlinewidth\":0,\"ticks\":\"\"}}}],\"scatterternary\":[{\"type\":\"scatterternary\",\"marker\":{\"colorbar\":{\"outlinewidth\":0,\"ticks\":\"\"}}}],\"scattercarpet\":[{\"type\":\"scattercarpet\",\"marker\":{\"colorbar\":{\"outlinewidth\":0,\"ticks\":\"\"}}}],\"carpet\":[{\"aaxis\":{\"endlinecolor\":\"#2a3f5f\",\"gridcolor\":\"white\",\"linecolor\":\"white\",\"minorgridcolor\":\"white\",\"startlinecolor\":\"#2a3f5f\"},\"baxis\":{\"endlinecolor\":\"#2a3f5f\",\"gridcolor\":\"white\",\"linecolor\":\"white\",\"minorgridcolor\":\"white\",\"startlinecolor\":\"#2a3f5f\"},\"type\":\"carpet\"}],\"table\":[{\"cells\":{\"fill\":{\"color\":\"#EBF0F8\"},\"line\":{\"color\":\"white\"}},\"header\":{\"fill\":{\"color\":\"#C8D4E3\"},\"line\":{\"color\":\"white\"}},\"type\":\"table\"}],\"barpolar\":[{\"marker\":{\"line\":{\"color\":\"#E5ECF6\",\"width\":0.5},\"pattern\":{\"fillmode\":\"overlay\",\"size\":10,\"solidity\":0.2}},\"type\":\"barpolar\"}],\"pie\":[{\"automargin\":true,\"type\":\"pie\"}]},\"layout\":{\"autotypenumbers\":\"strict\",\"colorway\":[\"#636efa\",\"#EF553B\",\"#00cc96\",\"#ab63fa\",\"#FFA15A\",\"#19d3f3\",\"#FF6692\",\"#B6E880\",\"#FF97FF\",\"#FECB52\"],\"font\":{\"color\":\"#2a3f5f\"},\"hovermode\":\"closest\",\"hoverlabel\":{\"align\":\"left\"},\"paper_bgcolor\":\"white\",\"plot_bgcolor\":\"#E5ECF6\",\"polar\":{\"bgcolor\":\"#E5ECF6\",\"angularaxis\":{\"gridcolor\":\"white\",\"linecolor\":\"white\",\"ticks\":\"\"},\"radialaxis\":{\"gridcolor\":\"white\",\"linecolor\":\"white\",\"ticks\":\"\"}},\"ternary\":{\"bgcolor\":\"#E5ECF6\",\"aaxis\":{\"gridcolor\":\"white\",\"linecolor\":\"white\",\"ticks\":\"\"},\"baxis\":{\"gridcolor\":\"white\",\"linecolor\":\"white\",\"ticks\":\"\"},\"caxis\":{\"gridcolor\":\"white\",\"linecolor\":\"white\",\"ticks\":\"\"}},\"coloraxis\":{\"colorbar\":{\"outlinewidth\":0,\"ticks\":\"\"}},\"colorscale\":{\"sequential\":[[0.0,\"#0d0887\"],[0.1111111111111111,\"#46039f\"],[0.2222222222222222,\"#7201a8\"],[0.3333333333333333,\"#9c179e\"],[0.4444444444444444,\"#bd3786\"],[0.5555555555555556,\"#d8576b\"],[0.6666666666666666,\"#ed7953\"],[0.7777777777777778,\"#fb9f3a\"],[0.8888888888888888,\"#fdca26\"],[1.0,\"#f0f921\"]],\"sequentialminus\":[[0.0,\"#0d0887\"],[0.1111111111111111,\"#46039f\"],[0.2222222222222222,\"#7201a8\"],[0.3333333333333333,\"#9c179e\"],[0.4444444444444444,\"#bd3786\"],[0.5555555555555556,\"#d8576b\"],[0.6666666666666666,\"#ed7953\"],[0.7777777777777778,\"#fb9f3a\"],[0.8888888888888888,\"#fdca26\"],[1.0,\"#f0f921\"]],\"diverging\":[[0,\"#8e0152\"],[0.1,\"#c51b7d\"],[0.2,\"#de77ae\"],[0.3,\"#f1b6da\"],[0.4,\"#fde0ef\"],[0.5,\"#f7f7f7\"],[0.6,\"#e6f5d0\"],[0.7,\"#b8e186\"],[0.8,\"#7fbc41\"],[0.9,\"#4d9221\"],[1,\"#276419\"]]},\"xaxis\":{\"gridcolor\":\"white\",\"linecolor\":\"white\",\"ticks\":\"\",\"title\":{\"standoff\":15},\"zerolinecolor\":\"white\",\"automargin\":true,\"zerolinewidth\":2},\"yaxis\":{\"gridcolor\":\"white\",\"linecolor\":\"white\",\"ticks\":\"\",\"title\":{\"standoff\":15},\"zerolinecolor\":\"white\",\"automargin\":true,\"zerolinewidth\":2},\"scene\":{\"xaxis\":{\"backgroundcolor\":\"#E5ECF6\",\"gridcolor\":\"white\",\"linecolor\":\"white\",\"showbackground\":true,\"ticks\":\"\",\"zerolinecolor\":\"white\",\"gridwidth\":2},\"yaxis\":{\"backgroundcolor\":\"#E5ECF6\",\"gridcolor\":\"white\",\"linecolor\":\"white\",\"showbackground\":true,\"ticks\":\"\",\"zerolinecolor\":\"white\",\"gridwidth\":2},\"zaxis\":{\"backgroundcolor\":\"#E5ECF6\",\"gridcolor\":\"white\",\"linecolor\":\"white\",\"showbackground\":true,\"ticks\":\"\",\"zerolinecolor\":\"white\",\"gridwidth\":2}},\"shapedefaults\":{\"line\":{\"color\":\"#2a3f5f\"}},\"annotationdefaults\":{\"arrowcolor\":\"#2a3f5f\",\"arrowhead\":0,\"arrowwidth\":1},\"geo\":{\"bgcolor\":\"white\",\"landcolor\":\"#E5ECF6\",\"subunitcolor\":\"white\",\"showland\":true,\"showlakes\":true,\"lakecolor\":\"white\"},\"title\":{\"x\":0.05},\"mapbox\":{\"style\":\"light\"}}},\"xaxis\":{\"anchor\":\"y\",\"domain\":[0.0,1.0],\"title\":{\"text\":\"Frequency\"}},\"yaxis\":{\"anchor\":\"x\",\"domain\":[0.0,1.0],\"title\":{\"text\":\"words\"}},\"legend\":{\"tracegroupgap\":0},\"title\":{\"text\":\"Top 10 Trigrams in Papers published by Fabian A.C.\"},\"barmode\":\"relative\"},                        {\"responsive\": true}                    ).then(function(){\n",
       "                            \n",
       "var gd = document.getElementById('b94b9980-780b-4a5a-b335-c03b5a3bbdc3');\n",
       "var x = new MutationObserver(function (mutations, observer) {{\n",
       "        var display = window.getComputedStyle(gd).display;\n",
       "        if (!display || display === 'none') {{\n",
       "            console.log([gd, 'removed!']);\n",
       "            Plotly.purge(gd);\n",
       "            observer.disconnect();\n",
       "        }}\n",
       "}});\n",
       "\n",
       "// Listen for the removal of the full notebook cells\n",
       "var notebookContainer = gd.closest('#notebook-container');\n",
       "if (notebookContainer) {{\n",
       "    x.observe(notebookContainer, {childList: true});\n",
       "}}\n",
       "\n",
       "// Listen for the clearing of the current output cell\n",
       "var outputEl = gd.closest('.output');\n",
       "if (outputEl) {{\n",
       "    x.observe(outputEl, {childList: true});\n",
       "}}\n",
       "\n",
       "                        })                };                });            </script>        </div>"
      ]
     },
     "metadata": {},
     "output_type": "display_data"
    }
   ],
   "source": [
    "trigrams_list=[\" \".join(generateNGram(title.replace(\":\",\"\"),3)) for title in titles]\n",
    "topn=10\n",
    "top_trigrams=getMostCommon(trigrams_list,topn=topn)\n",
    "top_trigrams_df=pd.DataFrame()\n",
    "top_trigrams_df['words']=[val[0] for val in top_trigrams]\n",
    "top_trigrams_df['Frequency']=[val[1] for val in top_trigrams]\n",
    "top_trigrams_df=top_trigrams_df[top_trigrams_df[\"words\"]!=\"\"]\n",
    "px.bar(data_frame=top_trigrams_df.sort_values(\"Frequency\",ascending=True),x=\"Frequency\",y=\"words\",orientation=\"h\",title=\"Top \"+str(topn)+\" Trigrams in Papers published by Fabian A.C.\")"
   ]
  },
  {
   "cell_type": "code",
   "execution_count": 79,
   "id": "d39891cd",
   "metadata": {
    "execution": {
     "iopub.execute_input": "2022-09-16T21:11:30.820647Z",
     "iopub.status.busy": "2022-09-16T21:11:30.820153Z",
     "iopub.status.idle": "2022-09-16T21:11:30.829760Z",
     "shell.execute_reply": "2022-09-16T21:11:30.828618Z"
    },
    "papermill": {
     "duration": 0.044387,
     "end_time": "2022-09-16T21:11:30.832082",
     "exception": false,
     "start_time": "2022-09-16T21:11:30.787695",
     "status": "completed"
    },
    "tags": []
   },
   "outputs": [
    {
     "data": {
      "text/plain": [
       "['ray', 'observations', 'of', 'luminous', 'dusty', 'quasars', 'at']"
      ]
     },
     "execution_count": 79,
     "metadata": {},
     "output_type": "execute_result"
    }
   ],
   "source": [
    "tokenised_sentences=tokenise(FA_papers['title'].tolist())\n",
    "tokenised_sentences[0]"
   ]
  },
  {
   "cell_type": "code",
   "execution_count": 80,
   "id": "f7250db2",
   "metadata": {
    "execution": {
     "iopub.execute_input": "2022-09-16T21:11:30.895402Z",
     "iopub.status.busy": "2022-09-16T21:11:30.894327Z",
     "iopub.status.idle": "2022-09-16T21:11:30.975672Z",
     "shell.execute_reply": "2022-09-16T21:11:30.974386Z"
    },
    "papermill": {
     "duration": 0.116597,
     "end_time": "2022-09-16T21:11:30.978472",
     "exception": false,
     "start_time": "2022-09-16T21:11:30.861875",
     "status": "completed"
    },
    "tags": []
   },
   "outputs": [
    {
     "data": {
      "text/plain": [
       "['ray', 'observation', 'luminous', 'dusty', 'quasar']"
      ]
     },
     "execution_count": 80,
     "metadata": {},
     "output_type": "execute_result"
    }
   ],
   "source": [
    "sentences=[\" \".join(tokenised_sentence) for tokenised_sentence in tokenised_sentences]\n",
    "lemmatised_sentences=[lemmatise(sentence,stop_words) for sentence in sentences]\n",
    "lemmatised_sentences[0]"
   ]
  },
  {
   "cell_type": "code",
   "execution_count": 81,
   "id": "67da4918",
   "metadata": {
    "execution": {
     "iopub.execute_input": "2022-09-16T21:11:31.042074Z",
     "iopub.status.busy": "2022-09-16T21:11:31.040927Z",
     "iopub.status.idle": "2022-09-16T21:11:31.051713Z",
     "shell.execute_reply": "2022-09-16T21:11:31.050385Z"
    },
    "papermill": {
     "duration": 0.045495,
     "end_time": "2022-09-16T21:11:31.054033",
     "exception": false,
     "start_time": "2022-09-16T21:11:31.008538",
     "status": "completed"
    },
    "tags": []
   },
   "outputs": [],
   "source": [
    "# Build the bigram and trigram models\n",
    "bigram = gensim.models.Phrases(lemmatised_sentences,min_count=2) \n",
    "trigram = gensim.models.Phrases(bigram[lemmatised_sentences],min_count=2)  \n",
    "\n",
    "bigram_mod = gensim.models.phrases.Phraser(bigram)\n",
    "trigram_mod = gensim.models.phrases.Phraser(trigram)"
   ]
  },
  {
   "cell_type": "code",
   "execution_count": 82,
   "id": "53b721b3",
   "metadata": {
    "execution": {
     "iopub.execute_input": "2022-09-16T21:11:31.116339Z",
     "iopub.status.busy": "2022-09-16T21:11:31.115885Z",
     "iopub.status.idle": "2022-09-16T21:11:31.122285Z",
     "shell.execute_reply": "2022-09-16T21:11:31.120484Z"
    },
    "papermill": {
     "duration": 0.040759,
     "end_time": "2022-09-16T21:11:31.124695",
     "exception": false,
     "start_time": "2022-09-16T21:11:31.083936",
     "status": "completed"
    },
    "tags": []
   },
   "outputs": [],
   "source": [
    "bigrams_words=[bigram_mod[sentence] for sentence in lemmatised_sentences]\n",
    "\n",
    "trigrams_words=[trigram_mod[sentence] for sentence in bigrams_words]"
   ]
  },
  {
   "cell_type": "code",
   "execution_count": 83,
   "id": "15dd8707",
   "metadata": {
    "execution": {
     "iopub.execute_input": "2022-09-16T21:11:31.187391Z",
     "iopub.status.busy": "2022-09-16T21:11:31.186912Z",
     "iopub.status.idle": "2022-09-16T21:11:31.197571Z",
     "shell.execute_reply": "2022-09-16T21:11:31.196172Z"
    },
    "papermill": {
     "duration": 0.044495,
     "end_time": "2022-09-16T21:11:31.199880",
     "exception": false,
     "start_time": "2022-09-16T21:11:31.155385",
     "status": "completed"
    },
    "tags": []
   },
   "outputs": [
    {
     "data": {
      "text/plain": [
       "[('dusty', 1), ('luminous', 1), ('observation', 1), ('quasar', 1), ('ray', 1)]"
      ]
     },
     "execution_count": 83,
     "metadata": {},
     "output_type": "execute_result"
    }
   ],
   "source": [
    "id2word = corpora.Dictionary(trigrams_words)\n",
    "corpus = [id2word.doc2bow(text) for text in trigrams_words]\n",
    "[(id2word[id], freq) for id, freq in corpus[0]] "
   ]
  },
  {
   "cell_type": "code",
   "execution_count": 84,
   "id": "8efc32d0",
   "metadata": {
    "execution": {
     "iopub.execute_input": "2022-09-16T21:11:31.263903Z",
     "iopub.status.busy": "2022-09-16T21:11:31.263442Z",
     "iopub.status.idle": "2022-09-16T21:11:35.584477Z",
     "shell.execute_reply": "2022-09-16T21:11:35.582708Z"
    },
    "papermill": {
     "duration": 4.356489,
     "end_time": "2022-09-16T21:11:35.587424",
     "exception": false,
     "start_time": "2022-09-16T21:11:31.230935",
     "status": "completed"
    },
    "tags": []
   },
   "outputs": [
    {
     "data": {
      "image/png": "[encoded data removed]",
      "text/plain": [
       "<Figure size 432x288 with 1 Axes>"
      ]
     },
     "metadata": {
      "needs_background": "light"
     },
     "output_type": "display_data"
    }
   ],
   "source": [
    "models,coherence=compute_coherence_values(id2word,corpus,trigrams_words,limit=20,start=2,step=2)\n",
    "x = range(2, 20, 2)\n",
    "plt.plot(x, coherence)\n",
    "plt.xlabel(\"Num Topics\")\n",
    "plt.ylabel(\"Coherence score\")\n",
    "plt.legend((\"coherence_values\"), loc='best')\n",
    "plt.show()"
   ]
  },
  {
   "cell_type": "code",
   "execution_count": 85,
   "id": "30f19fd9",
   "metadata": {
    "execution": {
     "iopub.execute_input": "2022-09-16T21:11:35.652247Z",
     "iopub.status.busy": "2022-09-16T21:11:35.651006Z",
     "iopub.status.idle": "2022-09-16T21:11:35.711666Z",
     "shell.execute_reply": "2022-09-16T21:11:35.710209Z"
    },
    "papermill": {
     "duration": 0.096795,
     "end_time": "2022-09-16T21:11:35.714818",
     "exception": false,
     "start_time": "2022-09-16T21:11:35.618023",
     "status": "completed"
    },
    "tags": []
   },
   "outputs": [],
   "source": [
    "lda_model = gensim.models.ldamodel.LdaModel(corpus=corpus,\n",
    "                                           id2word=id2word,\n",
    "                                           num_topics=2, \n",
    "                                           random_state=100,\n",
    "                                           update_every=1,\n",
    "                                           chunksize=20,\n",
    "                                           passes=10,\n",
    "                                           alpha='auto',\n",
    "                                           per_word_topics=True)"
   ]
  },
  {
   "cell_type": "code",
   "execution_count": 86,
   "id": "b86003cd",
   "metadata": {
    "execution": {
     "iopub.execute_input": "2022-09-16T21:11:35.779672Z",
     "iopub.status.busy": "2022-09-16T21:11:35.779243Z",
     "iopub.status.idle": "2022-09-16T21:11:35.787044Z",
     "shell.execute_reply": "2022-09-16T21:11:35.785631Z"
    },
    "papermill": {
     "duration": 0.043873,
     "end_time": "2022-09-16T21:11:35.789960",
     "exception": false,
     "start_time": "2022-09-16T21:11:35.746087",
     "status": "completed"
    },
    "tags": []
   },
   "outputs": [
    {
     "name": "stdout",
     "output_type": "stream",
     "text": [
      "[(0, '0.049*\"cluster\" + 0.049*\"ray\" + 0.049*\"cold\" + 0.049*\"front\" + 0.029*\"black\" + 0.029*\"around\" + 0.029*\"hole\" + 0.029*\"venture\" + 0.029*\"plunge\" + 0.029*\"region\"'), (1, '0.041*\"observation\" + 0.040*\"hole\" + 0.040*\"around\" + 0.040*\"black\" + 0.040*\"radiation\" + 0.040*\"strong\" + 0.040*\"reverberation\" + 0.040*\"gravity\" + 0.040*\"accretion\" + 0.040*\"return\"')]\n"
     ]
    }
   ],
   "source": [
    "print(lda_model.print_topics())\n",
    "doc_lda = lda_model[corpus]"
   ]
  },
  {
   "cell_type": "code",
   "execution_count": 87,
   "id": "e2cbacd4",
   "metadata": {
    "execution": {
     "iopub.execute_input": "2022-09-16T21:11:35.855277Z",
     "iopub.status.busy": "2022-09-16T21:11:35.853931Z",
     "iopub.status.idle": "2022-09-16T21:11:36.148980Z",
     "shell.execute_reply": "2022-09-16T21:11:36.147603Z"
    },
    "papermill": {
     "duration": 0.331209,
     "end_time": "2022-09-16T21:11:36.151724",
     "exception": false,
     "start_time": "2022-09-16T21:11:35.820515",
     "status": "completed"
    },
    "tags": []
   },
   "outputs": [
    {
     "name": "stdout",
     "output_type": "stream",
     "text": [
      "\n",
      "Perplexity:  -4.162381958061208\n",
      "\n",
      "Coherence Score:  0.33613797439710713\n"
     ]
    }
   ],
   "source": [
    "print('\\nPerplexity: ', lda_model.log_perplexity(corpus))  \n",
    "\n",
    "# Compute Coherence Score\n",
    "coherence_model_lda = CoherenceModel(model=lda_model, texts=trigrams_words, dictionary=id2word, coherence='c_v')\n",
    "coherence_lda = coherence_model_lda.get_coherence()\n",
    "print('\\nCoherence Score: ', coherence_lda)"
   ]
  },
  {
   "cell_type": "code",
   "execution_count": 88,
   "id": "f63ea76a",
   "metadata": {
    "execution": {
     "iopub.execute_input": "2022-09-16T21:11:36.217416Z",
     "iopub.status.busy": "2022-09-16T21:11:36.215958Z",
     "iopub.status.idle": "2022-09-16T21:11:36.262885Z",
     "shell.execute_reply": "2022-09-16T21:11:36.261240Z"
    },
    "papermill": {
     "duration": 0.082683,
     "end_time": "2022-09-16T21:11:36.265721",
     "exception": false,
     "start_time": "2022-09-16T21:11:36.183038",
     "status": "completed"
    },
    "tags": []
   },
   "outputs": [
    {
     "data": {
      "text/html": [
       "<div>\n",
       "<style scoped>\n",
       "    .dataframe tbody tr th:only-of-type {\n",
       "        vertical-align: middle;\n",
       "    }\n",
       "\n",
       "    .dataframe tbody tr th {\n",
       "        vertical-align: top;\n",
       "    }\n",
       "\n",
       "    .dataframe thead th {\n",
       "        text-align: right;\n",
       "    }\n",
       "</style>\n",
       "<table border=\"1\" class=\"dataframe\">\n",
       "  <thead>\n",
       "    <tr style=\"text-align: right;\">\n",
       "      <th></th>\n",
       "      <th>Document_No</th>\n",
       "      <th>Dominant_Topic</th>\n",
       "      <th>Topic_Perc_Contrib</th>\n",
       "      <th>Keywords</th>\n",
       "      <th>Text</th>\n",
       "    </tr>\n",
       "  </thead>\n",
       "  <tbody>\n",
       "    <tr>\n",
       "      <th>0</th>\n",
       "      <td>0</td>\n",
       "      <td>0.0</td>\n",
       "      <td>0.9829</td>\n",
       "      <td>cluster, ray, cold, front, black, around, hole...</td>\n",
       "      <td>X-ray Observations of Luminous Dusty Quasars a...</td>\n",
       "    </tr>\n",
       "    <tr>\n",
       "      <th>1</th>\n",
       "      <td>1</td>\n",
       "      <td>0.0</td>\n",
       "      <td>0.9920</td>\n",
       "      <td>cluster, ray, cold, front, black, around, hole...</td>\n",
       "      <td>Venturing beyond the ISCO: Detecting X-ray emi...</td>\n",
       "    </tr>\n",
       "    <tr>\n",
       "      <th>2</th>\n",
       "      <td>2</td>\n",
       "      <td>0.0</td>\n",
       "      <td>0.9876</td>\n",
       "      <td>cluster, ray, cold, front, black, around, hole...</td>\n",
       "      <td>Is there an enormous cold front at the virial ...</td>\n",
       "    </tr>\n",
       "    <tr>\n",
       "      <th>3</th>\n",
       "      <td>3</td>\n",
       "      <td>1.0</td>\n",
       "      <td>0.9847</td>\n",
       "      <td>observation, hole, around, black, radiation, s...</td>\n",
       "      <td>Returning radiation in strong gravity around b...</td>\n",
       "    </tr>\n",
       "    <tr>\n",
       "      <th>4</th>\n",
       "      <td>4</td>\n",
       "      <td>1.0</td>\n",
       "      <td>0.9784</td>\n",
       "      <td>observation, hole, around, black, radiation, s...</td>\n",
       "      <td>AGN-driven galactic outflows: comparing models...</td>\n",
       "    </tr>\n",
       "    <tr>\n",
       "      <th>5</th>\n",
       "      <td>5</td>\n",
       "      <td>0.0</td>\n",
       "      <td>0.9891</td>\n",
       "      <td>cluster, ray, cold, front, black, around, hole...</td>\n",
       "      <td>The interaction between rising bubbles and col...</td>\n",
       "    </tr>\n",
       "  </tbody>\n",
       "</table>\n",
       "</div>"
      ],
      "text/plain": [
       "   Document_No  Dominant_Topic  Topic_Perc_Contrib  \\\n",
       "0            0             0.0              0.9829   \n",
       "1            1             0.0              0.9920   \n",
       "2            2             0.0              0.9876   \n",
       "3            3             1.0              0.9847   \n",
       "4            4             1.0              0.9784   \n",
       "5            5             0.0              0.9891   \n",
       "\n",
       "                                            Keywords  \\\n",
       "0  cluster, ray, cold, front, black, around, hole...   \n",
       "1  cluster, ray, cold, front, black, around, hole...   \n",
       "2  cluster, ray, cold, front, black, around, hole...   \n",
       "3  observation, hole, around, black, radiation, s...   \n",
       "4  observation, hole, around, black, radiation, s...   \n",
       "5  cluster, ray, cold, front, black, around, hole...   \n",
       "\n",
       "                                                Text  \n",
       "0  X-ray Observations of Luminous Dusty Quasars a...  \n",
       "1  Venturing beyond the ISCO: Detecting X-ray emi...  \n",
       "2  Is there an enormous cold front at the virial ...  \n",
       "3  Returning radiation in strong gravity around b...  \n",
       "4  AGN-driven galactic outflows: comparing models...  \n",
       "5  The interaction between rising bubbles and col...  "
      ]
     },
     "execution_count": 88,
     "metadata": {},
     "output_type": "execute_result"
    }
   ],
   "source": [
    "df_topic_sents_keywords = format_topics_sentences(FA_papers['title'].tolist(),ldamodel=lda_model, corpus=corpus)\n",
    "\n",
    "# Format\n",
    "df_dominant_topic = df_topic_sents_keywords.reset_index()\n",
    "df_dominant_topic.columns = ['Document_No', 'Dominant_Topic', 'Topic_Perc_Contrib', 'Keywords', 'Text']\n",
    "\n",
    "# Show\n",
    "df_dominant_topic.head(10)"
   ]
  },
  {
   "cell_type": "code",
   "execution_count": 89,
   "id": "f5813bfa",
   "metadata": {
    "execution": {
     "iopub.execute_input": "2022-09-16T21:11:36.332334Z",
     "iopub.status.busy": "2022-09-16T21:11:36.330826Z",
     "iopub.status.idle": "2022-09-16T21:11:36.350220Z",
     "shell.execute_reply": "2022-09-16T21:11:36.348750Z"
    },
    "papermill": {
     "duration": 0.054698,
     "end_time": "2022-09-16T21:11:36.352588",
     "exception": false,
     "start_time": "2022-09-16T21:11:36.297890",
     "status": "completed"
    },
    "tags": []
   },
   "outputs": [
    {
     "data": {
      "text/html": [
       "<div>\n",
       "<style scoped>\n",
       "    .dataframe tbody tr th:only-of-type {\n",
       "        vertical-align: middle;\n",
       "    }\n",
       "\n",
       "    .dataframe tbody tr th {\n",
       "        vertical-align: top;\n",
       "    }\n",
       "\n",
       "    .dataframe thead th {\n",
       "        text-align: right;\n",
       "    }\n",
       "</style>\n",
       "<table border=\"1\" class=\"dataframe\">\n",
       "  <thead>\n",
       "    <tr style=\"text-align: right;\">\n",
       "      <th></th>\n",
       "      <th>Topic</th>\n",
       "      <th>Number of Documents</th>\n",
       "      <th>percentage_contribution</th>\n",
       "    </tr>\n",
       "  </thead>\n",
       "  <tbody>\n",
       "    <tr>\n",
       "      <th>0</th>\n",
       "      <td>0.0</td>\n",
       "      <td>4</td>\n",
       "      <td>66.666667</td>\n",
       "    </tr>\n",
       "    <tr>\n",
       "      <th>1</th>\n",
       "      <td>1.0</td>\n",
       "      <td>2</td>\n",
       "      <td>33.333333</td>\n",
       "    </tr>\n",
       "  </tbody>\n",
       "</table>\n",
       "</div>"
      ],
      "text/plain": [
       "   Topic  Number of Documents  percentage_contribution\n",
       "0    0.0                    4                66.666667\n",
       "1    1.0                    2                33.333333"
      ]
     },
     "execution_count": 89,
     "metadata": {},
     "output_type": "execute_result"
    }
   ],
   "source": [
    "topic_counts=df_dominant_topic['Dominant_Topic'].value_counts().reset_index().rename(columns={'index':'Topic','Dominant_Topic':'Number of Documents'})\n",
    "topic_counts['percentage_contribution']=(topic_counts['Number of Documents']/topic_counts['Number of Documents'].sum())*100\n",
    "topic_counts"
   ]
  },
  {
   "cell_type": "code",
   "execution_count": 90,
   "id": "36b4ebaa",
   "metadata": {
    "execution": {
     "iopub.execute_input": "2022-09-16T21:11:36.418367Z",
     "iopub.status.busy": "2022-09-16T21:11:36.417906Z",
     "iopub.status.idle": "2022-09-16T21:11:36.428929Z",
     "shell.execute_reply": "2022-09-16T21:11:36.427120Z"
    },
    "papermill": {
     "duration": 0.048363,
     "end_time": "2022-09-16T21:11:36.432086",
     "exception": false,
     "start_time": "2022-09-16T21:11:36.383723",
     "status": "completed"
    },
    "tags": []
   },
   "outputs": [
    {
     "name": "stdout",
     "output_type": "stream",
     "text": [
      "term                 frequency\n",
      "\n",
      "Topic 0 |---------------------\n",
      "\n",
      "cluster              0.049\n",
      "ray                  0.049\n",
      "cold                 0.049\n",
      "front                0.049\n",
      "black                0.029\n",
      "around               0.029\n",
      "hole                 0.029\n",
      "venture              0.029\n",
      "plunge               0.029\n",
      "region               0.029\n",
      "Topic 1 |---------------------\n",
      "\n",
      "observation          0.041\n",
      "hole                 0.040\n",
      "around               0.040\n",
      "black                0.040\n",
      "radiation            0.040\n",
      "strong               0.040\n",
      "reverberation        0.040\n",
      "gravity              0.040\n",
      "accretion            0.040\n",
      "return               0.040\n"
     ]
    }
   ],
   "source": [
    "num_topics=2\n",
    "\n",
    "topic_summaries = []\n",
    "print(u'{:20} {}'.format(u'term', u'frequency') + u'\\n')\n",
    "for i in range(num_topics):\n",
    "    print('Topic '+str(i)+' |---------------------\\n')\n",
    "    tmp = explore_topic(lda_model,topic_number=i, topn=10, output=True )\n",
    "    topic_summaries += [tmp[:5]]\n",
    "    print"
   ]
  },
  {
   "cell_type": "code",
   "execution_count": 91,
   "id": "005bb5dd",
   "metadata": {
    "execution": {
     "iopub.execute_input": "2022-09-16T21:11:36.498609Z",
     "iopub.status.busy": "2022-09-16T21:11:36.498158Z",
     "iopub.status.idle": "2022-09-16T21:11:36.751042Z",
     "shell.execute_reply": "2022-09-16T21:11:36.749192Z"
    },
    "papermill": {
     "duration": 0.288712,
     "end_time": "2022-09-16T21:11:36.753769",
     "exception": false,
     "start_time": "2022-09-16T21:11:36.465057",
     "status": "completed"
    },
    "tags": []
   },
   "outputs": [
    {
     "name": "stdout",
     "output_type": "stream",
     "text": [
      "[t-SNE] Computing 5 nearest neighbors...\n",
      "[t-SNE] Indexed 6 samples in 0.000s...\n",
      "[t-SNE] Computed neighbors for 6 samples in 0.001s...\n",
      "[t-SNE] Computed conditional probabilities for sample 6 / 6\n",
      "[t-SNE] Mean sigma: 1125899906842624.000000\n"
     ]
    },
    {
     "name": "stderr",
     "output_type": "stream",
     "text": [
      "/opt/conda/lib/python3.7/site-packages/sklearn/manifold/_t_sne.py:793: FutureWarning:\n",
      "\n",
      "The default learning rate in TSNE will change from 200.0 to 'auto' in 1.2.\n",
      "\n",
      "/opt/conda/lib/python3.7/site-packages/sklearn/manifold/_t_sne.py:986: FutureWarning:\n",
      "\n",
      "The PCA initialization in TSNE will change to have the standard deviation of PC1 equal to 1e-4 in 1.2. This will ensure better convergence.\n",
      "\n"
     ]
    },
    {
     "name": "stdout",
     "output_type": "stream",
     "text": [
      "[t-SNE] KL divergence after 250 iterations with early exaggeration: 39.888863\n",
      "[t-SNE] KL divergence after 650 iterations: 0.203411\n"
     ]
    }
   ],
   "source": [
    "# topic weights\n",
    "topic_weights = []\n",
    "for i, row_list in enumerate(lda_model[corpus]):\n",
    "    topic_weights.append([w for i, w in row_list[0]])\n",
    "\n",
    "# Array of topic weights    \n",
    "arr = pd.DataFrame(topic_weights).fillna(0).values\n",
    "\n",
    "\n",
    "# Dominant topic number in each doc\n",
    "topic_num = np.argmax(arr, axis=1)\n",
    "\n",
    "# tSNE Dimension Reduction\n",
    "tsne_model = TSNE(n_components=2, verbose=1, random_state=0, angle=.99, init='pca')\n",
    "tsne_lda = tsne_model.fit_transform(arr)"
   ]
  },
  {
   "cell_type": "code",
   "execution_count": 92,
   "id": "09b35fb1",
   "metadata": {
    "execution": {
     "iopub.execute_input": "2022-09-16T21:11:36.824073Z",
     "iopub.status.busy": "2022-09-16T21:11:36.822540Z",
     "iopub.status.idle": "2022-09-16T21:11:36.849825Z",
     "shell.execute_reply": "2022-09-16T21:11:36.848529Z"
    },
    "papermill": {
     "duration": 0.0634,
     "end_time": "2022-09-16T21:11:36.852286",
     "exception": false,
     "start_time": "2022-09-16T21:11:36.788886",
     "status": "completed"
    },
    "tags": []
   },
   "outputs": [
    {
     "data": {
      "text/html": [
       "<div>\n",
       "<style scoped>\n",
       "    .dataframe tbody tr th:only-of-type {\n",
       "        vertical-align: middle;\n",
       "    }\n",
       "\n",
       "    .dataframe tbody tr th {\n",
       "        vertical-align: top;\n",
       "    }\n",
       "\n",
       "    .dataframe thead th {\n",
       "        text-align: right;\n",
       "    }\n",
       "</style>\n",
       "<table border=\"1\" class=\"dataframe\">\n",
       "  <thead>\n",
       "    <tr style=\"text-align: right;\">\n",
       "      <th></th>\n",
       "      <th>Text</th>\n",
       "      <th>tsne_x</th>\n",
       "      <th>tsne_y</th>\n",
       "      <th>Topic_No</th>\n",
       "      <th>Document_No</th>\n",
       "      <th>Dominant_Topic</th>\n",
       "      <th>Topic_Perc_Contrib</th>\n",
       "      <th>Keywords</th>\n",
       "    </tr>\n",
       "  </thead>\n",
       "  <tbody>\n",
       "    <tr>\n",
       "      <th>0</th>\n",
       "      <td>X-ray Observations of Luminous Dusty Quasars a...</td>\n",
       "      <td>1480.554810</td>\n",
       "      <td>-41.775837</td>\n",
       "      <td>0</td>\n",
       "      <td>0</td>\n",
       "      <td>0.0</td>\n",
       "      <td>0.9829</td>\n",
       "      <td>cluster, ray, cold, front, black, around, hole...</td>\n",
       "    </tr>\n",
       "    <tr>\n",
       "      <th>1</th>\n",
       "      <td>Venturing beyond the ISCO: Detecting X-ray emi...</td>\n",
       "      <td>532.256348</td>\n",
       "      <td>80.125275</td>\n",
       "      <td>0</td>\n",
       "      <td>1</td>\n",
       "      <td>0.0</td>\n",
       "      <td>0.9920</td>\n",
       "      <td>cluster, ray, cold, front, black, around, hole...</td>\n",
       "    </tr>\n",
       "    <tr>\n",
       "      <th>2</th>\n",
       "      <td>Is there an enormous cold front at the virial ...</td>\n",
       "      <td>-249.562119</td>\n",
       "      <td>-1556.075317</td>\n",
       "      <td>0</td>\n",
       "      <td>2</td>\n",
       "      <td>0.0</td>\n",
       "      <td>0.9876</td>\n",
       "      <td>cluster, ray, cold, front, black, around, hole...</td>\n",
       "    </tr>\n",
       "    <tr>\n",
       "      <th>3</th>\n",
       "      <td>Returning radiation in strong gravity around b...</td>\n",
       "      <td>-501.156677</td>\n",
       "      <td>375.377319</td>\n",
       "      <td>1</td>\n",
       "      <td>3</td>\n",
       "      <td>1.0</td>\n",
       "      <td>0.9847</td>\n",
       "      <td>observation, hole, around, black, radiation, s...</td>\n",
       "    </tr>\n",
       "    <tr>\n",
       "      <th>4</th>\n",
       "      <td>AGN-driven galactic outflows: comparing models...</td>\n",
       "      <td>-48.942532</td>\n",
       "      <td>-624.956909</td>\n",
       "      <td>1</td>\n",
       "      <td>4</td>\n",
       "      <td>1.0</td>\n",
       "      <td>0.9784</td>\n",
       "      <td>observation, hole, around, black, radiation, s...</td>\n",
       "    </tr>\n",
       "  </tbody>\n",
       "</table>\n",
       "</div>"
      ],
      "text/plain": [
       "                                                Text       tsne_x  \\\n",
       "0  X-ray Observations of Luminous Dusty Quasars a...  1480.554810   \n",
       "1  Venturing beyond the ISCO: Detecting X-ray emi...   532.256348   \n",
       "2  Is there an enormous cold front at the virial ...  -249.562119   \n",
       "3  Returning radiation in strong gravity around b...  -501.156677   \n",
       "4  AGN-driven galactic outflows: comparing models...   -48.942532   \n",
       "\n",
       "        tsne_y  Topic_No  Document_No  Dominant_Topic  Topic_Perc_Contrib  \\\n",
       "0   -41.775837         0            0             0.0              0.9829   \n",
       "1    80.125275         0            1             0.0              0.9920   \n",
       "2 -1556.075317         0            2             0.0              0.9876   \n",
       "3   375.377319         1            3             1.0              0.9847   \n",
       "4  -624.956909         1            4             1.0              0.9784   \n",
       "\n",
       "                                            Keywords  \n",
       "0  cluster, ray, cold, front, black, around, hole...  \n",
       "1  cluster, ray, cold, front, black, around, hole...  \n",
       "2  cluster, ray, cold, front, black, around, hole...  \n",
       "3  observation, hole, around, black, radiation, s...  \n",
       "4  observation, hole, around, black, radiation, s...  "
      ]
     },
     "execution_count": 92,
     "metadata": {},
     "output_type": "execute_result"
    }
   ],
   "source": [
    "sent_topics_df=pd.DataFrame()\n",
    "sent_topics_df['Text']=FA_papers['title'].tolist()\n",
    "sent_topics_df['tsne_x']=tsne_lda[:,0]\n",
    "sent_topics_df['tsne_y']=tsne_lda[:,1]\n",
    "sent_topics_df['Topic_No']=topic_num\n",
    "sent_topics_df=pd.merge(sent_topics_df,df_dominant_topic,on=\"Text\")\n",
    "sent_topics_df.head()"
   ]
  },
  {
   "cell_type": "code",
   "execution_count": 93,
   "id": "e9f9ffa6",
   "metadata": {
    "execution": {
     "iopub.execute_input": "2022-09-16T21:11:36.920727Z",
     "iopub.status.busy": "2022-09-16T21:11:36.919065Z",
     "iopub.status.idle": "2022-09-16T21:11:36.995276Z",
     "shell.execute_reply": "2022-09-16T21:11:36.994068Z"
    },
    "papermill": {
     "duration": 0.113031,
     "end_time": "2022-09-16T21:11:36.998160",
     "exception": false,
     "start_time": "2022-09-16T21:11:36.885129",
     "status": "completed"
    },
    "tags": []
   },
   "outputs": [
    {
     "data": {
      "text/html": [
       "<div>                            <div id=\"845b24cc-27cf-400d-a286-e780a073e65b\" class=\"plotly-graph-div\" style=\"height:525px; width:100%;\"></div>            <script type=\"text/javascript\">                require([\"plotly\"], function(Plotly) {                    window.PLOTLYENV=window.PLOTLYENV || {};                                    if (document.getElementById(\"845b24cc-27cf-400d-a286-e780a073e65b\")) {                    Plotly.newPlot(                        \"845b24cc-27cf-400d-a286-e780a073e65b\",                        [{\"customdata\":[[0.9829],[0.992],[0.9876],[0.9847],[0.9784],[0.9891]],\"hovertemplate\":\"tsne_x=%{x}<br>tsne_y=%{y}<br>Topic_Perc_Contrib=%{customdata[0]}<br>Topic_No=%{marker.color}<extra></extra>\",\"legendgroup\":\"\",\"marker\":{\"color\":[0,0,0,1,1,0],\"coloraxis\":\"coloraxis\",\"symbol\":\"circle\"},\"mode\":\"markers\",\"name\":\"\",\"orientation\":\"v\",\"showlegend\":false,\"x\":[1480.5548,532.25635,-249.56212,-501.15668,-48.94253,539.45685],\"xaxis\":\"x\",\"y\":[-41.775837,80.125275,-1556.0753,375.37732,-624.9569,1125.4907],\"yaxis\":\"y\",\"type\":\"scatter\"}],                        {\"template\":{\"data\":{\"histogram2dcontour\":[{\"type\":\"histogram2dcontour\",\"colorbar\":{\"outlinewidth\":0,\"ticks\":\"\"},\"colorscale\":[[0.0,\"#0d0887\"],[0.1111111111111111,\"#46039f\"],[0.2222222222222222,\"#7201a8\"],[0.3333333333333333,\"#9c179e\"],[0.4444444444444444,\"#bd3786\"],[0.5555555555555556,\"#d8576b\"],[0.6666666666666666,\"#ed7953\"],[0.7777777777777778,\"#fb9f3a\"],[0.8888888888888888,\"#fdca26\"],[1.0,\"#f0f921\"]]}],\"choropleth\":[{\"type\":\"choropleth\",\"colorbar\":{\"outlinewidth\":0,\"ticks\":\"\"}}],\"histogram2d\":[{\"type\":\"histogram2d\",\"colorbar\":{\"outlinewidth\":0,\"ticks\":\"\"},\"colorscale\":[[0.0,\"#0d0887\"],[0.1111111111111111,\"#46039f\"],[0.2222222222222222,\"#7201a8\"],[0.3333333333333333,\"#9c179e\"],[0.4444444444444444,\"#bd3786\"],[0.5555555555555556,\"#d8576b\"],[0.6666666666666666,\"#ed7953\"],[0.7777777777777778,\"#fb9f3a\"],[0.8888888888888888,\"#fdca26\"],[1.0,\"#f0f921\"]]}],\"heatmap\":[{\"type\":\"heatmap\",\"colorbar\":{\"outlinewidth\":0,\"ticks\":\"\"},\"colorscale\":[[0.0,\"#0d0887\"],[0.1111111111111111,\"#46039f\"],[0.2222222222222222,\"#7201a8\"],[0.3333333333333333,\"#9c179e\"],[0.4444444444444444,\"#bd3786\"],[0.5555555555555556,\"#d8576b\"],[0.6666666666666666,\"#ed7953\"],[0.7777777777777778,\"#fb9f3a\"],[0.8888888888888888,\"#fdca26\"],[1.0,\"#f0f921\"]]}],\"heatmapgl\":[{\"type\":\"heatmapgl\",\"colorbar\":{\"outlinewidth\":0,\"ticks\":\"\"},\"colorscale\":[[0.0,\"#0d0887\"],[0.1111111111111111,\"#46039f\"],[0.2222222222222222,\"#7201a8\"],[0.3333333333333333,\"#9c179e\"],[0.4444444444444444,\"#bd3786\"],[0.5555555555555556,\"#d8576b\"],[0.6666666666666666,\"#ed7953\"],[0.7777777777777778,\"#fb9f3a\"],[0.8888888888888888,\"#fdca26\"],[1.0,\"#f0f921\"]]}],\"contourcarpet\":[{\"type\":\"contourcarpet\",\"colorbar\":{\"outlinewidth\":0,\"ticks\":\"\"}}],\"contour\":[{\"type\":\"contour\",\"colorbar\":{\"outlinewidth\":0,\"ticks\":\"\"},\"colorscale\":[[0.0,\"#0d0887\"],[0.1111111111111111,\"#46039f\"],[0.2222222222222222,\"#7201a8\"],[0.3333333333333333,\"#9c179e\"],[0.4444444444444444,\"#bd3786\"],[0.5555555555555556,\"#d8576b\"],[0.6666666666666666,\"#ed7953\"],[0.7777777777777778,\"#fb9f3a\"],[0.8888888888888888,\"#fdca26\"],[1.0,\"#f0f921\"]]}],\"surface\":[{\"type\":\"surface\",\"colorbar\":{\"outlinewidth\":0,\"ticks\":\"\"},\"colorscale\":[[0.0,\"#0d0887\"],[0.1111111111111111,\"#46039f\"],[0.2222222222222222,\"#7201a8\"],[0.3333333333333333,\"#9c179e\"],[0.4444444444444444,\"#bd3786\"],[0.5555555555555556,\"#d8576b\"],[0.6666666666666666,\"#ed7953\"],[0.7777777777777778,\"#fb9f3a\"],[0.8888888888888888,\"#fdca26\"],[1.0,\"#f0f921\"]]}],\"mesh3d\":[{\"type\":\"mesh3d\",\"colorbar\":{\"outlinewidth\":0,\"ticks\":\"\"}}],\"scatter\":[{\"fillpattern\":{\"fillmode\":\"overlay\",\"size\":10,\"solidity\":0.2},\"type\":\"scatter\"}],\"parcoords\":[{\"type\":\"parcoords\",\"line\":{\"colorbar\":{\"outlinewidth\":0,\"ticks\":\"\"}}}],\"scatterpolargl\":[{\"type\":\"scatterpolargl\",\"marker\":{\"colorbar\":{\"outlinewidth\":0,\"ticks\":\"\"}}}],\"bar\":[{\"error_x\":{\"color\":\"#2a3f5f\"},\"error_y\":{\"color\":\"#2a3f5f\"},\"marker\":{\"line\":{\"color\":\"#E5ECF6\",\"width\":0.5},\"pattern\":{\"fillmode\":\"overlay\",\"size\":10,\"solidity\":0.2}},\"type\":\"bar\"}],\"scattergeo\":[{\"type\":\"scattergeo\",\"marker\":{\"colorbar\":{\"outlinewidth\":0,\"ticks\":\"\"}}}],\"scatterpolar\":[{\"type\":\"scatterpolar\",\"marker\":{\"colorbar\":{\"outlinewidth\":0,\"ticks\":\"\"}}}],\"histogram\":[{\"marker\":{\"pattern\":{\"fillmode\":\"overlay\",\"size\":10,\"solidity\":0.2}},\"type\":\"histogram\"}],\"scattergl\":[{\"type\":\"scattergl\",\"marker\":{\"colorbar\":{\"outlinewidth\":0,\"ticks\":\"\"}}}],\"scatter3d\":[{\"type\":\"scatter3d\",\"line\":{\"colorbar\":{\"outlinewidth\":0,\"ticks\":\"\"}},\"marker\":{\"colorbar\":{\"outlinewidth\":0,\"ticks\":\"\"}}}],\"scattermapbox\":[{\"type\":\"scattermapbox\",\"marker\":{\"colorbar\":{\"outlinewidth\":0,\"ticks\":\"\"}}}],\"scatterternary\":[{\"type\":\"scatterternary\",\"marker\":{\"colorbar\":{\"outlinewidth\":0,\"ticks\":\"\"}}}],\"scattercarpet\":[{\"type\":\"scattercarpet\",\"marker\":{\"colorbar\":{\"outlinewidth\":0,\"ticks\":\"\"}}}],\"carpet\":[{\"aaxis\":{\"endlinecolor\":\"#2a3f5f\",\"gridcolor\":\"white\",\"linecolor\":\"white\",\"minorgridcolor\":\"white\",\"startlinecolor\":\"#2a3f5f\"},\"baxis\":{\"endlinecolor\":\"#2a3f5f\",\"gridcolor\":\"white\",\"linecolor\":\"white\",\"minorgridcolor\":\"white\",\"startlinecolor\":\"#2a3f5f\"},\"type\":\"carpet\"}],\"table\":[{\"cells\":{\"fill\":{\"color\":\"#EBF0F8\"},\"line\":{\"color\":\"white\"}},\"header\":{\"fill\":{\"color\":\"#C8D4E3\"},\"line\":{\"color\":\"white\"}},\"type\":\"table\"}],\"barpolar\":[{\"marker\":{\"line\":{\"color\":\"#E5ECF6\",\"width\":0.5},\"pattern\":{\"fillmode\":\"overlay\",\"size\":10,\"solidity\":0.2}},\"type\":\"barpolar\"}],\"pie\":[{\"automargin\":true,\"type\":\"pie\"}]},\"layout\":{\"autotypenumbers\":\"strict\",\"colorway\":[\"#636efa\",\"#EF553B\",\"#00cc96\",\"#ab63fa\",\"#FFA15A\",\"#19d3f3\",\"#FF6692\",\"#B6E880\",\"#FF97FF\",\"#FECB52\"],\"font\":{\"color\":\"#2a3f5f\"},\"hovermode\":\"closest\",\"hoverlabel\":{\"align\":\"left\"},\"paper_bgcolor\":\"white\",\"plot_bgcolor\":\"#E5ECF6\",\"polar\":{\"bgcolor\":\"#E5ECF6\",\"angularaxis\":{\"gridcolor\":\"white\",\"linecolor\":\"white\",\"ticks\":\"\"},\"radialaxis\":{\"gridcolor\":\"white\",\"linecolor\":\"white\",\"ticks\":\"\"}},\"ternary\":{\"bgcolor\":\"#E5ECF6\",\"aaxis\":{\"gridcolor\":\"white\",\"linecolor\":\"white\",\"ticks\":\"\"},\"baxis\":{\"gridcolor\":\"white\",\"linecolor\":\"white\",\"ticks\":\"\"},\"caxis\":{\"gridcolor\":\"white\",\"linecolor\":\"white\",\"ticks\":\"\"}},\"coloraxis\":{\"colorbar\":{\"outlinewidth\":0,\"ticks\":\"\"}},\"colorscale\":{\"sequential\":[[0.0,\"#0d0887\"],[0.1111111111111111,\"#46039f\"],[0.2222222222222222,\"#7201a8\"],[0.3333333333333333,\"#9c179e\"],[0.4444444444444444,\"#bd3786\"],[0.5555555555555556,\"#d8576b\"],[0.6666666666666666,\"#ed7953\"],[0.7777777777777778,\"#fb9f3a\"],[0.8888888888888888,\"#fdca26\"],[1.0,\"#f0f921\"]],\"sequentialminus\":[[0.0,\"#0d0887\"],[0.1111111111111111,\"#46039f\"],[0.2222222222222222,\"#7201a8\"],[0.3333333333333333,\"#9c179e\"],[0.4444444444444444,\"#bd3786\"],[0.5555555555555556,\"#d8576b\"],[0.6666666666666666,\"#ed7953\"],[0.7777777777777778,\"#fb9f3a\"],[0.8888888888888888,\"#fdca26\"],[1.0,\"#f0f921\"]],\"diverging\":[[0,\"#8e0152\"],[0.1,\"#c51b7d\"],[0.2,\"#de77ae\"],[0.3,\"#f1b6da\"],[0.4,\"#fde0ef\"],[0.5,\"#f7f7f7\"],[0.6,\"#e6f5d0\"],[0.7,\"#b8e186\"],[0.8,\"#7fbc41\"],[0.9,\"#4d9221\"],[1,\"#276419\"]]},\"xaxis\":{\"gridcolor\":\"white\",\"linecolor\":\"white\",\"ticks\":\"\",\"title\":{\"standoff\":15},\"zerolinecolor\":\"white\",\"automargin\":true,\"zerolinewidth\":2},\"yaxis\":{\"gridcolor\":\"white\",\"linecolor\":\"white\",\"ticks\":\"\",\"title\":{\"standoff\":15},\"zerolinecolor\":\"white\",\"automargin\":true,\"zerolinewidth\":2},\"scene\":{\"xaxis\":{\"backgroundcolor\":\"#E5ECF6\",\"gridcolor\":\"white\",\"linecolor\":\"white\",\"showbackground\":true,\"ticks\":\"\",\"zerolinecolor\":\"white\",\"gridwidth\":2},\"yaxis\":{\"backgroundcolor\":\"#E5ECF6\",\"gridcolor\":\"white\",\"linecolor\":\"white\",\"showbackground\":true,\"ticks\":\"\",\"zerolinecolor\":\"white\",\"gridwidth\":2},\"zaxis\":{\"backgroundcolor\":\"#E5ECF6\",\"gridcolor\":\"white\",\"linecolor\":\"white\",\"showbackground\":true,\"ticks\":\"\",\"zerolinecolor\":\"white\",\"gridwidth\":2}},\"shapedefaults\":{\"line\":{\"color\":\"#2a3f5f\"}},\"annotationdefaults\":{\"arrowcolor\":\"#2a3f5f\",\"arrowhead\":0,\"arrowwidth\":1},\"geo\":{\"bgcolor\":\"white\",\"landcolor\":\"#E5ECF6\",\"subunitcolor\":\"white\",\"showland\":true,\"showlakes\":true,\"lakecolor\":\"white\"},\"title\":{\"x\":0.05},\"mapbox\":{\"style\":\"light\"}}},\"xaxis\":{\"anchor\":\"y\",\"domain\":[0.0,1.0],\"title\":{\"text\":\"tsne_x\"}},\"yaxis\":{\"anchor\":\"x\",\"domain\":[0.0,1.0],\"title\":{\"text\":\"tsne_y\"}},\"coloraxis\":{\"colorbar\":{\"title\":{\"text\":\"Topic_No\"}},\"colorscale\":[[0.0,\"#0d0887\"],[0.1111111111111111,\"#46039f\"],[0.2222222222222222,\"#7201a8\"],[0.3333333333333333,\"#9c179e\"],[0.4444444444444444,\"#bd3786\"],[0.5555555555555556,\"#d8576b\"],[0.6666666666666666,\"#ed7953\"],[0.7777777777777778,\"#fb9f3a\"],[0.8888888888888888,\"#fdca26\"],[1.0,\"#f0f921\"]]},\"legend\":{\"tracegroupgap\":0},\"margin\":{\"t\":60}},                        {\"responsive\": true}                    ).then(function(){\n",
       "                            \n",
       "var gd = document.getElementById('845b24cc-27cf-400d-a286-e780a073e65b');\n",
       "var x = new MutationObserver(function (mutations, observer) {{\n",
       "        var display = window.getComputedStyle(gd).display;\n",
       "        if (!display || display === 'none') {{\n",
       "            console.log([gd, 'removed!']);\n",
       "            Plotly.purge(gd);\n",
       "            observer.disconnect();\n",
       "        }}\n",
       "}});\n",
       "\n",
       "// Listen for the removal of the full notebook cells\n",
       "var notebookContainer = gd.closest('#notebook-container');\n",
       "if (notebookContainer) {{\n",
       "    x.observe(notebookContainer, {childList: true});\n",
       "}}\n",
       "\n",
       "// Listen for the clearing of the current output cell\n",
       "var outputEl = gd.closest('.output');\n",
       "if (outputEl) {{\n",
       "    x.observe(outputEl, {childList: true});\n",
       "}}\n",
       "\n",
       "                        })                };                });            </script>        </div>"
      ]
     },
     "metadata": {},
     "output_type": "display_data"
    }
   ],
   "source": [
    "px.scatter(x='tsne_x',y='tsne_y',data_frame=sent_topics_df,color=\"Topic_No\",hover_data=[\"Topic_Perc_Contrib\"])"
   ]
  }
 ],
 "metadata": {
  "kernelspec": {
   "display_name": "Python 3",
   "language": "python",
   "name": "python3"
  },
  "language_info": {
   "codemirror_mode": {
    "name": "ipython",
    "version": 3
   },
   "file_extension": ".py",
   "mimetype": "text/x-python",
   "name": "python",
   "nbconvert_exporter": "python",
   "pygments_lexer": "ipython3",
   "version": "3.10.8"
  },
  "papermill": {
   "default_parameters": {},
   "duration": 1004.276676,
   "end_time": "2022-09-16T21:11:39.759408",
   "environment_variables": {},
   "exception": null,
   "input_path": "__notebook__.ipynb",
   "output_path": "__notebook__.ipynb",
   "parameters": {},
   "start_time": "2022-09-16T20:54:55.482732",
   "version": "2.3.4"
  },
  "widgets": {
   "application/vnd.jupyter.widget-state+json": {
    "state": {
     "125ed763a9884d3c98d813f85bb112fb": {
      "model_module": "@jupyter-widgets/base",
      "model_module_version": "1.2.0",
      "model_name": "LayoutModel",
      "state": {
       "_model_module": "@jupyter-widgets/base",
       "_model_module_version": "1.2.0",
       "_model_name": "LayoutModel",
       "_view_count": null,
       "_view_module": "@jupyter-widgets/base",
       "_view_module_version": "1.2.0",
       "_view_name": "LayoutView",
       "align_content": null,
       "align_items": null,
       "align_self": null,
       "border": null,
       "bottom": null,
       "display": null,
       "flex": null,
       "flex_flow": null,
       "grid_area": null,
       "grid_auto_columns": null,
       "grid_auto_flow": null,
       "grid_auto_rows": null,
       "grid_column": null,
       "grid_gap": null,
       "grid_row": null,
       "grid_template_areas": null,
       "grid_template_columns": null,
       "grid_template_rows": null,
       "height": null,
       "justify_content": null,
       "justify_items": null,
       "left": null,
       "margin": null,
       "max_height": null,
       "max_width": null,
       "min_height": null,
       "min_width": null,
       "object_fit": null,
       "object_position": null,
       "order": null,
       "overflow": null,
       "overflow_x": null,
       "overflow_y": null,
       "padding": null,
       "right": null,
       "top": null,
       "visibility": null,
       "width": null
      }
     },
     "4a934fec189e4545b2c11a413aa04804": {
      "model_module": "@jupyter-widgets/controls",
      "model_module_version": "1.5.0",
      "model_name": "DescriptionStyleModel",
      "state": {
       "_model_module": "@jupyter-widgets/controls",
       "_model_module_version": "1.5.0",
       "_model_name": "DescriptionStyleModel",
       "_view_count": null,
       "_view_module": "@jupyter-widgets/base",
       "_view_module_version": "1.2.0",
       "_view_name": "StyleView",
       "description_width": ""
      }
     },
     "84b46b3a97bc4aa9b347af7cd56ce9e8": {
      "model_module": "@jupyter-widgets/base",
      "model_module_version": "1.2.0",
      "model_name": "LayoutModel",
      "state": {
       "_model_module": "@jupyter-widgets/base",
       "_model_module_version": "1.2.0",
       "_model_name": "LayoutModel",
       "_view_count": null,
       "_view_module": "@jupyter-widgets/base",
       "_view_module_version": "1.2.0",
       "_view_name": "LayoutView",
       "align_content": null,
       "align_items": null,
       "align_self": null,
       "border": null,
       "bottom": null,
       "display": null,
       "flex": null,
       "flex_flow": null,
       "grid_area": null,
       "grid_auto_columns": null,
       "grid_auto_flow": null,
       "grid_auto_rows": null,
       "grid_column": null,
       "grid_gap": null,
       "grid_row": null,
       "grid_template_areas": null,
       "grid_template_columns": null,
       "grid_template_rows": null,
       "height": null,
       "justify_content": null,
       "justify_items": null,
       "left": null,
       "margin": null,
       "max_height": null,
       "max_width": null,
       "min_height": null,
       "min_width": null,
       "object_fit": null,
       "object_position": null,
       "order": null,
       "overflow": null,
       "overflow_x": null,
       "overflow_y": null,
       "padding": null,
       "right": null,
       "top": null,
       "visibility": null,
       "width": null
      }
     },
     "9bb3423cd6cd483f846bc7cdc1e35c7e": {
      "model_module": "@jupyter-widgets/controls",
      "model_module_version": "1.5.0",
      "model_name": "DescriptionStyleModel",
      "state": {
       "_model_module": "@jupyter-widgets/controls",
       "_model_module_version": "1.5.0",
       "_model_name": "DescriptionStyleModel",
       "_view_count": null,
       "_view_module": "@jupyter-widgets/base",
       "_view_module_version": "1.2.0",
       "_view_name": "StyleView",
       "description_width": ""
      }
     },
     "a564fe3c85604d8c934bbb8e09e184a3": {
      "model_module": "@jupyter-widgets/controls",
      "model_module_version": "1.5.0",
      "model_name": "ProgressStyleModel",
      "state": {
       "_model_module": "@jupyter-widgets/controls",
       "_model_module_version": "1.5.0",
       "_model_name": "ProgressStyleModel",
       "_view_count": null,
       "_view_module": "@jupyter-widgets/base",
       "_view_module_version": "1.2.0",
       "_view_name": "StyleView",
       "bar_color": null,
       "description_width": ""
      }
     },
     "bb2fa4e1aff0417dbf75a0677d3ccf4f": {
      "model_module": "@jupyter-widgets/base",
      "model_module_version": "1.2.0",
      "model_name": "LayoutModel",
      "state": {
       "_model_module": "@jupyter-widgets/base",
       "_model_module_version": "1.2.0",
       "_model_name": "LayoutModel",
       "_view_count": null,
       "_view_module": "@jupyter-widgets/base",
       "_view_module_version": "1.2.0",
       "_view_name": "LayoutView",
       "align_content": null,
       "align_items": null,
       "align_self": null,
       "border": null,
       "bottom": null,
       "display": null,
       "flex": null,
       "flex_flow": null,
       "grid_area": null,
       "grid_auto_columns": null,
       "grid_auto_flow": null,
       "grid_auto_rows": null,
       "grid_column": null,
       "grid_gap": null,
       "grid_row": null,
       "grid_template_areas": null,
       "grid_template_columns": null,
       "grid_template_rows": null,
       "height": null,
       "justify_content": null,
       "justify_items": null,
       "left": null,
       "margin": null,
       "max_height": null,
       "max_width": null,
       "min_height": null,
       "min_width": null,
       "object_fit": null,
       "object_position": null,
       "order": null,
       "overflow": null,
       "overflow_x": null,
       "overflow_y": null,
       "padding": null,
       "right": null,
       "top": null,
       "visibility": null,
       "width": null
      }
     },
     "c0f5f71170d44c85bfec8c8375e0bb96": {
      "model_module": "@jupyter-widgets/controls",
      "model_module_version": "1.5.0",
      "model_name": "HTMLModel",
      "state": {
       "_dom_classes": [],
       "_model_module": "@jupyter-widgets/controls",
       "_model_module_version": "1.5.0",
       "_model_name": "HTMLModel",
       "_view_count": null,
       "_view_module": "@jupyter-widgets/controls",
       "_view_module_version": "1.5.0",
       "_view_name": "HTMLView",
       "description": "",
       "description_tooltip": null,
       "layout": "IPY_MODEL_125ed763a9884d3c98d813f85bb112fb",
       "placeholder": "​",
       "style": "IPY_MODEL_9bb3423cd6cd483f846bc7cdc1e35c7e",
       "value": " 7346/7346 [00:02&lt;00:00, 3506.35it/s]"
      }
     },
     "e42c115b8da34106a6de185bf7c732b8": {
      "model_module": "@jupyter-widgets/base",
      "model_module_version": "1.2.0",
      "model_name": "LayoutModel",
      "state": {
       "_model_module": "@jupyter-widgets/base",
       "_model_module_version": "1.2.0",
       "_model_name": "LayoutModel",
       "_view_count": null,
       "_view_module": "@jupyter-widgets/base",
       "_view_module_version": "1.2.0",
       "_view_name": "LayoutView",
       "align_content": null,
       "align_items": null,
       "align_self": null,
       "border": null,
       "bottom": null,
       "display": null,
       "flex": null,
       "flex_flow": null,
       "grid_area": null,
       "grid_auto_columns": null,
       "grid_auto_flow": null,
       "grid_auto_rows": null,
       "grid_column": null,
       "grid_gap": null,
       "grid_row": null,
       "grid_template_areas": null,
       "grid_template_columns": null,
       "grid_template_rows": null,
       "height": null,
       "justify_content": null,
       "justify_items": null,
       "left": null,
       "margin": null,
       "max_height": null,
       "max_width": null,
       "min_height": null,
       "min_width": null,
       "object_fit": null,
       "object_position": null,
       "order": null,
       "overflow": null,
       "overflow_x": null,
       "overflow_y": null,
       "padding": null,
       "right": null,
       "top": null,
       "visibility": null,
       "width": null
      }
     },
     "e8295c125aaa42b6b30b7ceeff7f5e94": {
      "model_module": "@jupyter-widgets/controls",
      "model_module_version": "1.5.0",
      "model_name": "HTMLModel",
      "state": {
       "_dom_classes": [],
       "_model_module": "@jupyter-widgets/controls",
       "_model_module_version": "1.5.0",
       "_model_name": "HTMLModel",
       "_view_count": null,
       "_view_module": "@jupyter-widgets/controls",
       "_view_module_version": "1.5.0",
       "_view_name": "HTMLView",
       "description": "",
       "description_tooltip": null,
       "layout": "IPY_MODEL_bb2fa4e1aff0417dbf75a0677d3ccf4f",
       "placeholder": "​",
       "style": "IPY_MODEL_4a934fec189e4545b2c11a413aa04804",
       "value": "Iterating Nodes: 100%"
      }
     },
     "f0f7a3bcf01f4022a44776be00570b1e": {
      "model_module": "@jupyter-widgets/controls",
      "model_module_version": "1.5.0",
      "model_name": "FloatProgressModel",
      "state": {
       "_dom_classes": [],
       "_model_module": "@jupyter-widgets/controls",
       "_model_module_version": "1.5.0",
       "_model_name": "FloatProgressModel",
       "_view_count": null,
       "_view_module": "@jupyter-widgets/controls",
       "_view_module_version": "1.5.0",
       "_view_name": "ProgressView",
       "bar_style": "success",
       "description": "",
       "description_tooltip": null,
       "layout": "IPY_MODEL_84b46b3a97bc4aa9b347af7cd56ce9e8",
       "max": 7346,
       "min": 0,
       "orientation": "horizontal",
       "style": "IPY_MODEL_a564fe3c85604d8c934bbb8e09e184a3",
       "value": 7346
      }
     },
     "f2d8d0ad26b644228f570254cf9e4f37": {
      "model_module": "@jupyter-widgets/controls",
      "model_module_version": "1.5.0",
      "model_name": "HBoxModel",
      "state": {
       "_dom_classes": [],
       "_model_module": "@jupyter-widgets/controls",
       "_model_module_version": "1.5.0",
       "_model_name": "HBoxModel",
       "_view_count": null,
       "_view_module": "@jupyter-widgets/controls",
       "_view_module_version": "1.5.0",
       "_view_name": "HBoxView",
       "box_style": "",
       "children": [
        "IPY_MODEL_e8295c125aaa42b6b30b7ceeff7f5e94",
        "IPY_MODEL_f0f7a3bcf01f4022a44776be00570b1e",
        "IPY_MODEL_c0f5f71170d44c85bfec8c8375e0bb96"
       ],
       "layout": "IPY_MODEL_e42c115b8da34106a6de185bf7c732b8"
      }
     }
    },
    "version_major": 2,
    "version_minor": 0
   }
  }
 },
 "nbformat": 4,
 "nbformat_minor": 5
}
